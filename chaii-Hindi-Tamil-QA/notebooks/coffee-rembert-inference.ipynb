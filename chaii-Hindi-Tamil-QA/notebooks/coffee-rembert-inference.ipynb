{
 "cells": [
  {
   "cell_type": "markdown",
   "metadata": {},
   "source": [
    "**NOTE:** This Notebook is downloaded from Kaggle and is therefore intended to be used as a Kaggle Kernel"
   ]
  },
  {
   "cell_type": "markdown",
   "id": "7fc35d7b",
   "metadata": {
    "papermill": {
     "duration": 0.009238,
     "end_time": "2021-10-23T04:16:23.744523",
     "exception": false,
     "start_time": "2021-10-23T04:16:23.735285",
     "status": "completed"
    },
    "tags": []
   },
   "source": [
    "# 📦 Packages and Basic Setup"
   ]
  },
  {
   "cell_type": "code",
   "execution_count": 1,
   "id": "44ebed97",
   "metadata": {
    "_kg_hide-input": true,
    "_kg_hide-output": true,
    "execution": {
     "iopub.execute_input": "2021-10-23T04:16:23.842132Z",
     "iopub.status.busy": "2021-10-23T04:16:23.841269Z",
     "iopub.status.idle": "2021-10-23T04:17:07.397804Z",
     "shell.execute_reply": "2021-10-23T04:17:07.396905Z",
     "shell.execute_reply.started": "2021-10-23T04:11:17.725192Z"
    },
    "papermill": {
     "duration": 43.644924,
     "end_time": "2021-10-23T04:17:07.397967",
     "exception": false,
     "start_time": "2021-10-23T04:16:23.753043",
     "status": "completed"
    },
    "tags": []
   },
   "outputs": [],
   "source": [
    "%%capture\n",
    "# -------- Offline Installs for REMBert -------- #\n",
    "!pip uninstall fsspec -qq -y\n",
    "!pip install -U --no-build-isolation --no-deps ../input/transformers-master/ -qq\n",
    "!pip install --no-index --find-links ../input/hf-datasets/wheels datasets -qq"
   ]
  },
  {
   "cell_type": "code",
   "execution_count": 2,
   "id": "04a9ede5",
   "metadata": {
    "_kg_hide-input": true,
    "_kg_hide-output": true,
    "execution": {
     "iopub.execute_input": "2021-10-23T04:17:07.422949Z",
     "iopub.status.busy": "2021-10-23T04:17:07.422182Z",
     "iopub.status.idle": "2021-10-23T04:17:17.216796Z",
     "shell.execute_reply": "2021-10-23T04:17:17.215904Z",
     "shell.execute_reply.started": "2021-10-23T04:12:03.359695Z"
    },
    "papermill": {
     "duration": 9.810453,
     "end_time": "2021-10-23T04:17:17.216932",
     "exception": false,
     "start_time": "2021-10-23T04:17:07.406479",
     "status": "completed"
    },
    "tags": []
   },
   "outputs": [
    {
     "name": "stderr",
     "output_type": "stream",
     "text": [
      "2021-10-23 04:17:13.645578: I tensorflow/stream_executor/platform/default/dso_loader.cc:49] Successfully opened dynamic library libcudart.so.11.0\n"
     ]
    }
   ],
   "source": [
    "%%capture\n",
    "# -------- Basic Packages -------- #\n",
    "import os\n",
    "import gc\n",
    "import sys\n",
    "gc.enable()\n",
    "import math\n",
    "import time\n",
    "import torch\n",
    "import numpy as np\n",
    "import pandas as pd\n",
    "from string import punctuation\n",
    "from sklearn import model_selection\n",
    "from transformers import AutoTokenizer\n",
    "from torch.utils.data import DataLoader, SequentialSampler\n",
    "\n",
    "# -------- Output Prettification ✨ -------- #\n",
    "import warnings\n",
    "warnings.filterwarnings(\"ignore\", category=UserWarning)\n",
    "from transformers import logging\n",
    "logging.set_verbosity_warning()\n",
    "logging.set_verbosity_error()\n",
    "\n",
    "# -------- Custom Library -------- #\n",
    "wrapperdir = \"../input/coffee\"\n",
    "sys.path.append(wrapperdir)\n",
    "from coffee.dataloader import Dataset\n",
    "from coffee.helpers import make_model\n",
    "from coffee.data_utils import prepare_test_features\n",
    "from coffee.utils import optimal_num_of_loader_workers"
   ]
  },
  {
   "cell_type": "markdown",
   "id": "6523d1e3",
   "metadata": {
    "papermill": {
     "duration": 0.008334,
     "end_time": "2021-10-23T04:17:17.234147",
     "exception": false,
     "start_time": "2021-10-23T04:17:17.225813",
     "status": "completed"
    },
    "tags": []
   },
   "source": [
    "# 📃 Configuration"
   ]
  },
  {
   "cell_type": "code",
   "execution_count": 3,
   "id": "d501c802",
   "metadata": {
    "execution": {
     "iopub.execute_input": "2021-10-23T04:17:17.257006Z",
     "iopub.status.busy": "2021-10-23T04:17:17.256232Z",
     "iopub.status.idle": "2021-10-23T04:17:17.258669Z",
     "shell.execute_reply": "2021-10-23T04:17:17.258252Z",
     "shell.execute_reply.started": "2021-10-23T04:12:13.259908Z"
    },
    "papermill": {
     "duration": 0.016116,
     "end_time": "2021-10-23T04:17:17.258774",
     "exception": false,
     "start_time": "2021-10-23T04:17:17.242658",
     "status": "completed"
    },
    "tags": []
   },
   "outputs": [],
   "source": [
    "CONFIG = dict(\n",
    "    # Model\n",
    "    model_type = 'rembert',\n",
    "    model_name_or_path = \"../input/rembert-pt\",\n",
    "    config_name = \"../input/rembert-pt\",\n",
    "    output_head_dropout_prob = 0.0, \n",
    "    gradient_accumulation_steps = 2,\n",
    "    # Tokenizer\n",
    "    tokenizer_name = \"../input/rembert-pt\",\n",
    "    max_seq_length = 400,\n",
    "    doc_stride = 135,\n",
    "    # Training\n",
    "    epochs = 1,\n",
    "    folds = 4,\n",
    "    train_batch_size = 2,\n",
    "    eval_batch_size = 8,\n",
    "    # Optimizer\n",
    "    optimizer_type = 'AdamW',\n",
    "    learning_rate = 1.5e-5,\n",
    "    weight_decay = 1e-2,\n",
    "    epsilon = 1e-8,\n",
    "    max_grad_norm = 1.0,\n",
    "    # Scheduler\n",
    "    decay_name = 'cosine-warmup',\n",
    "    warmup_ratio = 0.1,\n",
    "    logging_steps = 100,\n",
    "    # Misc\n",
    "    output_dir = 'output',\n",
    "    seed = 21,\n",
    "    # W&B \n",
    "    competition = 'chaii',\n",
    "    _wandb_kernel = 'sauravm'\n",
    ")"
   ]
  },
  {
   "cell_type": "markdown",
   "id": "ddd74177",
   "metadata": {
    "papermill": {
     "duration": 0.008308,
     "end_time": "2021-10-23T04:17:17.275332",
     "exception": false,
     "start_time": "2021-10-23T04:17:17.267024",
     "status": "completed"
    },
    "tags": []
   },
   "source": [
    "# 💿 Dataset"
   ]
  },
  {
   "cell_type": "code",
   "execution_count": 4,
   "id": "5aa50de2",
   "metadata": {
    "execution": {
     "iopub.execute_input": "2021-10-23T04:17:17.298128Z",
     "iopub.status.busy": "2021-10-23T04:17:17.297622Z",
     "iopub.status.idle": "2021-10-23T04:17:18.443998Z",
     "shell.execute_reply": "2021-10-23T04:17:18.444436Z",
     "shell.execute_reply.started": "2021-10-23T04:12:13.268788Z"
    },
    "papermill": {
     "duration": 1.160903,
     "end_time": "2021-10-23T04:17:18.444602",
     "exception": false,
     "start_time": "2021-10-23T04:17:17.283699",
     "status": "completed"
    },
    "tags": []
   },
   "outputs": [],
   "source": [
    "test = pd.read_csv('../input/chaii-hindi-and-tamil-question-answering/test.csv')\n",
    "base_model_path = '../input/bestrembertchaii/'\n",
    "\n",
    "tokenizer = AutoTokenizer.from_pretrained(CONFIG[\"tokenizer_name\"])\n",
    "\n",
    "test_features = []\n",
    "for i, row in test.iterrows():\n",
    "    test_features += prepare_test_features(CONFIG, row, tokenizer)\n",
    "\n",
    "args = CONFIG\n",
    "test_dataset = Dataset(test_features, mode='test')\n",
    "test_dataloader = DataLoader(\n",
    "    test_dataset,\n",
    "    batch_size=CONFIG[\"eval_batch_size\"], \n",
    "    sampler=SequentialSampler(test_dataset),\n",
    "    num_workers=optimal_num_of_loader_workers(),\n",
    "    pin_memory=True, \n",
    "    drop_last=False\n",
    ")"
   ]
  },
  {
   "cell_type": "markdown",
   "id": "51c45eaa",
   "metadata": {
    "papermill": {
     "duration": 0.008301,
     "end_time": "2021-10-23T04:17:18.461597",
     "exception": false,
     "start_time": "2021-10-23T04:17:18.453296",
     "status": "completed"
    },
    "tags": []
   },
   "source": [
    "# 🔥 Inference"
   ]
  },
  {
   "cell_type": "code",
   "execution_count": 5,
   "id": "d38fbca9",
   "metadata": {
    "execution": {
     "iopub.execute_input": "2021-10-23T04:17:18.486661Z",
     "iopub.status.busy": "2021-10-23T04:17:18.486108Z",
     "iopub.status.idle": "2021-10-23T04:20:10.769904Z",
     "shell.execute_reply": "2021-10-23T04:20:10.768961Z",
     "shell.execute_reply.started": "2021-10-23T04:12:14.443784Z"
    },
    "papermill": {
     "duration": 172.299991,
     "end_time": "2021-10-23T04:20:10.770052",
     "exception": false,
     "start_time": "2021-10-23T04:17:18.470061",
     "status": "completed"
    },
    "tags": []
   },
   "outputs": [
    {
     "name": "stdout",
     "output_type": "stream",
     "text": [
      "huggingface/tokenizers: The current process just got forked, after parallelism has already been used. Disabling parallelism to avoid deadlocks...\n",
      "To disable this warning, you can either:\n",
      "\t- Avoid using `tokenizers` before the fork if possible\n",
      "\t- Explicitly set the environment variable TOKENIZERS_PARALLELISM=(true | false)\n",
      "huggingface/tokenizers: The current process just got forked, after parallelism has already been used. Disabling parallelism to avoid deadlocks...\n",
      "To disable this warning, you can either:\n",
      "\t- Avoid using `tokenizers` before the fork if possible\n",
      "\t- Explicitly set the environment variable TOKENIZERS_PARALLELISM=(true | false)\n",
      "huggingface/tokenizers: The current process just got forked, after parallelism has already been used. Disabling parallelism to avoid deadlocks...\n",
      "To disable this warning, you can either:\n",
      "\t- Avoid using `tokenizers` before the fork if possible\n",
      "\t- Explicitly set the environment variable TOKENIZERS_PARALLELISM=(true | false)\n",
      "huggingface/tokenizers: The current process just got forked, after parallelism has already been used. Disabling parallelism to avoid deadlocks...\n",
      "To disable this warning, you can either:\n",
      "\t- Avoid using `tokenizers` before the fork if possible\n",
      "\t- Explicitly set the environment variable TOKENIZERS_PARALLELISM=(true | false)\n",
      "huggingface/tokenizers: The current process just got forked, after parallelism has already been used. Disabling parallelism to avoid deadlocks...\n",
      "To disable this warning, you can either:\n",
      "\t- Avoid using `tokenizers` before the fork if possible\n",
      "\t- Explicitly set the environment variable TOKENIZERS_PARALLELISM=(true | false)\n",
      "huggingface/tokenizers: The current process just got forked, after parallelism has already been used. Disabling parallelism to avoid deadlocks...\n",
      "To disable this warning, you can either:\n",
      "\t- Avoid using `tokenizers` before the fork if possible\n",
      "\t- Explicitly set the environment variable TOKENIZERS_PARALLELISM=(true | false)\n",
      "huggingface/tokenizers: The current process just got forked, after parallelism has already been used. Disabling parallelism to avoid deadlocks...\n",
      "To disable this warning, you can either:\n",
      "\t- Avoid using `tokenizers` before the fork if possible\n",
      "\t- Explicitly set the environment variable TOKENIZERS_PARALLELISM=(true | false)\n",
      "huggingface/tokenizers: The current process just got forked, after parallelism has already been used. Disabling parallelism to avoid deadlocks...\n",
      "To disable this warning, you can either:\n",
      "\t- Avoid using `tokenizers` before the fork if possible\n",
      "\t- Explicitly set the environment variable TOKENIZERS_PARALLELISM=(true | false)\n"
     ]
    }
   ],
   "source": [
    "%%capture\n",
    "def get_predictions(checkpoint_path):\n",
    "    config, tokenizer, model = make_model(CONFIG)\n",
    "    model.cuda();\n",
    "    model.load_state_dict(\n",
    "        torch.load(base_model_path + checkpoint_path)\n",
    "    );\n",
    "    \n",
    "    start_logits = []\n",
    "    end_logits = []\n",
    "    for batch in test_dataloader:\n",
    "        with torch.no_grad():\n",
    "            outputs_start, outputs_end = model(batch['input_ids'].cuda(), batch['attention_mask'].cuda())\n",
    "            start_logits.append(outputs_start.cpu().numpy().tolist())\n",
    "            end_logits.append(outputs_end.cpu().numpy().tolist())\n",
    "            del outputs_start, outputs_end\n",
    "    del model, tokenizer, config\n",
    "    gc.collect()\n",
    "    return np.vstack(start_logits), np.vstack(end_logits)\n",
    "\n",
    "start_logits1, end_logits1 = get_predictions('checkpoint-fold-0/pytorch_model.bin')\n",
    "start_logits2, end_logits2 = get_predictions('checkpoint-fold-1/pytorch_model.bin')\n",
    "start_logits3, end_logits3 = get_predictions('checkpoint-fold-2/pytorch_model.bin')\n",
    "start_logits4, end_logits4 = get_predictions('checkpoint-fold-3/pytorch_model.bin')\n",
    "\n",
    "start_logits = (start_logits1 + start_logits2 + start_logits3 + start_logits4) / 4\n",
    "end_logits = (end_logits1 + end_logits2 + end_logits3 + end_logits4) / 4"
   ]
  },
  {
   "cell_type": "code",
   "execution_count": 6,
   "id": "0f9eb32b",
   "metadata": {
    "_kg_hide-input": true,
    "_kg_hide-output": true,
    "execution": {
     "iopub.execute_input": "2021-10-23T04:20:10.810519Z",
     "iopub.status.busy": "2021-10-23T04:20:10.809591Z",
     "iopub.status.idle": "2021-10-23T04:20:10.841806Z",
     "shell.execute_reply": "2021-10-23T04:20:10.841029Z",
     "shell.execute_reply.started": "2021-10-23T04:15:32.512408Z"
    },
    "papermill": {
     "duration": 0.061972,
     "end_time": "2021-10-23T04:20:10.841921",
     "exception": false,
     "start_time": "2021-10-23T04:20:10.779949",
     "status": "completed"
    },
    "tags": []
   },
   "outputs": [
    {
     "name": "stdout",
     "output_type": "stream",
     "text": [
      "Post-processing 5 example predictions split into 68 features.\n"
     ]
    }
   ],
   "source": [
    "import collections\n",
    "\n",
    "def postprocess_qa_predictions(examples, features, raw_predictions, n_best_size = 20, max_answer_length = 30):\n",
    "    all_start_logits, all_end_logits = raw_predictions\n",
    "    \n",
    "    example_id_to_index = {k: i for i, k in enumerate(examples[\"id\"])}\n",
    "    features_per_example = collections.defaultdict(list)\n",
    "    for i, feature in enumerate(features):\n",
    "        features_per_example[example_id_to_index[feature[\"example_id\"]]].append(i)\n",
    "\n",
    "    predictions = collections.OrderedDict()\n",
    "\n",
    "    print(f\"Post-processing {len(examples)} example predictions split into {len(features)} features.\")\n",
    "\n",
    "    for example_index, example in examples.iterrows():\n",
    "        feature_indices = features_per_example[example_index]\n",
    "\n",
    "        min_null_score = None\n",
    "        valid_answers = []\n",
    "        \n",
    "        context = example[\"context\"]\n",
    "        for feature_index in feature_indices:\n",
    "            start_logits = all_start_logits[feature_index]\n",
    "            end_logits = all_end_logits[feature_index]\n",
    "\n",
    "            sequence_ids = features[feature_index][\"sequence_ids\"]\n",
    "            context_index = 1\n",
    "\n",
    "            features[feature_index][\"offset_mapping\"] = [\n",
    "                (o if sequence_ids[k] == context_index else None)\n",
    "                for k, o in enumerate(features[feature_index][\"offset_mapping\"])\n",
    "            ]\n",
    "            offset_mapping = features[feature_index][\"offset_mapping\"]\n",
    "            cls_index = features[feature_index][\"input_ids\"].index(tokenizer.cls_token_id)\n",
    "            feature_null_score = start_logits[cls_index] + end_logits[cls_index]\n",
    "            if min_null_score is None or min_null_score < feature_null_score:\n",
    "                min_null_score = feature_null_score\n",
    "\n",
    "            start_indexes = np.argsort(start_logits)[-1 : -n_best_size - 1 : -1].tolist()\n",
    "            end_indexes = np.argsort(end_logits)[-1 : -n_best_size - 1 : -1].tolist()\n",
    "            for start_index in start_indexes:\n",
    "                for end_index in end_indexes:\n",
    "                    if (\n",
    "                        start_index >= len(offset_mapping)\n",
    "                        or end_index >= len(offset_mapping)\n",
    "                        or offset_mapping[start_index] is None\n",
    "                        or offset_mapping[end_index] is None\n",
    "                    ):\n",
    "                        continue\n",
    "                    # Don't consider answers with a length that is either < 0 or > max_answer_length.\n",
    "                    if end_index < start_index or end_index - start_index + 1 > max_answer_length:\n",
    "                        continue\n",
    "\n",
    "                    start_char = offset_mapping[start_index][0]\n",
    "                    end_char = offset_mapping[end_index][1]\n",
    "                    valid_answers.append(\n",
    "                        {\n",
    "                            \"score\": start_logits[start_index] + end_logits[end_index],\n",
    "                            \"text\": context[start_char: end_char]\n",
    "                        }\n",
    "                    )\n",
    "        \n",
    "        if len(valid_answers) > 0:\n",
    "            best_answer = sorted(valid_answers, key=lambda x: x[\"score\"], reverse=True)[0]\n",
    "        else:\n",
    "            best_answer = {\"text\": \"\", \"score\": 0.0}\n",
    "        \n",
    "        predictions[example[\"id\"]] = best_answer[\"text\"]\n",
    "        \n",
    "        \n",
    "    return predictions\n",
    "\n",
    "predictions = postprocess_qa_predictions(test, test_features, (start_logits, end_logits))"
   ]
  },
  {
   "cell_type": "code",
   "execution_count": 7,
   "id": "66c76a37",
   "metadata": {
    "execution": {
     "iopub.execute_input": "2021-10-23T04:20:10.900118Z",
     "iopub.status.busy": "2021-10-23T04:20:10.874972Z",
     "iopub.status.idle": "2021-10-23T04:20:10.907367Z",
     "shell.execute_reply": "2021-10-23T04:20:10.906902Z",
     "shell.execute_reply.started": "2021-10-23T04:15:32.564217Z"
    },
    "papermill": {
     "duration": 0.055765,
     "end_time": "2021-10-23T04:20:10.907539",
     "exception": false,
     "start_time": "2021-10-23T04:20:10.851774",
     "status": "completed"
    },
    "tags": []
   },
   "outputs": [],
   "source": [
    "submission = []\n",
    "for p1, p2 in predictions.items():\n",
    "    p2 = \" \".join(p2.split())\n",
    "    p2 = p2.strip(punctuation)\n",
    "    submission.append((p1, p2))\n",
    "    \n",
    "sample = pd.DataFrame(submission, columns=[\"id\", \"PredictionString\"])\n",
    "\n",
    "test_data =pd.merge(left=test,right=sample,on='id')\n",
    "\n",
    "bad_starts = [\".\", \",\", \"(\", \")\", \"-\", \"–\",  \",\", \";\"]\n",
    "bad_endings = [\"...\", \"-\", \"(\", \")\", \"–\", \",\", \";\"]\n",
    "\n",
    "tamil_ad = \"கி.பி\"\n",
    "tamil_bc = \"கி.மு\"\n",
    "tamil_km = \"கி.மீ\"\n",
    "hindi_ad = \"ई\"\n",
    "hindi_bc = \"ई.पू\"\n",
    "\n",
    "\n",
    "cleaned_preds = []\n",
    "for pred, context in test_data[[\"PredictionString\", \"context\"]].to_numpy():\n",
    "    if pred == \"\":\n",
    "        cleaned_preds.append(pred)\n",
    "        continue\n",
    "    while any([pred.startswith(y) for y in bad_starts]):\n",
    "        pred = pred[1:]\n",
    "    while any([pred.endswith(y) for y in bad_endings]):\n",
    "        if pred.endswith(\"...\"):\n",
    "            pred = pred[:-3]\n",
    "        else:\n",
    "            pred = pred[:-1]\n",
    "    if pred.endswith(\"...\"):\n",
    "            pred = pred[:-3]\n",
    "    \n",
    "    if any([pred.endswith(tamil_ad), pred.endswith(tamil_bc), pred.endswith(tamil_km), pred.endswith(hindi_ad), pred.endswith(hindi_bc)]) and pred+\".\" in context:\n",
    "        pred = pred+\".\"\n",
    "        \n",
    "    cleaned_preds.append(pred)\n",
    "\n",
    "test_data[\"PredictionString\"] = cleaned_preds\n",
    "test_data[['id', 'PredictionString']].to_csv('submission.csv', index=False)"
   ]
  },
  {
   "cell_type": "code",
   "execution_count": 8,
   "id": "87047021",
   "metadata": {
    "execution": {
     "iopub.execute_input": "2021-10-23T04:20:10.932671Z",
     "iopub.status.busy": "2021-10-23T04:20:10.932014Z",
     "iopub.status.idle": "2021-10-23T04:20:10.946277Z",
     "shell.execute_reply": "2021-10-23T04:20:10.946741Z",
     "shell.execute_reply.started": "2021-10-23T04:15:32.601983Z"
    },
    "papermill": {
     "duration": 0.029372,
     "end_time": "2021-10-23T04:20:10.946867",
     "exception": false,
     "start_time": "2021-10-23T04:20:10.917495",
     "status": "completed"
    },
    "tags": []
   },
   "outputs": [
    {
     "data": {
      "text/html": [
       "<div>\n",
       "<style scoped>\n",
       "    .dataframe tbody tr th:only-of-type {\n",
       "        vertical-align: middle;\n",
       "    }\n",
       "\n",
       "    .dataframe tbody tr th {\n",
       "        vertical-align: top;\n",
       "    }\n",
       "\n",
       "    .dataframe thead th {\n",
       "        text-align: right;\n",
       "    }\n",
       "</style>\n",
       "<table border=\"1\" class=\"dataframe\">\n",
       "  <thead>\n",
       "    <tr style=\"text-align: right;\">\n",
       "      <th></th>\n",
       "      <th>id</th>\n",
       "      <th>context</th>\n",
       "      <th>question</th>\n",
       "      <th>language</th>\n",
       "      <th>PredictionString</th>\n",
       "    </tr>\n",
       "  </thead>\n",
       "  <tbody>\n",
       "    <tr>\n",
       "      <th>0</th>\n",
       "      <td>22bff3dec</td>\n",
       "      <td>ज्वाला गुट्टा (जन्म: 7 सितंबर 1983; वर्धा, महा...</td>\n",
       "      <td>ज्वाला गुट्टा की माँ का नाम क्या है</td>\n",
       "      <td>hindi</td>\n",
       "      <td>येलन</td>\n",
       "    </tr>\n",
       "    <tr>\n",
       "      <th>1</th>\n",
       "      <td>282758170</td>\n",
       "      <td>गूगल मानचित्र (Google Maps) (पूर्व में गूगल लो...</td>\n",
       "      <td>गूगल मैप्स कब लॉन्च किया गया था?</td>\n",
       "      <td>hindi</td>\n",
       "      <td>जून 2005</td>\n",
       "    </tr>\n",
       "    <tr>\n",
       "      <th>2</th>\n",
       "      <td>d60987e0e</td>\n",
       "      <td>गुस्ताव रॉबर्ट किरचॉफ़ (१२ मार्च १८२४ - १७ अक्...</td>\n",
       "      <td>गुस्ताव किरचॉफ का जन्म कब हुआ था?</td>\n",
       "      <td>hindi</td>\n",
       "      <td>१२ मार्च १८२४</td>\n",
       "    </tr>\n",
       "    <tr>\n",
       "      <th>3</th>\n",
       "      <td>f99c770dc</td>\n",
       "      <td>அலுமினியம் (ஆங்கிலம்: அலுமினியம்; வட அமெரிக்க ...</td>\n",
       "      <td>அலுமினியத்தின் அணு எண் என்ன?</td>\n",
       "      <td>tamil</td>\n",
       "      <td>13</td>\n",
       "    </tr>\n",
       "    <tr>\n",
       "      <th>4</th>\n",
       "      <td>40dec1964</td>\n",
       "      <td>கூட்டுறவு இயக்க வரலாறு, இங்கிலாந்து  நாட்டில் ...</td>\n",
       "      <td>இந்தியாவில் பசுமை புரட்சியின் தந்தை என்று கருத...</td>\n",
       "      <td>tamil</td>\n",
       "      <td>சுவாமிநாதன் மற்றும் வர்கீஸ் குரியன்</td>\n",
       "    </tr>\n",
       "  </tbody>\n",
       "</table>\n",
       "</div>"
      ],
      "text/plain": [
       "          id                                            context  \\\n",
       "0  22bff3dec  ज्वाला गुट्टा (जन्म: 7 सितंबर 1983; वर्धा, महा...   \n",
       "1  282758170  गूगल मानचित्र (Google Maps) (पूर्व में गूगल लो...   \n",
       "2  d60987e0e  गुस्ताव रॉबर्ट किरचॉफ़ (१२ मार्च १८२४ - १७ अक्...   \n",
       "3  f99c770dc  அலுமினியம் (ஆங்கிலம்: அலுமினியம்; வட அமெரிக்க ...   \n",
       "4  40dec1964  கூட்டுறவு இயக்க வரலாறு, இங்கிலாந்து  நாட்டில் ...   \n",
       "\n",
       "                                            question language  \\\n",
       "0                ज्वाला गुट्टा की माँ का नाम क्या है    hindi   \n",
       "1                   गूगल मैप्स कब लॉन्च किया गया था?    hindi   \n",
       "2                  गुस्ताव किरचॉफ का जन्म कब हुआ था?    hindi   \n",
       "3                       அலுமினியத்தின் அணு எண் என்ன?    tamil   \n",
       "4  இந்தியாவில் பசுமை புரட்சியின் தந்தை என்று கருத...    tamil   \n",
       "\n",
       "                      PredictionString  \n",
       "0                                 येलन  \n",
       "1                             जून 2005  \n",
       "2                        १२ मार्च १८२४  \n",
       "3                                   13  \n",
       "4  சுவாமிநாதன் மற்றும் வர்கீஸ் குரியன்  "
      ]
     },
     "execution_count": 8,
     "metadata": {},
     "output_type": "execute_result"
    }
   ],
   "source": [
    "test_data"
   ]
  }
 ],
 "metadata": {
  "kernelspec": {
   "display_name": "Python 3",
   "language": "python",
   "name": "python3"
  },
  "language_info": {
   "codemirror_mode": {
    "name": "ipython",
    "version": 3
   },
   "file_extension": ".py",
   "mimetype": "text/x-python",
   "name": "python",
   "nbconvert_exporter": "python",
   "pygments_lexer": "ipython3",
   "version": "3.7.10"
  },
  "papermill": {
   "default_parameters": {},
   "duration": 236.662312,
   "end_time": "2021-10-23T04:20:13.819741",
   "environment_variables": {},
   "exception": null,
   "input_path": "__notebook__.ipynb",
   "output_path": "__notebook__.ipynb",
   "parameters": {},
   "start_time": "2021-10-23T04:16:17.157429",
   "version": "2.3.3"
  }
 },
 "nbformat": 4,
 "nbformat_minor": 5
}
