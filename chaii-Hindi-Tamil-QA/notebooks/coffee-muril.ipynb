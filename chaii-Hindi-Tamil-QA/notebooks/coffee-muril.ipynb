{
 "cells": [
  {
   "cell_type": "markdown",
   "metadata": {},
   "source": [
    "**NOTE:** This Notebook is downloaded from Kaggle and is therefore intended to be used as a Kaggle Kernel"
   ]
  },
  {
   "cell_type": "markdown",
   "id": "b5fdc18f",
   "metadata": {
    "papermill": {
     "duration": 0.008518,
     "end_time": "2021-10-23T13:06:47.961052",
     "exception": false,
     "start_time": "2021-10-23T13:06:47.952534",
     "status": "completed"
    },
    "tags": []
   },
   "source": [
    "# 📦 Packages and Basic Setup"
   ]
  },
  {
   "cell_type": "code",
   "execution_count": 1,
   "id": "df2ecadd",
   "metadata": {
    "_kg_hide-input": true,
    "_kg_hide-output": true,
    "execution": {
     "iopub.execute_input": "2021-10-23T13:06:48.058541Z",
     "iopub.status.busy": "2021-10-23T13:06:48.057656Z",
     "iopub.status.idle": "2021-10-23T13:07:12.138328Z",
     "shell.execute_reply": "2021-10-23T13:07:12.137674Z",
     "shell.execute_reply.started": "2021-10-10T14:44:07.859971Z"
    },
    "papermill": {
     "duration": 24.169345,
     "end_time": "2021-10-23T13:07:12.138496",
     "exception": false,
     "start_time": "2021-10-23T13:06:47.969151",
     "status": "completed"
    },
    "tags": []
   },
   "outputs": [
    {
     "name": "stderr",
     "output_type": "stream",
     "text": [
      "2021-10-23 13:07:07.137011: I tensorflow/stream_executor/platform/default/dso_loader.cc:49] Successfully opened dynamic library libcudart.so.11.0\n"
     ]
    }
   ],
   "source": [
    "%%capture\n",
    "# -------- Basic Packages -------- #\n",
    "import os\n",
    "import gc\n",
    "import sys\n",
    "gc.enable()\n",
    "import math\n",
    "import time\n",
    "import torch\n",
    "import numpy as np\n",
    "import pandas as pd\n",
    "from sklearn import model_selection\n",
    "!pip install --upgrade -q transformers tokenizers\n",
    "\n",
    "# -------- Output Prettification ✨ -------- #\n",
    "import warnings\n",
    "warnings.filterwarnings(\"ignore\", category=UserWarning)\n",
    "from transformers import logging\n",
    "logging.set_verbosity_warning()\n",
    "logging.set_verbosity_error()\n",
    "\n",
    "# -------- Custom Library -------- #\n",
    "wrapperdir = \"../input/d/sauravmaheshkar/coffee\"\n",
    "sys.path.append(wrapperdir)\n",
    "\n",
    "# -------- Weights and Biases Setup -------- #\n",
    "import wandb\n",
    "from kaggle_secrets import UserSecretsClient\n",
    "user_secrets = UserSecretsClient()\n",
    "api_key = user_secrets.get_secret(\"WANDB_API_KEY\")\n",
    "wandb.login(key=api_key);"
   ]
  },
  {
   "cell_type": "markdown",
   "id": "80bcc306",
   "metadata": {
    "papermill": {
     "duration": 0.00743,
     "end_time": "2021-10-23T13:07:12.154434",
     "exception": false,
     "start_time": "2021-10-23T13:07:12.147004",
     "status": "completed"
    },
    "tags": []
   },
   "source": [
    "# 📃 Configuration"
   ]
  },
  {
   "cell_type": "code",
   "execution_count": 2,
   "id": "ed274734",
   "metadata": {
    "_kg_hide-input": false,
    "_kg_hide-output": false,
    "execution": {
     "iopub.execute_input": "2021-10-23T13:07:12.178041Z",
     "iopub.status.busy": "2021-10-23T13:07:12.177135Z",
     "iopub.status.idle": "2021-10-23T13:07:12.179145Z",
     "shell.execute_reply": "2021-10-23T13:07:12.179563Z",
     "shell.execute_reply.started": "2021-10-10T14:44:31.34303Z"
    },
    "papermill": {
     "duration": 0.0171,
     "end_time": "2021-10-23T13:07:12.179708",
     "exception": false,
     "start_time": "2021-10-23T13:07:12.162608",
     "status": "completed"
    },
    "tags": []
   },
   "outputs": [],
   "source": [
    "CONFIG = dict(\n",
    "    # Model\n",
    "    model_type = 'bert',\n",
    "    model_name_or_path = \"google/muril-large-cased\",\n",
    "    config_name = \"google/muril-large-cased\",\n",
    "    output_head_dropout_prob = 0.0, \n",
    "    gradient_accumulation_steps = 2,\n",
    "    # Tokenizer\n",
    "    tokenizer_name = \"google/muril-large-cased\",\n",
    "    max_seq_length = 400,\n",
    "    doc_stride = 135,\n",
    "    # Training\n",
    "    epochs = 1,\n",
    "    folds = 4,\n",
    "    train_batch_size = 2,\n",
    "    eval_batch_size = 8,\n",
    "    # Optimizer\n",
    "    optimizer_type = 'AdamW',\n",
    "    learning_rate = 1.5e-5,\n",
    "    weight_decay = 1e-2,\n",
    "    epsilon = 1e-8,\n",
    "    max_grad_norm = 1.0,\n",
    "    # Scheduler\n",
    "    decay_name = 'cosine-warmup',\n",
    "    warmup_ratio = 0.1,\n",
    "    logging_steps = 100,\n",
    "    # Misc\n",
    "    output_dir = 'output',\n",
    "    seed = 21,\n",
    "    # W&B \n",
    "    competition = 'chaii',\n",
    "    _wandb_kernel = 'sauravm'\n",
    ")"
   ]
  },
  {
   "cell_type": "markdown",
   "id": "09e90c13",
   "metadata": {
    "papermill": {
     "duration": 0.007537,
     "end_time": "2021-10-23T13:07:12.195053",
     "exception": false,
     "start_time": "2021-10-23T13:07:12.187516",
     "status": "completed"
    },
    "tags": []
   },
   "source": [
    "# 💿 Dataset"
   ]
  },
  {
   "cell_type": "code",
   "execution_count": 3,
   "id": "dad3666a",
   "metadata": {
    "_kg_hide-input": true,
    "_kg_hide-output": true,
    "execution": {
     "iopub.execute_input": "2021-10-23T13:07:12.220003Z",
     "iopub.status.busy": "2021-10-23T13:07:12.219425Z",
     "iopub.status.idle": "2021-10-23T13:07:13.526385Z",
     "shell.execute_reply": "2021-10-23T13:07:13.525881Z",
     "shell.execute_reply.started": "2021-10-10T14:44:31.351677Z"
    },
    "papermill": {
     "duration": 1.323705,
     "end_time": "2021-10-23T13:07:13.526506",
     "exception": false,
     "start_time": "2021-10-23T13:07:12.202801",
     "status": "completed"
    },
    "tags": []
   },
   "outputs": [],
   "source": [
    "train = pd.read_csv('../input/d/sauravmaheshkar/coffee/data/official_data/train.csv')\n",
    "test = pd.read_csv('../input/d/sauravmaheshkar/coffee/data/official_data/test.csv')\n",
    "external_mlqa = pd.read_csv('../input/d/sauravmaheshkar/coffee/data/external_data/mlqa_hindi.csv')\n",
    "external_xquad = pd.read_csv('../input/d/sauravmaheshkar/coffee/data/external_data/xquad.csv')\n",
    "external_train = pd.concat([external_mlqa, external_xquad])\n",
    "\n",
    "def create_folds(data, num_splits):\n",
    "    data[\"kfold\"] = -1\n",
    "    kf = model_selection.StratifiedKFold(n_splits=num_splits, shuffle=True, random_state=42)\n",
    "    for f, (t_, v_) in enumerate(kf.split(X=data, y=data['language'])):\n",
    "        data.loc[v_, 'kfold'] = f\n",
    "    return data\n",
    "\n",
    "train = create_folds(train, num_splits=5)\n",
    "external_train[\"kfold\"] = -1\n",
    "external_train['id'] = list(np.arange(1, len(external_train)+1))\n",
    "train = pd.concat([train, external_train]).reset_index(drop=True)\n",
    "\n",
    "def convert_answers(row):\n",
    "    return {'answer_start': [row[0]], 'text': [row[1]]}\n",
    "\n",
    "train['answers'] = train[['answer_start', 'answer_text']].apply(convert_answers, axis=1)"
   ]
  },
  {
   "cell_type": "markdown",
   "id": "3139d68b",
   "metadata": {
    "papermill": {
     "duration": 0.007709,
     "end_time": "2021-10-23T13:07:13.542170",
     "exception": false,
     "start_time": "2021-10-23T13:07:13.534461",
     "status": "completed"
    },
    "tags": []
   },
   "source": [
    "# ⚙️ Helper Function"
   ]
  },
  {
   "cell_type": "code",
   "execution_count": 4,
   "id": "78ead2ec",
   "metadata": {
    "_kg_hide-input": true,
    "_kg_hide-output": true,
    "execution": {
     "iopub.execute_input": "2021-10-23T13:07:13.567628Z",
     "iopub.status.busy": "2021-10-23T13:07:13.565263Z",
     "iopub.status.idle": "2021-10-23T13:07:13.723231Z",
     "shell.execute_reply": "2021-10-23T13:07:13.723822Z",
     "shell.execute_reply.started": "2021-10-10T14:44:32.437442Z"
    },
    "papermill": {
     "duration": 0.174152,
     "end_time": "2021-10-23T13:07:13.723980",
     "exception": false,
     "start_time": "2021-10-23T13:07:13.549828",
     "status": "completed"
    },
    "tags": []
   },
   "outputs": [],
   "source": [
    "%%capture\n",
    "from coffee.helpers import make_model, make_loader, make_optimizer, make_scheduler\n",
    "from coffee.utils import set_seed\n",
    "\n",
    "def init_training(args, data, fold):\n",
    "    set_seed(CONFIG[\"seed\"])\n",
    "    \n",
    "    if not os.path.exists(CONFIG[\"output_dir\"]):\n",
    "        os.makedirs(CONFIG[\"output_dir\"])\n",
    "    \n",
    "    # model\n",
    "    model_config, tokenizer, model = make_model(args)\n",
    "    if torch.cuda.device_count() >= 1:\n",
    "        print('Model pushed to {} GPU(s), type {}.'.format(\n",
    "            torch.cuda.device_count(), \n",
    "            torch.cuda.get_device_name(0))\n",
    "        )\n",
    "        model = model.cuda() \n",
    "    else:\n",
    "        raise ValueError('CPU training is not supported')\n",
    "        \n",
    "    print(\"✅ Model Initialized\")\n",
    "    \n",
    "    # data loaders\n",
    "    train_dataloader, valid_dataloader = make_loader(args, data, tokenizer, fold)\n",
    "    \n",
    "    print(\"✅ DataLoaders Initialized\")\n",
    "\n",
    "    # optimizer\n",
    "    optimizer = make_optimizer(args, model, strategy = 'a')\n",
    "    \n",
    "    print(\"✅ Optimizer Initialized\")\n",
    "\n",
    "    # scheduler\n",
    "    num_training_steps = math.ceil(len(train_dataloader) / CONFIG[\"gradient_accumulation_steps\"]) * CONFIG[\"epochs\"]\n",
    "    if CONFIG[\"warmup_ratio\"] > 0:\n",
    "        num_warmup_steps = int(CONFIG[\"warmup_ratio\"] * num_training_steps)\n",
    "    else:\n",
    "        num_warmup_steps = 0\n",
    "    print(f\"Total Training Steps: {num_training_steps}, Total Warmup Steps: {num_warmup_steps}\")\n",
    "    \n",
    "    scheduler = make_scheduler(args, optimizer, num_warmup_steps, num_training_steps)\n",
    "    \n",
    "    print(\"✅ Scheduler Initialized\")\n",
    "    \n",
    "    result_dict = {\n",
    "        'epoch':[], \n",
    "        'train_loss': [], \n",
    "        'val_loss' : [], \n",
    "        'best_val_loss': np.inf\n",
    "    }\n",
    "\n",
    "    return (\n",
    "        model, model_config, tokenizer, optimizer, scheduler, \n",
    "        train_dataloader, valid_dataloader, result_dict\n",
    "    )"
   ]
  },
  {
   "cell_type": "markdown",
   "id": "42403191",
   "metadata": {
    "papermill": {
     "duration": 0.007719,
     "end_time": "2021-10-23T13:07:13.740019",
     "exception": false,
     "start_time": "2021-10-23T13:07:13.732300",
     "status": "completed"
    },
    "tags": []
   },
   "source": [
    "# 🔥 Training"
   ]
  },
  {
   "cell_type": "code",
   "execution_count": 5,
   "id": "10e95d39",
   "metadata": {
    "execution": {
     "iopub.execute_input": "2021-10-23T13:07:13.768613Z",
     "iopub.status.busy": "2021-10-23T13:07:13.767912Z",
     "iopub.status.idle": "2021-10-23T13:07:13.774976Z",
     "shell.execute_reply": "2021-10-23T13:07:13.774173Z",
     "shell.execute_reply.started": "2021-10-10T14:44:32.580104Z"
    },
    "papermill": {
     "duration": 0.027225,
     "end_time": "2021-10-23T13:07:13.775129",
     "exception": false,
     "start_time": "2021-10-23T13:07:13.747904",
     "status": "completed"
    },
    "tags": []
   },
   "outputs": [],
   "source": [
    "from coffee.engine import Trainer, Evaluator\n",
    "\n",
    "def run(data, fold):\n",
    "    args = CONFIG\n",
    "    \n",
    "    run = wandb.init(project='chaii', \n",
    "                     entity='sauravmaheshkar',\n",
    "                     group='muril', \n",
    "                     job_type='train',\n",
    "                     config=CONFIG)\n",
    "    \n",
    "    model, model_config, tokenizer, optimizer, scheduler, train_dataloader, \\\n",
    "        valid_dataloader, result_dict = init_training(args, data, fold)\n",
    "    \n",
    "    wandb.watch(model)\n",
    "    \n",
    "    trainer = Trainer(model, tokenizer, optimizer, scheduler)\n",
    "    evaluator = Evaluator(model)\n",
    "\n",
    "    train_time_list = []\n",
    "    valid_time_list = []\n",
    "\n",
    "    for epoch in range(CONFIG[\"epochs\"]):\n",
    "        result_dict['epoch'].append(epoch)\n",
    "\n",
    "        # Train\n",
    "        torch.cuda.synchronize()\n",
    "        tic1 = time.time()\n",
    "        result_dict = trainer.train(\n",
    "            args, train_dataloader, \n",
    "            epoch, result_dict\n",
    "        )\n",
    "        torch.cuda.synchronize()\n",
    "        tic2 = time.time() \n",
    "        train_time_list.append(tic2 - tic1)\n",
    "        \n",
    "        # Evaluate\n",
    "        torch.cuda.synchronize()\n",
    "        tic3 = time.time()\n",
    "        result_dict = evaluator.evaluate(\n",
    "            valid_dataloader, epoch, result_dict\n",
    "        )\n",
    "        torch.cuda.synchronize()\n",
    "        tic4 = time.time() \n",
    "        valid_time_list.append(tic4 - tic3)\n",
    "            \n",
    "        output_dir = os.path.join(CONFIG[\"output_dir\"], f\"checkpoint-fold-{fold}\")\n",
    "        if result_dict['val_loss'][-1] < result_dict['best_val_loss']:\n",
    "            print(\"{} Epoch, Best epoch was updated! Valid Loss: {: >4.5f}\".format(epoch, result_dict['val_loss'][-1]))\n",
    "            result_dict[\"best_val_loss\"] = result_dict['val_loss'][-1]        \n",
    "            \n",
    "            os.makedirs(output_dir, exist_ok=True)\n",
    "            torch.save(model.state_dict(), f\"{output_dir}/pytorch_model.bin\")\n",
    "            model_config.save_pretrained(output_dir)\n",
    "            tokenizer.save_pretrained(output_dir)\n",
    "            print(f\"Saving model checkpoint to {output_dir}.\")\n",
    "            \n",
    "        print()\n",
    "\n",
    "    evaluator.save(result_dict, output_dir)\n",
    "    \n",
    "    print(f\"Total Training Time: {np.sum(train_time_list)}secs, Average Training Time per Epoch: {np.mean(train_time_list)}secs.\")\n",
    "    print(f\"Total Validation Time: {np.sum(valid_time_list)}secs, Average Validation Time per Epoch: {np.mean(valid_time_list)}secs.\")\n",
    "    \n",
    "    torch.cuda.empty_cache()\n",
    "    del trainer, evaluator\n",
    "    del model, model_config, tokenizer\n",
    "    del optimizer, scheduler\n",
    "    del train_dataloader, valid_dataloader, result_dict\n",
    "    gc.collect()\n",
    "    \n",
    "    run.finish()"
   ]
  },
  {
   "cell_type": "code",
   "execution_count": 6,
   "id": "dca2358c",
   "metadata": {
    "execution": {
     "iopub.execute_input": "2021-10-23T13:07:13.800221Z",
     "iopub.status.busy": "2021-10-23T13:07:13.799621Z",
     "iopub.status.idle": "2021-10-23T16:52:03.827169Z",
     "shell.execute_reply": "2021-10-23T16:52:03.826676Z",
     "shell.execute_reply.started": "2021-10-10T14:44:32.598568Z"
    },
    "papermill": {
     "duration": 13490.04424,
     "end_time": "2021-10-23T16:52:03.827383",
     "exception": false,
     "start_time": "2021-10-23T13:07:13.783143",
     "status": "completed"
    },
    "tags": []
   },
   "outputs": [
    {
     "name": "stderr",
     "output_type": "stream",
     "text": [
      "\u001b[34m\u001b[1mwandb\u001b[0m: Currently logged in as: \u001b[33msauravmaheshkar\u001b[0m (use `wandb login --relogin` to force relogin)\n"
     ]
    },
    {
     "name": "stdout",
     "output_type": "stream",
     "text": [
      "\n",
      "\n",
      "--------------------------------------------------\n",
      "FOLD: 0\n",
      "--------------------------------------------------\n"
     ]
    },
    {
     "name": "stderr",
     "output_type": "stream",
     "text": [
      "\u001b[34m\u001b[1mwandb\u001b[0m: wandb version 0.12.5 is available!  To upgrade, please run:\n",
      "\u001b[34m\u001b[1mwandb\u001b[0m:  $ pip install wandb --upgrade\n",
      "2021-10-23 13:07:15.215699: I tensorflow/stream_executor/platform/default/dso_loader.cc:49] Successfully opened dynamic library libcudart.so.11.0\n"
     ]
    },
    {
     "data": {
      "text/html": [
       "\n",
       "                Tracking run with wandb version 0.12.1<br/>\n",
       "                Syncing run <strong style=\"color:#cdcd00\">denim-sunset-104</strong> to <a href=\"https://wandb.ai\" target=\"_blank\">Weights & Biases</a> <a href=\"https://docs.wandb.com/integrations/jupyter.html\" target=\"_blank\">(Documentation)</a>.<br/>\n",
       "                Project page: <a href=\"https://wandb.ai/sauravmaheshkar/chaii\" target=\"_blank\">https://wandb.ai/sauravmaheshkar/chaii</a><br/>\n",
       "                Run page: <a href=\"https://wandb.ai/sauravmaheshkar/chaii/runs/1f4cz6aa\" target=\"_blank\">https://wandb.ai/sauravmaheshkar/chaii/runs/1f4cz6aa</a><br/>\n",
       "                Run data is saved locally in <code>/kaggle/working/wandb/run-20211023_130713-1f4cz6aa</code><br/><br/>\n",
       "            "
      ],
      "text/plain": [
       "<IPython.core.display.HTML object>"
      ]
     },
     "metadata": {},
     "output_type": "display_data"
    },
    {
     "data": {
      "application/vnd.jupyter.widget-view+json": {
       "model_id": "69d7135af5ef491e81ece878c7003936",
       "version_major": 2,
       "version_minor": 0
      },
      "text/plain": [
       "Downloading:   0%|          | 0.00/406 [00:00<?, ?B/s]"
      ]
     },
     "metadata": {},
     "output_type": "display_data"
    },
    {
     "name": "stderr",
     "output_type": "stream",
     "text": [
      "\n",
      "CondaEnvException: Unable to determine environment\n",
      "\n",
      "Please re-run this command with one of the following options:\n",
      "\n",
      "* Provide an environment name via --name or -n\n",
      "* Re-run this command inside an activated conda environment.\n",
      "\n"
     ]
    },
    {
     "data": {
      "application/vnd.jupyter.widget-view+json": {
       "model_id": "269a699327a94375aca3f5fd37a01e94",
       "version_major": 2,
       "version_minor": 0
      },
      "text/plain": [
       "Downloading:   0%|          | 0.00/181 [00:00<?, ?B/s]"
      ]
     },
     "metadata": {},
     "output_type": "display_data"
    },
    {
     "data": {
      "application/vnd.jupyter.widget-view+json": {
       "model_id": "f149b7b0396b405ca1ad6bc1bfd67512",
       "version_major": 2,
       "version_minor": 0
      },
      "text/plain": [
       "Downloading:   0%|          | 0.00/3.02M [00:00<?, ?B/s]"
      ]
     },
     "metadata": {},
     "output_type": "display_data"
    },
    {
     "data": {
      "application/vnd.jupyter.widget-view+json": {
       "model_id": "d7568e1151d944e483da05891de3573b",
       "version_major": 2,
       "version_minor": 0
      },
      "text/plain": [
       "Downloading:   0%|          | 0.00/112 [00:00<?, ?B/s]"
      ]
     },
     "metadata": {},
     "output_type": "display_data"
    },
    {
     "data": {
      "application/vnd.jupyter.widget-view+json": {
       "model_id": "492d4045e140429598287df51d5fe21d",
       "version_major": 2,
       "version_minor": 0
      },
      "text/plain": [
       "Downloading:   0%|          | 0.00/1.89G [00:00<?, ?B/s]"
      ]
     },
     "metadata": {},
     "output_type": "display_data"
    },
    {
     "name": "stdout",
     "output_type": "stream",
     "text": [
      "Model pushed to 1 GPU(s), type Tesla P100-PCIE-16GB.\n",
      "✅ Model Initialized\n",
      "Num examples Train= 16419, Num examples Valid=2139\n",
      "✅ DataLoaders Initialized\n",
      "✅ Optimizer Initialized\n",
      "Total Training Steps: 4105, Total Warmup Steps: 410\n",
      "✅ Scheduler Initialized\n",
      "huggingface/tokenizers: The current process just got forked, after parallelism has already been used. Disabling parallelism to avoid deadlocks...\n",
      "To disable this warning, you can either:\n",
      "\t- Avoid using `tokenizers` before the fork if possible\n",
      "\t- Explicitly set the environment variable TOKENIZERS_PARALLELISM=(true | false)\n",
      "huggingface/tokenizers: The current process just got forked, after parallelism has already been used. Disabling parallelism to avoid deadlocks...\n",
      "To disable this warning, you can either:\n",
      "\t- Avoid using `tokenizers` before the fork if possible\n",
      "\t- Explicitly set the environment variable TOKENIZERS_PARALLELISM=(true | false)\n",
      "Epoch: 00 [    2/16419 (  0%)], Train Loss: 2.74750\n",
      "Epoch: 00 [  202/16419 (  1%)], Train Loss: 2.93225\n",
      "Epoch: 00 [  402/16419 (  2%)], Train Loss: 2.84221\n",
      "Epoch: 00 [  602/16419 (  4%)], Train Loss: 2.75602\n",
      "Epoch: 00 [  802/16419 (  5%)], Train Loss: 2.67234\n",
      "Epoch: 00 [ 1002/16419 (  6%)], Train Loss: 2.57293\n",
      "Epoch: 00 [ 1202/16419 (  7%)], Train Loss: 2.46094\n",
      "Epoch: 00 [ 1402/16419 (  9%)], Train Loss: 2.32311\n",
      "Epoch: 00 [ 1602/16419 ( 10%)], Train Loss: 2.20283\n",
      "Epoch: 00 [ 1802/16419 ( 11%)], Train Loss: 2.10548\n",
      "Epoch: 00 [ 2002/16419 ( 12%)], Train Loss: 2.02456\n",
      "Epoch: 00 [ 2202/16419 ( 13%)], Train Loss: 1.94556\n",
      "Epoch: 00 [ 2402/16419 ( 15%)], Train Loss: 1.88826\n",
      "Epoch: 00 [ 2602/16419 ( 16%)], Train Loss: 1.82674\n",
      "Epoch: 00 [ 2802/16419 ( 17%)], Train Loss: 1.78509\n",
      "Epoch: 00 [ 3002/16419 ( 18%)], Train Loss: 1.73808\n",
      "Epoch: 00 [ 3202/16419 ( 20%)], Train Loss: 1.69961\n",
      "Epoch: 00 [ 3402/16419 ( 21%)], Train Loss: 1.65882\n",
      "Epoch: 00 [ 3602/16419 ( 22%)], Train Loss: 1.62363\n",
      "Epoch: 00 [ 3802/16419 ( 23%)], Train Loss: 1.59250\n",
      "Epoch: 00 [ 4002/16419 ( 24%)], Train Loss: 1.56635\n",
      "Epoch: 00 [ 4202/16419 ( 26%)], Train Loss: 1.54226\n",
      "Epoch: 00 [ 4402/16419 ( 27%)], Train Loss: 1.52201\n",
      "Epoch: 00 [ 4602/16419 ( 28%)], Train Loss: 1.49776\n",
      "Epoch: 00 [ 4802/16419 ( 29%)], Train Loss: 1.47362\n",
      "Epoch: 00 [ 5002/16419 ( 30%)], Train Loss: 1.45242\n",
      "Epoch: 00 [ 5202/16419 ( 32%)], Train Loss: 1.43200\n",
      "Epoch: 00 [ 5402/16419 ( 33%)], Train Loss: 1.41802\n",
      "Epoch: 00 [ 5602/16419 ( 34%)], Train Loss: 1.40123\n",
      "Epoch: 00 [ 5802/16419 ( 35%)], Train Loss: 1.38569\n",
      "Epoch: 00 [ 6002/16419 ( 37%)], Train Loss: 1.37190\n",
      "Epoch: 00 [ 6202/16419 ( 38%)], Train Loss: 1.36380\n",
      "Epoch: 00 [ 6402/16419 ( 39%)], Train Loss: 1.35154\n",
      "Epoch: 00 [ 6602/16419 ( 40%)], Train Loss: 1.33935\n",
      "Epoch: 00 [ 6802/16419 ( 41%)], Train Loss: 1.33014\n",
      "Epoch: 00 [ 7002/16419 ( 43%)], Train Loss: 1.32043\n",
      "Epoch: 00 [ 7202/16419 ( 44%)], Train Loss: 1.30774\n",
      "Epoch: 00 [ 7402/16419 ( 45%)], Train Loss: 1.29881\n",
      "Epoch: 00 [ 7602/16419 ( 46%)], Train Loss: 1.29217\n",
      "Epoch: 00 [ 7802/16419 ( 48%)], Train Loss: 1.28183\n",
      "Epoch: 00 [ 8002/16419 ( 49%)], Train Loss: 1.27273\n",
      "Epoch: 00 [ 8202/16419 ( 50%)], Train Loss: 1.26412\n",
      "Epoch: 00 [ 8402/16419 ( 51%)], Train Loss: 1.25520\n",
      "Epoch: 00 [ 8602/16419 ( 52%)], Train Loss: 1.24878\n",
      "Epoch: 00 [ 8802/16419 ( 54%)], Train Loss: 1.24303\n",
      "Epoch: 00 [ 9002/16419 ( 55%)], Train Loss: 1.23627\n",
      "Epoch: 00 [ 9202/16419 ( 56%)], Train Loss: 1.22964\n",
      "Epoch: 00 [ 9402/16419 ( 57%)], Train Loss: 1.22215\n",
      "Epoch: 00 [ 9602/16419 ( 58%)], Train Loss: 1.21579\n",
      "Epoch: 00 [ 9802/16419 ( 60%)], Train Loss: 1.20897\n",
      "Epoch: 00 [10002/16419 ( 61%)], Train Loss: 1.20303\n",
      "Epoch: 00 [10202/16419 ( 62%)], Train Loss: 1.19819\n",
      "Epoch: 00 [10402/16419 ( 63%)], Train Loss: 1.19289\n",
      "Epoch: 00 [10602/16419 ( 65%)], Train Loss: 1.18574\n",
      "Epoch: 00 [10802/16419 ( 66%)], Train Loss: 1.18002\n",
      "Epoch: 00 [11002/16419 ( 67%)], Train Loss: 1.17561\n",
      "Epoch: 00 [11202/16419 ( 68%)], Train Loss: 1.17007\n",
      "Epoch: 00 [11402/16419 ( 69%)], Train Loss: 1.16278\n",
      "Epoch: 00 [11602/16419 ( 71%)], Train Loss: 1.16017\n",
      "Epoch: 00 [11802/16419 ( 72%)], Train Loss: 1.15437\n",
      "Epoch: 00 [12002/16419 ( 73%)], Train Loss: 1.14901\n",
      "Epoch: 00 [12202/16419 ( 74%)], Train Loss: 1.14524\n",
      "Epoch: 00 [12402/16419 ( 76%)], Train Loss: 1.14101\n",
      "Epoch: 00 [12602/16419 ( 77%)], Train Loss: 1.13773\n",
      "Epoch: 00 [12802/16419 ( 78%)], Train Loss: 1.13336\n",
      "Epoch: 00 [13002/16419 ( 79%)], Train Loss: 1.13096\n",
      "Epoch: 00 [13202/16419 ( 80%)], Train Loss: 1.12714\n",
      "Epoch: 00 [13402/16419 ( 82%)], Train Loss: 1.12299\n",
      "Epoch: 00 [13602/16419 ( 83%)], Train Loss: 1.11954\n",
      "Epoch: 00 [13802/16419 ( 84%)], Train Loss: 1.11609\n",
      "Epoch: 00 [14002/16419 ( 85%)], Train Loss: 1.11209\n",
      "Epoch: 00 [14202/16419 ( 86%)], Train Loss: 1.10679\n",
      "Epoch: 00 [14402/16419 ( 88%)], Train Loss: 1.10396\n",
      "Epoch: 00 [14602/16419 ( 89%)], Train Loss: 1.10104\n",
      "Epoch: 00 [14802/16419 ( 90%)], Train Loss: 1.09783\n",
      "Epoch: 00 [15002/16419 ( 91%)], Train Loss: 1.09530\n",
      "Epoch: 00 [15202/16419 ( 93%)], Train Loss: 1.09227\n",
      "Epoch: 00 [15402/16419 ( 94%)], Train Loss: 1.08971\n",
      "Epoch: 00 [15602/16419 ( 95%)], Train Loss: 1.08761\n",
      "Epoch: 00 [15802/16419 ( 96%)], Train Loss: 1.08417\n",
      "Epoch: 00 [16002/16419 ( 97%)], Train Loss: 1.08211\n",
      "Epoch: 00 [16202/16419 ( 99%)], Train Loss: 1.07905\n",
      "Epoch: 00 [16402/16419 (100%)], Train Loss: 1.07698\n",
      "Epoch: 00 [16419/16419 (100%)], Train Loss: 1.07694\n",
      "huggingface/tokenizers: The current process just got forked, after parallelism has already been used. Disabling parallelism to avoid deadlocks...\n",
      "To disable this warning, you can either:\n",
      "\t- Avoid using `tokenizers` before the fork if possible\n",
      "\t- Explicitly set the environment variable TOKENIZERS_PARALLELISM=(true | false)\n",
      "huggingface/tokenizers: The current process just got forked, after parallelism has already been used. Disabling parallelism to avoid deadlocks...\n",
      "To disable this warning, you can either:\n",
      "\t- Avoid using `tokenizers` before the fork if possible\n",
      "\t- Explicitly set the environment variable TOKENIZERS_PARALLELISM=(true | false)\n",
      "----Validation Results Summary----\n",
      "Epoch: [0] Valid Loss: 1.61995\n",
      "0 Epoch, Best epoch was updated! Valid Loss: 1.61995\n",
      "Saving model checkpoint to output/checkpoint-fold-0.\n",
      "\n",
      "Total Training Time: 3199.3317708969116secs, Average Training Time per Epoch: 3199.3317708969116secs.\n",
      "Total Validation Time: 96.86089777946472secs, Average Validation Time per Epoch: 96.86089777946472secs.\n"
     ]
    },
    {
     "data": {
      "text/html": [
       "<br/>Waiting for W&B process to finish, PID 83<br/>Program ended successfully."
      ],
      "text/plain": [
       "<IPython.core.display.HTML object>"
      ]
     },
     "metadata": {},
     "output_type": "display_data"
    },
    {
     "data": {
      "application/vnd.jupyter.widget-view+json": {
       "model_id": "9bccfc6b78ed4a94b37b24169238471a",
       "version_major": 2,
       "version_minor": 0
      },
      "text/plain": [
       "VBox(children=(Label(value=' 0.00MB of 0.00MB uploaded (0.00MB deduped)\\r'), FloatProgress(value=1.0, max=1.0)…"
      ]
     },
     "metadata": {},
     "output_type": "display_data"
    },
    {
     "data": {
      "text/html": [
       "Find user logs for this run at: <code>/kaggle/working/wandb/run-20211023_130713-1f4cz6aa/logs/debug.log</code>"
      ],
      "text/plain": [
       "<IPython.core.display.HTML object>"
      ]
     },
     "metadata": {},
     "output_type": "display_data"
    },
    {
     "data": {
      "text/html": [
       "Find internal logs for this run at: <code>/kaggle/working/wandb/run-20211023_130713-1f4cz6aa/logs/debug-internal.log</code>"
      ],
      "text/plain": [
       "<IPython.core.display.HTML object>"
      ]
     },
     "metadata": {},
     "output_type": "display_data"
    },
    {
     "data": {
      "text/html": [
       "<h3>Run summary:</h3><br/><style>\n",
       "    table.wandb td:nth-child(1) { padding: 0 10px; text-align: right }\n",
       "    </style><table class=\"wandb\">\n",
       "<tr><td>Training Loss</td><td>1.08814</td></tr><tr><td>_runtime</td><td>3416</td></tr><tr><td>_timestamp</td><td>1634997849</td></tr><tr><td>_step</td><td>8477</td></tr><tr><td>Validation Loss</td><td>3.17372</td></tr></table>"
      ],
      "text/plain": [
       "<IPython.core.display.HTML object>"
      ]
     },
     "metadata": {},
     "output_type": "display_data"
    },
    {
     "data": {
      "text/html": [
       "<h3>Run history:</h3><br/><style>\n",
       "    table.wandb td:nth-child(1) { padding: 0 10px; text-align: right }\n",
       "    </style><table class=\"wandb\">\n",
       "<tr><td>Training Loss</td><td>▇▆▅▂▄▆▁▄▂▂▂▄▄▃▃▂▃▃▄▃▃▃▆▄▂▃▂▂█▃▂▂▃▃▆▃▂▃▁▂</td></tr><tr><td>_runtime</td><td>▁▁▁▂▂▂▂▂▂▃▃▃▃▃▃▄▄▄▄▄▅▅▅▅▅▅▆▆▆▆▆▆▇▇▇▇▇███</td></tr><tr><td>_timestamp</td><td>▁▁▁▂▂▂▂▂▂▃▃▃▃▃▃▄▄▄▄▄▅▅▅▅▅▅▆▆▆▆▆▆▇▇▇▇▇███</td></tr><tr><td>_step</td><td>▁▁▁▂▂▂▂▂▂▃▃▃▃▃▃▄▄▄▄▄▅▅▅▅▅▅▆▆▆▆▆▆▇▇▇▇▇███</td></tr><tr><td>Validation Loss</td><td>▄█▂▂▁▅▂▃▂▂▂▄▁▂▆▄▃▃▃▂▁▃▃▃▃▄▁▃▃▃▃▆▂▂▁▃▅▃▂▇</td></tr></table><br/>"
      ],
      "text/plain": [
       "<IPython.core.display.HTML object>"
      ]
     },
     "metadata": {},
     "output_type": "display_data"
    },
    {
     "data": {
      "text/html": [
       "Synced 5 W&B file(s), 0 media file(s), 0 artifact file(s) and 0 other file(s)"
      ],
      "text/plain": [
       "<IPython.core.display.HTML object>"
      ]
     },
     "metadata": {},
     "output_type": "display_data"
    },
    {
     "data": {
      "text/html": [
       "\n",
       "                    <br/>Synced <strong style=\"color:#cdcd00\">denim-sunset-104</strong>: <a href=\"https://wandb.ai/sauravmaheshkar/chaii/runs/1f4cz6aa\" target=\"_blank\">https://wandb.ai/sauravmaheshkar/chaii/runs/1f4cz6aa</a><br/>\n",
       "                "
      ],
      "text/plain": [
       "<IPython.core.display.HTML object>"
      ]
     },
     "metadata": {},
     "output_type": "display_data"
    },
    {
     "name": "stdout",
     "output_type": "stream",
     "text": [
      "\n",
      "\n",
      "--------------------------------------------------\n",
      "FOLD: 1\n",
      "--------------------------------------------------\n",
      "huggingface/tokenizers: The current process just got forked, after parallelism has already been used. Disabling parallelism to avoid deadlocks...\n",
      "To disable this warning, you can either:\n",
      "\t- Avoid using `tokenizers` before the fork if possible\n",
      "\t- Explicitly set the environment variable TOKENIZERS_PARALLELISM=(true | false)\n"
     ]
    },
    {
     "name": "stderr",
     "output_type": "stream",
     "text": [
      "\u001b[34m\u001b[1mwandb\u001b[0m: wandb version 0.12.5 is available!  To upgrade, please run:\n",
      "\u001b[34m\u001b[1mwandb\u001b[0m:  $ pip install wandb --upgrade\n",
      "2021-10-23 14:04:27.567726: I tensorflow/stream_executor/platform/default/dso_loader.cc:49] Successfully opened dynamic library libcudart.so.11.0\n"
     ]
    },
    {
     "data": {
      "text/html": [
       "\n",
       "                Tracking run with wandb version 0.12.1<br/>\n",
       "                Syncing run <strong style=\"color:#cdcd00\">trim-tree-105</strong> to <a href=\"https://wandb.ai\" target=\"_blank\">Weights & Biases</a> <a href=\"https://docs.wandb.com/integrations/jupyter.html\" target=\"_blank\">(Documentation)</a>.<br/>\n",
       "                Project page: <a href=\"https://wandb.ai/sauravmaheshkar/chaii\" target=\"_blank\">https://wandb.ai/sauravmaheshkar/chaii</a><br/>\n",
       "                Run page: <a href=\"https://wandb.ai/sauravmaheshkar/chaii/runs/2vkycf4z\" target=\"_blank\">https://wandb.ai/sauravmaheshkar/chaii/runs/2vkycf4z</a><br/>\n",
       "                Run data is saved locally in <code>/kaggle/working/wandb/run-20211023_140425-2vkycf4z</code><br/><br/>\n",
       "            "
      ],
      "text/plain": [
       "<IPython.core.display.HTML object>"
      ]
     },
     "metadata": {},
     "output_type": "display_data"
    },
    {
     "name": "stderr",
     "output_type": "stream",
     "text": [
      "\n",
      "CondaEnvException: Unable to determine environment\n",
      "\n",
      "Please re-run this command with one of the following options:\n",
      "\n",
      "* Provide an environment name via --name or -n\n",
      "* Re-run this command inside an activated conda environment.\n",
      "\n"
     ]
    },
    {
     "name": "stdout",
     "output_type": "stream",
     "text": [
      "Model pushed to 1 GPU(s), type Tesla P100-PCIE-16GB.\n",
      "✅ Model Initialized\n",
      "Num examples Train= 16364, Num examples Valid=2194\n",
      "✅ DataLoaders Initialized\n",
      "✅ Optimizer Initialized\n",
      "Total Training Steps: 4091, Total Warmup Steps: 409\n",
      "✅ Scheduler Initialized\n",
      "huggingface/tokenizers: The current process just got forked, after parallelism has already been used. Disabling parallelism to avoid deadlocks...\n",
      "To disable this warning, you can either:\n",
      "\t- Avoid using `tokenizers` before the fork if possible\n",
      "\t- Explicitly set the environment variable TOKENIZERS_PARALLELISM=(true | false)\n",
      "huggingface/tokenizers: The current process just got forked, after parallelism has already been used. Disabling parallelism to avoid deadlocks...\n",
      "To disable this warning, you can either:\n",
      "\t- Avoid using `tokenizers` before the fork if possible\n",
      "\t- Explicitly set the environment variable TOKENIZERS_PARALLELISM=(true | false)\n",
      "Epoch: 00 [    2/16364 (  0%)], Train Loss: 2.80997\n",
      "Epoch: 00 [  202/16364 (  1%)], Train Loss: 2.92509\n",
      "Epoch: 00 [  402/16364 (  2%)], Train Loss: 2.84313\n",
      "Epoch: 00 [  602/16364 (  4%)], Train Loss: 2.75394\n",
      "Epoch: 00 [  802/16364 (  5%)], Train Loss: 2.71708\n",
      "Epoch: 00 [ 1002/16364 (  6%)], Train Loss: 2.65239\n",
      "Epoch: 00 [ 1202/16364 (  7%)], Train Loss: 2.58493\n",
      "Epoch: 00 [ 1402/16364 (  9%)], Train Loss: 2.60374\n",
      "Epoch: 00 [ 1602/16364 ( 10%)], Train Loss: 2.61258\n",
      "Epoch: 00 [ 1802/16364 ( 11%)], Train Loss: 2.63462\n",
      "Epoch: 00 [ 2002/16364 ( 12%)], Train Loss: 2.62606\n",
      "Epoch: 00 [ 2202/16364 ( 13%)], Train Loss: 2.55999\n",
      "Epoch: 00 [ 2402/16364 ( 15%)], Train Loss: 2.46220\n",
      "Epoch: 00 [ 2602/16364 ( 16%)], Train Loss: 2.36452\n",
      "Epoch: 00 [ 2802/16364 ( 17%)], Train Loss: 2.27972\n",
      "Epoch: 00 [ 3002/16364 ( 18%)], Train Loss: 2.19961\n",
      "Epoch: 00 [ 3202/16364 ( 20%)], Train Loss: 2.13237\n",
      "Epoch: 00 [ 3402/16364 ( 21%)], Train Loss: 2.08436\n",
      "Epoch: 00 [ 3602/16364 ( 22%)], Train Loss: 2.02718\n",
      "Epoch: 00 [ 3802/16364 ( 23%)], Train Loss: 1.97567\n",
      "Epoch: 00 [ 4002/16364 ( 24%)], Train Loss: 1.92998\n",
      "Epoch: 00 [ 4202/16364 ( 26%)], Train Loss: 1.88206\n",
      "Epoch: 00 [ 4402/16364 ( 27%)], Train Loss: 1.84365\n",
      "Epoch: 00 [ 4602/16364 ( 28%)], Train Loss: 1.80292\n",
      "Epoch: 00 [ 4802/16364 ( 29%)], Train Loss: 1.76985\n",
      "Epoch: 00 [ 5002/16364 ( 31%)], Train Loss: 1.74327\n",
      "Epoch: 00 [ 5202/16364 ( 32%)], Train Loss: 1.73378\n",
      "Epoch: 00 [ 5402/16364 ( 33%)], Train Loss: 1.71143\n",
      "Epoch: 00 [ 5602/16364 ( 34%)], Train Loss: 1.68884\n",
      "Epoch: 00 [ 5802/16364 ( 35%)], Train Loss: 1.67888\n",
      "Epoch: 00 [ 6002/16364 ( 37%)], Train Loss: 1.69925\n",
      "Epoch: 00 [ 6202/16364 ( 38%)], Train Loss: 1.71219\n",
      "Epoch: 00 [ 6402/16364 ( 39%)], Train Loss: 1.70609\n",
      "Epoch: 00 [ 6602/16364 ( 40%)], Train Loss: 1.68633\n",
      "Epoch: 00 [ 6802/16364 ( 42%)], Train Loss: 1.67049\n",
      "Epoch: 00 [ 7002/16364 ( 43%)], Train Loss: 1.65456\n",
      "Epoch: 00 [ 7202/16364 ( 44%)], Train Loss: 1.64101\n",
      "Epoch: 00 [ 7402/16364 ( 45%)], Train Loss: 1.62800\n",
      "Epoch: 00 [ 7602/16364 ( 46%)], Train Loss: 1.61289\n",
      "Epoch: 00 [ 7802/16364 ( 48%)], Train Loss: 1.59853\n",
      "Epoch: 00 [ 8002/16364 ( 49%)], Train Loss: 1.58651\n",
      "Epoch: 00 [ 8202/16364 ( 50%)], Train Loss: 1.57256\n",
      "Epoch: 00 [ 8402/16364 ( 51%)], Train Loss: 1.56098\n",
      "Epoch: 00 [ 8602/16364 ( 53%)], Train Loss: 1.55147\n",
      "Epoch: 00 [ 8802/16364 ( 54%)], Train Loss: 1.54627\n",
      "Epoch: 00 [ 9002/16364 ( 55%)], Train Loss: 1.53919\n",
      "Epoch: 00 [ 9202/16364 ( 56%)], Train Loss: 1.53446\n",
      "Epoch: 00 [ 9402/16364 ( 57%)], Train Loss: 1.52916\n",
      "Epoch: 00 [ 9602/16364 ( 59%)], Train Loss: 1.52273\n",
      "Epoch: 00 [ 9802/16364 ( 60%)], Train Loss: 1.51732\n",
      "Epoch: 00 [10002/16364 ( 61%)], Train Loss: 1.50951\n",
      "Epoch: 00 [10202/16364 ( 62%)], Train Loss: 1.50413\n",
      "Epoch: 00 [10402/16364 ( 64%)], Train Loss: 1.49990\n",
      "Epoch: 00 [10602/16364 ( 65%)], Train Loss: 1.49295\n",
      "Epoch: 00 [10802/16364 ( 66%)], Train Loss: 1.48356\n",
      "Epoch: 00 [11002/16364 ( 67%)], Train Loss: 1.47690\n",
      "Epoch: 00 [11202/16364 ( 68%)], Train Loss: 1.47119\n",
      "Epoch: 00 [11402/16364 ( 70%)], Train Loss: 1.46482\n",
      "Epoch: 00 [11602/16364 ( 71%)], Train Loss: 1.46199\n",
      "Epoch: 00 [11802/16364 ( 72%)], Train Loss: 1.45730\n",
      "Epoch: 00 [12002/16364 ( 73%)], Train Loss: 1.45337\n",
      "Epoch: 00 [12202/16364 ( 75%)], Train Loss: 1.44894\n",
      "Epoch: 00 [12402/16364 ( 76%)], Train Loss: 1.44433\n",
      "Epoch: 00 [12602/16364 ( 77%)], Train Loss: 1.44093\n",
      "Epoch: 00 [12802/16364 ( 78%)], Train Loss: 1.43949\n",
      "Epoch: 00 [13002/16364 ( 79%)], Train Loss: 1.43622\n",
      "Epoch: 00 [13202/16364 ( 81%)], Train Loss: 1.43136\n",
      "Epoch: 00 [13402/16364 ( 82%)], Train Loss: 1.42870\n",
      "Epoch: 00 [13602/16364 ( 83%)], Train Loss: 1.42616\n",
      "Epoch: 00 [13802/16364 ( 84%)], Train Loss: 1.42203\n",
      "Epoch: 00 [14002/16364 ( 86%)], Train Loss: 1.41776\n",
      "Epoch: 00 [14202/16364 ( 87%)], Train Loss: 1.41491\n",
      "Epoch: 00 [14402/16364 ( 88%)], Train Loss: 1.41012\n",
      "Epoch: 00 [14602/16364 ( 89%)], Train Loss: 1.40653\n",
      "Epoch: 00 [14802/16364 ( 90%)], Train Loss: 1.40167\n",
      "Epoch: 00 [15002/16364 ( 92%)], Train Loss: 1.39674\n",
      "Epoch: 00 [15202/16364 ( 93%)], Train Loss: 1.39325\n",
      "Epoch: 00 [15402/16364 ( 94%)], Train Loss: 1.39022\n",
      "Epoch: 00 [15602/16364 ( 95%)], Train Loss: 1.38667\n",
      "Epoch: 00 [15802/16364 ( 97%)], Train Loss: 1.38292\n",
      "Epoch: 00 [16002/16364 ( 98%)], Train Loss: 1.38040\n",
      "Epoch: 00 [16202/16364 ( 99%)], Train Loss: 1.37690\n",
      "Epoch: 00 [16364/16364 (100%)], Train Loss: 1.37316\n",
      "huggingface/tokenizers: The current process just got forked, after parallelism has already been used. Disabling parallelism to avoid deadlocks...\n",
      "To disable this warning, you can either:\n",
      "\t- Avoid using `tokenizers` before the fork if possible\n",
      "\t- Explicitly set the environment variable TOKENIZERS_PARALLELISM=(true | false)\n",
      "huggingface/tokenizers: The current process just got forked, after parallelism has already been used. Disabling parallelism to avoid deadlocks...\n",
      "To disable this warning, you can either:\n",
      "\t- Avoid using `tokenizers` before the fork if possible\n",
      "\t- Explicitly set the environment variable TOKENIZERS_PARALLELISM=(true | false)\n",
      "----Validation Results Summary----\n",
      "Epoch: [0] Valid Loss: 2.30832\n",
      "0 Epoch, Best epoch was updated! Valid Loss: 2.30832\n",
      "Saving model checkpoint to output/checkpoint-fold-1.\n",
      "\n",
      "Total Training Time: 3198.0903635025024secs, Average Training Time per Epoch: 3198.0903635025024secs.\n",
      "Total Validation Time: 99.80665588378906secs, Average Validation Time per Epoch: 99.80665588378906secs.\n"
     ]
    },
    {
     "data": {
      "text/html": [
       "<br/>Waiting for W&B process to finish, PID 2389<br/>Program ended successfully."
      ],
      "text/plain": [
       "<IPython.core.display.HTML object>"
      ]
     },
     "metadata": {},
     "output_type": "display_data"
    },
    {
     "data": {
      "application/vnd.jupyter.widget-view+json": {
       "model_id": "c96e91a911744fc58ac471fbc6cb21ab",
       "version_major": 2,
       "version_minor": 0
      },
      "text/plain": [
       "VBox(children=(Label(value=' 0.00MB of 0.00MB uploaded (0.00MB deduped)\\r'), FloatProgress(value=1.0, max=1.0)…"
      ]
     },
     "metadata": {},
     "output_type": "display_data"
    },
    {
     "data": {
      "text/html": [
       "Find user logs for this run at: <code>/kaggle/working/wandb/run-20211023_140425-2vkycf4z/logs/debug.log</code>"
      ],
      "text/plain": [
       "<IPython.core.display.HTML object>"
      ]
     },
     "metadata": {},
     "output_type": "display_data"
    },
    {
     "data": {
      "text/html": [
       "Find internal logs for this run at: <code>/kaggle/working/wandb/run-20211023_140425-2vkycf4z/logs/debug-internal.log</code>"
      ],
      "text/plain": [
       "<IPython.core.display.HTML object>"
      ]
     },
     "metadata": {},
     "output_type": "display_data"
    },
    {
     "data": {
      "text/html": [
       "<h3>Run summary:</h3><br/><style>\n",
       "    table.wandb td:nth-child(1) { padding: 0 10px; text-align: right }\n",
       "    </style><table class=\"wandb\">\n",
       "<tr><td>Training Loss</td><td>1.48583</td></tr><tr><td>_runtime</td><td>3343</td></tr><tr><td>_timestamp</td><td>1635001208</td></tr><tr><td>_step</td><td>8456</td></tr><tr><td>Validation Loss</td><td>1.50004</td></tr></table>"
      ],
      "text/plain": [
       "<IPython.core.display.HTML object>"
      ]
     },
     "metadata": {},
     "output_type": "display_data"
    },
    {
     "data": {
      "text/html": [
       "<h3>Run history:</h3><br/><style>\n",
       "    table.wandb td:nth-child(1) { padding: 0 10px; text-align: right }\n",
       "    </style><table class=\"wandb\">\n",
       "<tr><td>Training Loss</td><td>▆▄▆▆▇▅█▂▂▃▂▁▅▂▄▄▄▂▃▃▃▂▅▃▄▃▂▃▁▃▆▂▂▃▇▃▃▂▃▂</td></tr><tr><td>_runtime</td><td>▁▁▁▂▂▂▂▂▂▃▃▃▃▃▃▄▄▄▄▄▅▅▅▅▅▅▆▆▆▆▆▆▇▇▇▇▇███</td></tr><tr><td>_timestamp</td><td>▁▁▁▂▂▂▂▂▂▃▃▃▃▃▃▄▄▄▄▄▅▅▅▅▅▅▆▆▆▆▆▆▇▇▇▇▇███</td></tr><tr><td>_step</td><td>▁▁▁▂▂▂▂▂▂▃▃▃▃▃▃▄▄▄▄▄▅▅▅▅▅▅▆▆▆▆▆▆▇▇▇▇▇███</td></tr><tr><td>Validation Loss</td><td>▅▅█▄▆▄▄▄▅▅▆▆▅▅█▄▃▂▁▂▁▂▄▁▃▂▂▁▂▇▂▂▂▂▄▂▂▃▂▂</td></tr></table><br/>"
      ],
      "text/plain": [
       "<IPython.core.display.HTML object>"
      ]
     },
     "metadata": {},
     "output_type": "display_data"
    },
    {
     "data": {
      "text/html": [
       "Synced 5 W&B file(s), 0 media file(s), 0 artifact file(s) and 0 other file(s)"
      ],
      "text/plain": [
       "<IPython.core.display.HTML object>"
      ]
     },
     "metadata": {},
     "output_type": "display_data"
    },
    {
     "data": {
      "text/html": [
       "\n",
       "                    <br/>Synced <strong style=\"color:#cdcd00\">trim-tree-105</strong>: <a href=\"https://wandb.ai/sauravmaheshkar/chaii/runs/2vkycf4z\" target=\"_blank\">https://wandb.ai/sauravmaheshkar/chaii/runs/2vkycf4z</a><br/>\n",
       "                "
      ],
      "text/plain": [
       "<IPython.core.display.HTML object>"
      ]
     },
     "metadata": {},
     "output_type": "display_data"
    },
    {
     "name": "stdout",
     "output_type": "stream",
     "text": [
      "\n",
      "\n",
      "--------------------------------------------------\n",
      "FOLD: 2\n",
      "--------------------------------------------------\n",
      "huggingface/tokenizers: The current process just got forked, after parallelism has already been used. Disabling parallelism to avoid deadlocks...\n",
      "To disable this warning, you can either:\n",
      "\t- Avoid using `tokenizers` before the fork if possible\n",
      "\t- Explicitly set the environment variable TOKENIZERS_PARALLELISM=(true | false)\n"
     ]
    },
    {
     "name": "stderr",
     "output_type": "stream",
     "text": [
      "\u001b[34m\u001b[1mwandb\u001b[0m: wandb version 0.12.5 is available!  To upgrade, please run:\n",
      "\u001b[34m\u001b[1mwandb\u001b[0m:  $ pip install wandb --upgrade\n",
      "2021-10-23 15:00:35.065996: I tensorflow/stream_executor/platform/default/dso_loader.cc:49] Successfully opened dynamic library libcudart.so.11.0\n"
     ]
    },
    {
     "data": {
      "text/html": [
       "\n",
       "                Tracking run with wandb version 0.12.1<br/>\n",
       "                Syncing run <strong style=\"color:#cdcd00\">golden-durian-106</strong> to <a href=\"https://wandb.ai\" target=\"_blank\">Weights & Biases</a> <a href=\"https://docs.wandb.com/integrations/jupyter.html\" target=\"_blank\">(Documentation)</a>.<br/>\n",
       "                Project page: <a href=\"https://wandb.ai/sauravmaheshkar/chaii\" target=\"_blank\">https://wandb.ai/sauravmaheshkar/chaii</a><br/>\n",
       "                Run page: <a href=\"https://wandb.ai/sauravmaheshkar/chaii/runs/395mprck\" target=\"_blank\">https://wandb.ai/sauravmaheshkar/chaii/runs/395mprck</a><br/>\n",
       "                Run data is saved locally in <code>/kaggle/working/wandb/run-20211023_150032-395mprck</code><br/><br/>\n",
       "            "
      ],
      "text/plain": [
       "<IPython.core.display.HTML object>"
      ]
     },
     "metadata": {},
     "output_type": "display_data"
    },
    {
     "name": "stderr",
     "output_type": "stream",
     "text": [
      "\n",
      "CondaEnvException: Unable to determine environment\n",
      "\n",
      "Please re-run this command with one of the following options:\n",
      "\n",
      "* Provide an environment name via --name or -n\n",
      "* Re-run this command inside an activated conda environment.\n",
      "\n"
     ]
    },
    {
     "name": "stdout",
     "output_type": "stream",
     "text": [
      "Model pushed to 1 GPU(s), type Tesla P100-PCIE-16GB.\n",
      "✅ Model Initialized\n",
      "Num examples Train= 16434, Num examples Valid=2124\n",
      "✅ DataLoaders Initialized\n",
      "✅ Optimizer Initialized\n",
      "Total Training Steps: 4109, Total Warmup Steps: 410\n",
      "✅ Scheduler Initialized\n",
      "huggingface/tokenizers: The current process just got forked, after parallelism has already been used. Disabling parallelism to avoid deadlocks...\n",
      "To disable this warning, you can either:\n",
      "\t- Avoid using `tokenizers` before the fork if possible\n",
      "\t- Explicitly set the environment variable TOKENIZERS_PARALLELISM=(true | false)\n",
      "huggingface/tokenizers: The current process just got forked, after parallelism has already been used. Disabling parallelism to avoid deadlocks...\n",
      "To disable this warning, you can either:\n",
      "\t- Avoid using `tokenizers` before the fork if possible\n",
      "\t- Explicitly set the environment variable TOKENIZERS_PARALLELISM=(true | false)\n",
      "Epoch: 00 [    2/16434 (  0%)], Train Loss: 2.95276\n",
      "Epoch: 00 [  202/16434 (  1%)], Train Loss: 2.92188\n",
      "Epoch: 00 [  402/16434 (  2%)], Train Loss: 2.82383\n",
      "Epoch: 00 [  602/16434 (  4%)], Train Loss: 2.74641\n",
      "Epoch: 00 [  802/16434 (  5%)], Train Loss: 2.62761\n",
      "Epoch: 00 [ 1002/16434 (  6%)], Train Loss: 2.51385\n",
      "Epoch: 00 [ 1202/16434 (  7%)], Train Loss: 2.40799\n",
      "Epoch: 00 [ 1402/16434 (  9%)], Train Loss: 2.40591\n",
      "Epoch: 00 [ 1602/16434 ( 10%)], Train Loss: 2.36745\n",
      "Epoch: 00 [ 1802/16434 ( 11%)], Train Loss: 2.26958\n",
      "Epoch: 00 [ 2002/16434 ( 12%)], Train Loss: 2.17661\n",
      "Epoch: 00 [ 2202/16434 ( 13%)], Train Loss: 2.08322\n",
      "Epoch: 00 [ 2402/16434 ( 15%)], Train Loss: 2.01009\n",
      "Epoch: 00 [ 2602/16434 ( 16%)], Train Loss: 1.95027\n",
      "Epoch: 00 [ 2802/16434 ( 17%)], Train Loss: 1.89146\n",
      "Epoch: 00 [ 3002/16434 ( 18%)], Train Loss: 1.87271\n",
      "Epoch: 00 [ 3202/16434 ( 19%)], Train Loss: 1.84573\n",
      "Epoch: 00 [ 3402/16434 ( 21%)], Train Loss: 1.81579\n",
      "Epoch: 00 [ 3602/16434 ( 22%)], Train Loss: 1.80724\n",
      "Epoch: 00 [ 3802/16434 ( 23%)], Train Loss: 1.81114\n",
      "Epoch: 00 [ 4002/16434 ( 24%)], Train Loss: 1.80809\n",
      "Epoch: 00 [ 4202/16434 ( 26%)], Train Loss: 1.79771\n",
      "Epoch: 00 [ 4402/16434 ( 27%)], Train Loss: 1.79787\n",
      "Epoch: 00 [ 4602/16434 ( 28%)], Train Loss: 1.78582\n",
      "Epoch: 00 [ 4802/16434 ( 29%)], Train Loss: 1.77797\n",
      "Epoch: 00 [ 5002/16434 ( 30%)], Train Loss: 1.77495\n",
      "Epoch: 00 [ 5202/16434 ( 32%)], Train Loss: 1.76602\n",
      "Epoch: 00 [ 5402/16434 ( 33%)], Train Loss: 1.76767\n",
      "Epoch: 00 [ 5602/16434 ( 34%)], Train Loss: 1.77082\n",
      "Epoch: 00 [ 5802/16434 ( 35%)], Train Loss: 1.77010\n",
      "Epoch: 00 [ 6002/16434 ( 37%)], Train Loss: 1.76151\n",
      "Epoch: 00 [ 6202/16434 ( 38%)], Train Loss: 1.75597\n",
      "Epoch: 00 [ 6402/16434 ( 39%)], Train Loss: 1.75679\n",
      "Epoch: 00 [ 6602/16434 ( 40%)], Train Loss: 1.75233\n",
      "Epoch: 00 [ 6802/16434 ( 41%)], Train Loss: 1.74915\n",
      "Epoch: 00 [ 7002/16434 ( 43%)], Train Loss: 1.74839\n",
      "Epoch: 00 [ 7202/16434 ( 44%)], Train Loss: 1.74365\n",
      "Epoch: 00 [ 7402/16434 ( 45%)], Train Loss: 1.74230\n",
      "Epoch: 00 [ 7602/16434 ( 46%)], Train Loss: 1.74206\n",
      "Epoch: 00 [ 7802/16434 ( 47%)], Train Loss: 1.74017\n",
      "Epoch: 00 [ 8002/16434 ( 49%)], Train Loss: 1.73807\n",
      "Epoch: 00 [ 8202/16434 ( 50%)], Train Loss: 1.75008\n",
      "Epoch: 00 [ 8402/16434 ( 51%)], Train Loss: 1.75082\n",
      "Epoch: 00 [ 8602/16434 ( 52%)], Train Loss: 1.75351\n",
      "Epoch: 00 [ 8802/16434 ( 54%)], Train Loss: 1.75347\n",
      "Epoch: 00 [ 9002/16434 ( 55%)], Train Loss: 1.75489\n",
      "Epoch: 00 [ 9202/16434 ( 56%)], Train Loss: 1.75523\n",
      "Epoch: 00 [ 9402/16434 ( 57%)], Train Loss: 1.75349\n",
      "Epoch: 00 [ 9602/16434 ( 58%)], Train Loss: 1.75205\n",
      "Epoch: 00 [ 9802/16434 ( 60%)], Train Loss: 1.74621\n",
      "Epoch: 00 [10002/16434 ( 61%)], Train Loss: 1.74304\n",
      "Epoch: 00 [10202/16434 ( 62%)], Train Loss: 1.73876\n",
      "Epoch: 00 [10402/16434 ( 63%)], Train Loss: 1.73292\n",
      "Epoch: 00 [10602/16434 ( 65%)], Train Loss: 1.73046\n",
      "Epoch: 00 [10802/16434 ( 66%)], Train Loss: 1.72715\n",
      "Epoch: 00 [11002/16434 ( 67%)], Train Loss: 1.72243\n",
      "Epoch: 00 [11202/16434 ( 68%)], Train Loss: 1.71682\n",
      "Epoch: 00 [11402/16434 ( 69%)], Train Loss: 1.70541\n",
      "Epoch: 00 [11602/16434 ( 71%)], Train Loss: 1.69479\n",
      "Epoch: 00 [11802/16434 ( 72%)], Train Loss: 1.68949\n",
      "Epoch: 00 [12002/16434 ( 73%)], Train Loss: 1.68438\n",
      "Epoch: 00 [12202/16434 ( 74%)], Train Loss: 1.68026\n",
      "Epoch: 00 [12402/16434 ( 75%)], Train Loss: 1.67775\n",
      "Epoch: 00 [12602/16434 ( 77%)], Train Loss: 1.67347\n",
      "Epoch: 00 [12802/16434 ( 78%)], Train Loss: 1.67001\n",
      "Epoch: 00 [13002/16434 ( 79%)], Train Loss: 1.66590\n",
      "Epoch: 00 [13202/16434 ( 80%)], Train Loss: 1.66162\n",
      "Epoch: 00 [13402/16434 ( 82%)], Train Loss: 1.65767\n",
      "Epoch: 00 [13602/16434 ( 83%)], Train Loss: 1.65299\n",
      "Epoch: 00 [13802/16434 ( 84%)], Train Loss: 1.64939\n",
      "Epoch: 00 [14002/16434 ( 85%)], Train Loss: 1.64454\n",
      "Epoch: 00 [14202/16434 ( 86%)], Train Loss: 1.64091\n",
      "Epoch: 00 [14402/16434 ( 88%)], Train Loss: 1.63628\n",
      "Epoch: 00 [14602/16434 ( 89%)], Train Loss: 1.63211\n",
      "Epoch: 00 [14802/16434 ( 90%)], Train Loss: 1.63076\n",
      "Epoch: 00 [15002/16434 ( 91%)], Train Loss: 1.62808\n",
      "Epoch: 00 [15202/16434 ( 93%)], Train Loss: 1.62526\n",
      "Epoch: 00 [15402/16434 ( 94%)], Train Loss: 1.62254\n",
      "Epoch: 00 [15602/16434 ( 95%)], Train Loss: 1.61948\n",
      "Epoch: 00 [15802/16434 ( 96%)], Train Loss: 1.61756\n",
      "Epoch: 00 [16002/16434 ( 97%)], Train Loss: 1.61416\n",
      "Epoch: 00 [16202/16434 ( 99%)], Train Loss: 1.61038\n",
      "Epoch: 00 [16402/16434 (100%)], Train Loss: 1.60862\n",
      "Epoch: 00 [16434/16434 (100%)], Train Loss: 1.60748\n",
      "huggingface/tokenizers: The current process just got forked, after parallelism has already been used. Disabling parallelism to avoid deadlocks...\n",
      "To disable this warning, you can either:\n",
      "\t- Avoid using `tokenizers` before the fork if possible\n",
      "\t- Explicitly set the environment variable TOKENIZERS_PARALLELISM=(true | false)\n",
      "huggingface/tokenizers: The current process just got forked, after parallelism has already been used. Disabling parallelism to avoid deadlocks...\n",
      "To disable this warning, you can either:\n",
      "\t- Avoid using `tokenizers` before the fork if possible\n",
      "\t- Explicitly set the environment variable TOKENIZERS_PARALLELISM=(true | false)\n",
      "----Validation Results Summary----\n",
      "Epoch: [0] Valid Loss: 3.00140\n",
      "0 Epoch, Best epoch was updated! Valid Loss: 3.00140\n",
      "Saving model checkpoint to output/checkpoint-fold-2.\n",
      "\n",
      "Total Training Time: 3202.543098926544secs, Average Training Time per Epoch: 3202.543098926544secs.\n",
      "Total Validation Time: 96.63886952400208secs, Average Validation Time per Epoch: 96.63886952400208secs.\n"
     ]
    },
    {
     "data": {
      "text/html": [
       "<br/>Waiting for W&B process to finish, PID 4627<br/>Program ended successfully."
      ],
      "text/plain": [
       "<IPython.core.display.HTML object>"
      ]
     },
     "metadata": {},
     "output_type": "display_data"
    },
    {
     "data": {
      "application/vnd.jupyter.widget-view+json": {
       "model_id": "e50dcfa59cc44893b975236695a16d67",
       "version_major": 2,
       "version_minor": 0
      },
      "text/plain": [
       "VBox(children=(Label(value=' 0.00MB of 0.00MB uploaded (0.00MB deduped)\\r'), FloatProgress(value=1.0, max=1.0)…"
      ]
     },
     "metadata": {},
     "output_type": "display_data"
    },
    {
     "data": {
      "text/html": [
       "Find user logs for this run at: <code>/kaggle/working/wandb/run-20211023_150032-395mprck/logs/debug.log</code>"
      ],
      "text/plain": [
       "<IPython.core.display.HTML object>"
      ]
     },
     "metadata": {},
     "output_type": "display_data"
    },
    {
     "data": {
      "text/html": [
       "Find internal logs for this run at: <code>/kaggle/working/wandb/run-20211023_150032-395mprck/logs/debug-internal.log</code>"
      ],
      "text/plain": [
       "<IPython.core.display.HTML object>"
      ]
     },
     "metadata": {},
     "output_type": "display_data"
    },
    {
     "data": {
      "text/html": [
       "<h3>Run summary:</h3><br/><style>\n",
       "    table.wandb td:nth-child(1) { padding: 0 10px; text-align: right }\n",
       "    </style><table class=\"wandb\">\n",
       "<tr><td>Training Loss</td><td>0.94116</td></tr><tr><td>_runtime</td><td>3342</td></tr><tr><td>_timestamp</td><td>1635004574</td></tr><tr><td>_step</td><td>8482</td></tr><tr><td>Validation Loss</td><td>4.59239</td></tr></table>"
      ],
      "text/plain": [
       "<IPython.core.display.HTML object>"
      ]
     },
     "metadata": {},
     "output_type": "display_data"
    },
    {
     "data": {
      "text/html": [
       "<h3>Run history:</h3><br/><style>\n",
       "    table.wandb td:nth-child(1) { padding: 0 10px; text-align: right }\n",
       "    </style><table class=\"wandb\">\n",
       "<tr><td>Training Loss</td><td>▅▅▄▆▂▂▇█▇▂▃▅▃▅▁▃▄▃▃▅▄▁▃▆▁▅▂▅▂▆▄▄▃▄▂▂▄▃▂▃</td></tr><tr><td>_runtime</td><td>▁▁▁▂▂▂▂▂▂▃▃▃▃▃▃▄▄▄▄▄▅▅▅▅▅▅▆▆▆▆▆▆▇▇▇▇▇███</td></tr><tr><td>_timestamp</td><td>▁▁▁▂▂▂▂▂▂▃▃▃▃▃▃▄▄▄▄▄▅▅▅▅▅▅▆▆▆▆▆▆▇▇▇▇▇███</td></tr><tr><td>_step</td><td>▁▁▁▂▂▂▂▂▂▃▃▃▃▃▃▄▄▄▄▄▅▅▅▅▅▅▆▆▆▆▆▆▇▇▇▇▇███</td></tr><tr><td>Validation Loss</td><td>▃▁▂▂▅█▃▃▃▃▃▁▁▆▃▃▂▆▅▄▃▇▃▂▄▁▆▄▂▁▇▂▄▅▃▆▃▃▇▃</td></tr></table><br/>"
      ],
      "text/plain": [
       "<IPython.core.display.HTML object>"
      ]
     },
     "metadata": {},
     "output_type": "display_data"
    },
    {
     "data": {
      "text/html": [
       "Synced 5 W&B file(s), 0 media file(s), 0 artifact file(s) and 0 other file(s)"
      ],
      "text/plain": [
       "<IPython.core.display.HTML object>"
      ]
     },
     "metadata": {},
     "output_type": "display_data"
    },
    {
     "data": {
      "text/html": [
       "\n",
       "                    <br/>Synced <strong style=\"color:#cdcd00\">golden-durian-106</strong>: <a href=\"https://wandb.ai/sauravmaheshkar/chaii/runs/395mprck\" target=\"_blank\">https://wandb.ai/sauravmaheshkar/chaii/runs/395mprck</a><br/>\n",
       "                "
      ],
      "text/plain": [
       "<IPython.core.display.HTML object>"
      ]
     },
     "metadata": {},
     "output_type": "display_data"
    },
    {
     "name": "stdout",
     "output_type": "stream",
     "text": [
      "\n",
      "\n",
      "--------------------------------------------------\n",
      "FOLD: 3\n",
      "--------------------------------------------------\n",
      "huggingface/tokenizers: The current process just got forked, after parallelism has already been used. Disabling parallelism to avoid deadlocks...\n",
      "To disable this warning, you can either:\n",
      "\t- Avoid using `tokenizers` before the fork if possible\n",
      "\t- Explicitly set the environment variable TOKENIZERS_PARALLELISM=(true | false)\n"
     ]
    },
    {
     "name": "stderr",
     "output_type": "stream",
     "text": [
      "\u001b[34m\u001b[1mwandb\u001b[0m: wandb version 0.12.5 is available!  To upgrade, please run:\n",
      "\u001b[34m\u001b[1mwandb\u001b[0m:  $ pip install wandb --upgrade\n",
      "2021-10-23 15:56:40.114537: I tensorflow/stream_executor/platform/default/dso_loader.cc:49] Successfully opened dynamic library libcudart.so.11.0\n"
     ]
    },
    {
     "data": {
      "text/html": [
       "\n",
       "                Tracking run with wandb version 0.12.1<br/>\n",
       "                Syncing run <strong style=\"color:#cdcd00\">bright-flower-107</strong> to <a href=\"https://wandb.ai\" target=\"_blank\">Weights & Biases</a> <a href=\"https://docs.wandb.com/integrations/jupyter.html\" target=\"_blank\">(Documentation)</a>.<br/>\n",
       "                Project page: <a href=\"https://wandb.ai/sauravmaheshkar/chaii\" target=\"_blank\">https://wandb.ai/sauravmaheshkar/chaii</a><br/>\n",
       "                Run page: <a href=\"https://wandb.ai/sauravmaheshkar/chaii/runs/biyia93o\" target=\"_blank\">https://wandb.ai/sauravmaheshkar/chaii/runs/biyia93o</a><br/>\n",
       "                Run data is saved locally in <code>/kaggle/working/wandb/run-20211023_155637-biyia93o</code><br/><br/>\n",
       "            "
      ],
      "text/plain": [
       "<IPython.core.display.HTML object>"
      ]
     },
     "metadata": {},
     "output_type": "display_data"
    },
    {
     "name": "stderr",
     "output_type": "stream",
     "text": [
      "\n",
      "CondaEnvException: Unable to determine environment\n",
      "\n",
      "Please re-run this command with one of the following options:\n",
      "\n",
      "* Provide an environment name via --name or -n\n",
      "* Re-run this command inside an activated conda environment.\n",
      "\n"
     ]
    },
    {
     "name": "stdout",
     "output_type": "stream",
     "text": [
      "Model pushed to 1 GPU(s), type Tesla P100-PCIE-16GB.\n",
      "✅ Model Initialized\n",
      "Num examples Train= 16108, Num examples Valid=2450\n",
      "✅ DataLoaders Initialized\n",
      "✅ Optimizer Initialized\n",
      "Total Training Steps: 4027, Total Warmup Steps: 402\n",
      "✅ Scheduler Initialized\n",
      "huggingface/tokenizers: The current process just got forked, after parallelism has already been used. Disabling parallelism to avoid deadlocks...\n",
      "To disable this warning, you can either:\n",
      "\t- Avoid using `tokenizers` before the fork if possible\n",
      "\t- Explicitly set the environment variable TOKENIZERS_PARALLELISM=(true | false)\n",
      "huggingface/tokenizers: The current process just got forked, after parallelism has already been used. Disabling parallelism to avoid deadlocks...\n",
      "To disable this warning, you can either:\n",
      "\t- Avoid using `tokenizers` before the fork if possible\n",
      "\t- Explicitly set the environment variable TOKENIZERS_PARALLELISM=(true | false)\n",
      "Epoch: 00 [    2/16108 (  0%)], Train Loss: 3.03568\n",
      "Epoch: 00 [  202/16108 (  1%)], Train Loss: 2.93386\n",
      "Epoch: 00 [  402/16108 (  2%)], Train Loss: 2.81707\n",
      "Epoch: 00 [  602/16108 (  4%)], Train Loss: 2.69619\n",
      "Epoch: 00 [  802/16108 (  5%)], Train Loss: 2.58242\n",
      "Epoch: 00 [ 1002/16108 (  6%)], Train Loss: 2.53824\n",
      "Epoch: 00 [ 1202/16108 (  7%)], Train Loss: 2.42012\n",
      "Epoch: 00 [ 1402/16108 (  9%)], Train Loss: 2.30362\n",
      "Epoch: 00 [ 1602/16108 ( 10%)], Train Loss: 2.20545\n",
      "Epoch: 00 [ 1802/16108 ( 11%)], Train Loss: 2.14812\n",
      "Epoch: 00 [ 2002/16108 ( 12%)], Train Loss: 2.09762\n",
      "Epoch: 00 [ 2202/16108 ( 14%)], Train Loss: 2.04640\n",
      "Epoch: 00 [ 2402/16108 ( 15%)], Train Loss: 2.01506\n",
      "Epoch: 00 [ 2602/16108 ( 16%)], Train Loss: 1.98378\n",
      "Epoch: 00 [ 2802/16108 ( 17%)], Train Loss: 1.95737\n",
      "Epoch: 00 [ 3002/16108 ( 19%)], Train Loss: 1.92558\n",
      "Epoch: 00 [ 3202/16108 ( 20%)], Train Loss: 1.90325\n",
      "Epoch: 00 [ 3402/16108 ( 21%)], Train Loss: 1.86874\n",
      "Epoch: 00 [ 3602/16108 ( 22%)], Train Loss: 1.82968\n",
      "Epoch: 00 [ 3802/16108 ( 24%)], Train Loss: 1.79318\n",
      "Epoch: 00 [ 4002/16108 ( 25%)], Train Loss: 1.76609\n",
      "Epoch: 00 [ 4202/16108 ( 26%)], Train Loss: 1.73570\n",
      "Epoch: 00 [ 4402/16108 ( 27%)], Train Loss: 1.69566\n",
      "Epoch: 00 [ 4602/16108 ( 29%)], Train Loss: 1.67081\n",
      "Epoch: 00 [ 4802/16108 ( 30%)], Train Loss: 1.64182\n",
      "Epoch: 00 [ 5002/16108 ( 31%)], Train Loss: 1.61339\n",
      "Epoch: 00 [ 5202/16108 ( 32%)], Train Loss: 1.58960\n",
      "Epoch: 00 [ 5402/16108 ( 34%)], Train Loss: 1.56795\n",
      "Epoch: 00 [ 5602/16108 ( 35%)], Train Loss: 1.54461\n",
      "Epoch: 00 [ 5802/16108 ( 36%)], Train Loss: 1.52499\n",
      "Epoch: 00 [ 6002/16108 ( 37%)], Train Loss: 1.50486\n",
      "Epoch: 00 [ 6202/16108 ( 39%)], Train Loss: 1.48390\n",
      "Epoch: 00 [ 6402/16108 ( 40%)], Train Loss: 1.46322\n",
      "Epoch: 00 [ 6602/16108 ( 41%)], Train Loss: 1.44745\n",
      "Epoch: 00 [ 6802/16108 ( 42%)], Train Loss: 1.43289\n",
      "Epoch: 00 [ 7002/16108 ( 43%)], Train Loss: 1.41894\n",
      "Epoch: 00 [ 7202/16108 ( 45%)], Train Loss: 1.40838\n",
      "Epoch: 00 [ 7402/16108 ( 46%)], Train Loss: 1.39300\n",
      "Epoch: 00 [ 7602/16108 ( 47%)], Train Loss: 1.37920\n",
      "Epoch: 00 [ 7802/16108 ( 48%)], Train Loss: 1.36534\n",
      "Epoch: 00 [ 8002/16108 ( 50%)], Train Loss: 1.35490\n",
      "Epoch: 00 [ 8202/16108 ( 51%)], Train Loss: 1.34086\n",
      "Epoch: 00 [ 8402/16108 ( 52%)], Train Loss: 1.33137\n",
      "Epoch: 00 [ 8602/16108 ( 53%)], Train Loss: 1.32101\n",
      "Epoch: 00 [ 8802/16108 ( 55%)], Train Loss: 1.31090\n",
      "Epoch: 00 [ 9002/16108 ( 56%)], Train Loss: 1.30061\n",
      "Epoch: 00 [ 9202/16108 ( 57%)], Train Loss: 1.29160\n",
      "Epoch: 00 [ 9402/16108 ( 58%)], Train Loss: 1.28186\n",
      "Epoch: 00 [ 9602/16108 ( 60%)], Train Loss: 1.27441\n",
      "Epoch: 00 [ 9802/16108 ( 61%)], Train Loss: 1.26509\n",
      "Epoch: 00 [10002/16108 ( 62%)], Train Loss: 1.25821\n",
      "Epoch: 00 [10202/16108 ( 63%)], Train Loss: 1.25320\n",
      "Epoch: 00 [10402/16108 ( 65%)], Train Loss: 1.24620\n",
      "Epoch: 00 [10602/16108 ( 66%)], Train Loss: 1.23841\n",
      "Epoch: 00 [10802/16108 ( 67%)], Train Loss: 1.23181\n",
      "Epoch: 00 [11002/16108 ( 68%)], Train Loss: 1.22282\n",
      "Epoch: 00 [11202/16108 ( 70%)], Train Loss: 1.21664\n",
      "Epoch: 00 [11402/16108 ( 71%)], Train Loss: 1.20729\n",
      "Epoch: 00 [11602/16108 ( 72%)], Train Loss: 1.20342\n",
      "Epoch: 00 [11802/16108 ( 73%)], Train Loss: 1.19582\n",
      "Epoch: 00 [12002/16108 ( 75%)], Train Loss: 1.18912\n",
      "Epoch: 00 [12202/16108 ( 76%)], Train Loss: 1.18178\n",
      "Epoch: 00 [12402/16108 ( 77%)], Train Loss: 1.17624\n",
      "Epoch: 00 [12602/16108 ( 78%)], Train Loss: 1.16982\n",
      "Epoch: 00 [12802/16108 ( 79%)], Train Loss: 1.16484\n",
      "Epoch: 00 [13002/16108 ( 81%)], Train Loss: 1.15904\n",
      "Epoch: 00 [13202/16108 ( 82%)], Train Loss: 1.15397\n",
      "Epoch: 00 [13402/16108 ( 83%)], Train Loss: 1.14758\n",
      "Epoch: 00 [13602/16108 ( 84%)], Train Loss: 1.14194\n",
      "Epoch: 00 [13802/16108 ( 86%)], Train Loss: 1.13763\n",
      "Epoch: 00 [14002/16108 ( 87%)], Train Loss: 1.13345\n",
      "Epoch: 00 [14202/16108 ( 88%)], Train Loss: 1.13015\n",
      "Epoch: 00 [14402/16108 ( 89%)], Train Loss: 1.12586\n",
      "Epoch: 00 [14602/16108 ( 91%)], Train Loss: 1.11994\n",
      "Epoch: 00 [14802/16108 ( 92%)], Train Loss: 1.11580\n",
      "Epoch: 00 [15002/16108 ( 93%)], Train Loss: 1.11194\n",
      "Epoch: 00 [15202/16108 ( 94%)], Train Loss: 1.10911\n",
      "Epoch: 00 [15402/16108 ( 96%)], Train Loss: 1.10627\n",
      "Epoch: 00 [15602/16108 ( 97%)], Train Loss: 1.10191\n",
      "Epoch: 00 [15802/16108 ( 98%)], Train Loss: 1.09913\n",
      "Epoch: 00 [16002/16108 ( 99%)], Train Loss: 1.09591\n",
      "Epoch: 00 [16108/16108 (100%)], Train Loss: 1.09307\n",
      "huggingface/tokenizers: The current process just got forked, after parallelism has already been used. Disabling parallelism to avoid deadlocks...\n",
      "To disable this warning, you can either:\n",
      "\t- Avoid using `tokenizers` before the fork if possible\n",
      "\t- Explicitly set the environment variable TOKENIZERS_PARALLELISM=(true | false)\n",
      "huggingface/tokenizers: The current process just got forked, after parallelism has already been used. Disabling parallelism to avoid deadlocks...\n",
      "To disable this warning, you can either:\n",
      "\t- Avoid using `tokenizers` before the fork if possible\n",
      "\t- Explicitly set the environment variable TOKENIZERS_PARALLELISM=(true | false)\n",
      "----Validation Results Summary----\n",
      "Epoch: [0] Valid Loss: 1.45770\n",
      "0 Epoch, Best epoch was updated! Valid Loss: 1.45770\n",
      "Saving model checkpoint to output/checkpoint-fold-3.\n",
      "\n",
      "Total Training Time: 3152.9912123680115secs, Average Training Time per Epoch: 3152.9912123680115secs.\n",
      "Total Validation Time: 111.30849742889404secs, Average Validation Time per Epoch: 111.30849742889404secs.\n"
     ]
    },
    {
     "data": {
      "text/html": [
       "<br/>Waiting for W&B process to finish, PID 6854<br/>Program ended successfully."
      ],
      "text/plain": [
       "<IPython.core.display.HTML object>"
      ]
     },
     "metadata": {},
     "output_type": "display_data"
    },
    {
     "data": {
      "application/vnd.jupyter.widget-view+json": {
       "model_id": "5fe94c6a83d9497ab75571015ae47727",
       "version_major": 2,
       "version_minor": 0
      },
      "text/plain": [
       "VBox(children=(Label(value=' 0.00MB of 0.00MB uploaded (0.00MB deduped)\\r'), FloatProgress(value=1.0, max=1.0)…"
      ]
     },
     "metadata": {},
     "output_type": "display_data"
    },
    {
     "data": {
      "text/html": [
       "Find user logs for this run at: <code>/kaggle/working/wandb/run-20211023_155637-biyia93o/logs/debug.log</code>"
      ],
      "text/plain": [
       "<IPython.core.display.HTML object>"
      ]
     },
     "metadata": {},
     "output_type": "display_data"
    },
    {
     "data": {
      "text/html": [
       "Find internal logs for this run at: <code>/kaggle/working/wandb/run-20211023_155637-biyia93o/logs/debug-internal.log</code>"
      ],
      "text/plain": [
       "<IPython.core.display.HTML object>"
      ]
     },
     "metadata": {},
     "output_type": "display_data"
    },
    {
     "data": {
      "text/html": [
       "<h3>Run summary:</h3><br/><style>\n",
       "    table.wandb td:nth-child(1) { padding: 0 10px; text-align: right }\n",
       "    </style><table class=\"wandb\">\n",
       "<tr><td>Training Loss</td><td>0.46776</td></tr><tr><td>_runtime</td><td>3311</td></tr><tr><td>_timestamp</td><td>1635007908</td></tr><tr><td>_step</td><td>8360</td></tr><tr><td>Validation Loss</td><td>1.38731</td></tr></table>"
      ],
      "text/plain": [
       "<IPython.core.display.HTML object>"
      ]
     },
     "metadata": {},
     "output_type": "display_data"
    },
    {
     "data": {
      "text/html": [
       "<h3>Run history:</h3><br/><style>\n",
       "    table.wandb td:nth-child(1) { padding: 0 10px; text-align: right }\n",
       "    </style><table class=\"wandb\">\n",
       "<tr><td>Training Loss</td><td>▇▅▆▆▃▂▅▄▂▃▆▂█▂▂▃▁▂▂▂▃▆▂▅▂▃▂▁▁█▁▃▄▂▁▁▂▃▂▂</td></tr><tr><td>_runtime</td><td>▁▁▁▁▂▂▂▂▂▂▃▃▃▃▃▄▄▄▄▄▄▅▅▅▅▅▆▆▆▆▆▆▇▇▇▇▇███</td></tr><tr><td>_timestamp</td><td>▁▁▁▁▂▂▂▂▂▂▃▃▃▃▃▄▄▄▄▄▄▅▅▅▅▅▆▆▆▆▆▆▇▇▇▇▇███</td></tr><tr><td>_step</td><td>▁▁▁▁▂▂▂▂▂▃▃▃▃▃▃▄▄▄▄▄▅▅▅▅▅▅▆▆▆▆▆▆▇▇▇▇▇███</td></tr><tr><td>Validation Loss</td><td>▂▆▂▅▁▂▁▂▃▂█▂▃▂▁▂▁▂▂▂▂▂▂▂▃▂▂▃▂▂▄▂▂▁▁▆▂▂▂▂</td></tr></table><br/>"
      ],
      "text/plain": [
       "<IPython.core.display.HTML object>"
      ]
     },
     "metadata": {},
     "output_type": "display_data"
    },
    {
     "data": {
      "text/html": [
       "Synced 5 W&B file(s), 0 media file(s), 0 artifact file(s) and 0 other file(s)"
      ],
      "text/plain": [
       "<IPython.core.display.HTML object>"
      ]
     },
     "metadata": {},
     "output_type": "display_data"
    },
    {
     "data": {
      "text/html": [
       "\n",
       "                    <br/>Synced <strong style=\"color:#cdcd00\">bright-flower-107</strong>: <a href=\"https://wandb.ai/sauravmaheshkar/chaii/runs/biyia93o\" target=\"_blank\">https://wandb.ai/sauravmaheshkar/chaii/runs/biyia93o</a><br/>\n",
       "                "
      ],
      "text/plain": [
       "<IPython.core.display.HTML object>"
      ]
     },
     "metadata": {},
     "output_type": "display_data"
    }
   ],
   "source": [
    "for fold in range(CONFIG[\"folds\"]):\n",
    "    print();print()\n",
    "    print('-'*50)\n",
    "    print(f'FOLD: {fold}')\n",
    "    print('-'*50)\n",
    "    run(train, fold)"
   ]
  }
 ],
 "metadata": {
  "kernelspec": {
   "display_name": "Python 3",
   "language": "python",
   "name": "python3"
  },
  "language_info": {
   "codemirror_mode": {
    "name": "ipython",
    "version": 3
   },
   "file_extension": ".py",
   "mimetype": "text/x-python",
   "name": "python",
   "nbconvert_exporter": "python",
   "pygments_lexer": "ipython3",
   "version": "3.7.10"
  },
  "papermill": {
   "default_parameters": {},
   "duration": 13525.869487,
   "end_time": "2021-10-23T16:52:07.198374",
   "environment_variables": {},
   "exception": null,
   "input_path": "__notebook__.ipynb",
   "output_path": "__notebook__.ipynb",
   "parameters": {},
   "start_time": "2021-10-23T13:06:41.328887",
   "version": "2.3.3"
  },
  "widgets": {
   "application/vnd.jupyter.widget-state+json": {
    "state": {
     "028b6091156046589b5eb479d2a98aac": {
      "model_module": "@jupyter-widgets/base",
      "model_module_version": "1.2.0",
      "model_name": "LayoutModel",
      "state": {
       "_model_module": "@jupyter-widgets/base",
       "_model_module_version": "1.2.0",
       "_model_name": "LayoutModel",
       "_view_count": null,
       "_view_module": "@jupyter-widgets/base",
       "_view_module_version": "1.2.0",
       "_view_name": "LayoutView",
       "align_content": null,
       "align_items": null,
       "align_self": null,
       "border": null,
       "bottom": null,
       "display": null,
       "flex": null,
       "flex_flow": null,
       "grid_area": null,
       "grid_auto_columns": null,
       "grid_auto_flow": null,
       "grid_auto_rows": null,
       "grid_column": null,
       "grid_gap": null,
       "grid_row": null,
       "grid_template_areas": null,
       "grid_template_columns": null,
       "grid_template_rows": null,
       "height": null,
       "justify_content": null,
       "justify_items": null,
       "left": null,
       "margin": null,
       "max_height": null,
       "max_width": null,
       "min_height": null,
       "min_width": null,
       "object_fit": null,
       "object_position": null,
       "order": null,
       "overflow": null,
       "overflow_x": null,
       "overflow_y": null,
       "padding": null,
       "right": null,
       "top": null,
       "visibility": null,
       "width": null
      }
     },
     "039b61f71da342d0a844f7ca4dedebaa": {
      "model_module": "@jupyter-widgets/base",
      "model_module_version": "1.2.0",
      "model_name": "LayoutModel",
      "state": {
       "_model_module": "@jupyter-widgets/base",
       "_model_module_version": "1.2.0",
       "_model_name": "LayoutModel",
       "_view_count": null,
       "_view_module": "@jupyter-widgets/base",
       "_view_module_version": "1.2.0",
       "_view_name": "LayoutView",
       "align_content": null,
       "align_items": null,
       "align_self": null,
       "border": null,
       "bottom": null,
       "display": null,
       "flex": null,
       "flex_flow": null,
       "grid_area": null,
       "grid_auto_columns": null,
       "grid_auto_flow": null,
       "grid_auto_rows": null,
       "grid_column": null,
       "grid_gap": null,
       "grid_row": null,
       "grid_template_areas": null,
       "grid_template_columns": null,
       "grid_template_rows": null,
       "height": null,
       "justify_content": null,
       "justify_items": null,
       "left": null,
       "margin": null,
       "max_height": null,
       "max_width": null,
       "min_height": null,
       "min_width": null,
       "object_fit": null,
       "object_position": null,
       "order": null,
       "overflow": null,
       "overflow_x": null,
       "overflow_y": null,
       "padding": null,
       "right": null,
       "top": null,
       "visibility": null,
       "width": null
      }
     },
     "0676e38785004ea8942ba107ec3a20b7": {
      "model_module": "@jupyter-widgets/controls",
      "model_module_version": "1.5.0",
      "model_name": "HTMLModel",
      "state": {
       "_dom_classes": [],
       "_model_module": "@jupyter-widgets/controls",
       "_model_module_version": "1.5.0",
       "_model_name": "HTMLModel",
       "_view_count": null,
       "_view_module": "@jupyter-widgets/controls",
       "_view_module_version": "1.5.0",
       "_view_name": "HTMLView",
       "description": "",
       "description_tooltip": null,
       "layout": "IPY_MODEL_c884e0ff74484c5d94b2a737b235b51b",
       "placeholder": "​",
       "style": "IPY_MODEL_d148d6eecad8440c8302de8f65267744",
       "value": "Downloading: 100%"
      }
     },
     "0c7548c616b34ee194d3c840a499c9c8": {
      "model_module": "@jupyter-widgets/controls",
      "model_module_version": "1.5.0",
      "model_name": "DescriptionStyleModel",
      "state": {
       "_model_module": "@jupyter-widgets/controls",
       "_model_module_version": "1.5.0",
       "_model_name": "DescriptionStyleModel",
       "_view_count": null,
       "_view_module": "@jupyter-widgets/base",
       "_view_module_version": "1.2.0",
       "_view_name": "StyleView",
       "description_width": ""
      }
     },
     "0f47657eb9f847b1863db17a7fdab703": {
      "model_module": "@jupyter-widgets/controls",
      "model_module_version": "1.5.0",
      "model_name": "DescriptionStyleModel",
      "state": {
       "_model_module": "@jupyter-widgets/controls",
       "_model_module_version": "1.5.0",
       "_model_name": "DescriptionStyleModel",
       "_view_count": null,
       "_view_module": "@jupyter-widgets/base",
       "_view_module_version": "1.2.0",
       "_view_name": "StyleView",
       "description_width": ""
      }
     },
     "1128d1b9ede0459c96266b0af0b4c90d": {
      "model_module": "@jupyter-widgets/controls",
      "model_module_version": "1.5.0",
      "model_name": "FloatProgressModel",
      "state": {
       "_dom_classes": [],
       "_model_module": "@jupyter-widgets/controls",
       "_model_module_version": "1.5.0",
       "_model_name": "FloatProgressModel",
       "_view_count": null,
       "_view_module": "@jupyter-widgets/controls",
       "_view_module_version": "1.5.0",
       "_view_name": "ProgressView",
       "bar_style": "",
       "description": "",
       "description_tooltip": null,
       "layout": "IPY_MODEL_8b3d4ac9d5b44f8f8b9606930a47f272",
       "max": 1,
       "min": 0,
       "orientation": "horizontal",
       "style": "IPY_MODEL_efdc5ca5cd68426a8b5008e30cb5437f",
       "value": 1
      }
     },
     "116f6117f15f426cbd561fa3880c1c69": {
      "model_module": "@jupyter-widgets/controls",
      "model_module_version": "1.5.0",
      "model_name": "HTMLModel",
      "state": {
       "_dom_classes": [],
       "_model_module": "@jupyter-widgets/controls",
       "_model_module_version": "1.5.0",
       "_model_name": "HTMLModel",
       "_view_count": null,
       "_view_module": "@jupyter-widgets/controls",
       "_view_module_version": "1.5.0",
       "_view_name": "HTMLView",
       "description": "",
       "description_tooltip": null,
       "layout": "IPY_MODEL_749d2f3d037d43aab83958bf18e6ff78",
       "placeholder": "​",
       "style": "IPY_MODEL_1765dc6da0a74d4f859982dbe183c649",
       "value": " 112/112 [00:00&lt;00:00, 3.87kB/s]"
      }
     },
     "153f6cf5bdd248f2ad151f06cde62e29": {
      "model_module": "@jupyter-widgets/controls",
      "model_module_version": "1.5.0",
      "model_name": "HTMLModel",
      "state": {
       "_dom_classes": [],
       "_model_module": "@jupyter-widgets/controls",
       "_model_module_version": "1.5.0",
       "_model_name": "HTMLModel",
       "_view_count": null,
       "_view_module": "@jupyter-widgets/controls",
       "_view_module_version": "1.5.0",
       "_view_name": "HTMLView",
       "description": "",
       "description_tooltip": null,
       "layout": "IPY_MODEL_8e12fcc1e76e4c41b049e4f7cf3cb499",
       "placeholder": "​",
       "style": "IPY_MODEL_b08c6e1d8d7849f2abae02f0699edb34",
       "value": "Downloading: 100%"
      }
     },
     "1765dc6da0a74d4f859982dbe183c649": {
      "model_module": "@jupyter-widgets/controls",
      "model_module_version": "1.5.0",
      "model_name": "DescriptionStyleModel",
      "state": {
       "_model_module": "@jupyter-widgets/controls",
       "_model_module_version": "1.5.0",
       "_model_name": "DescriptionStyleModel",
       "_view_count": null,
       "_view_module": "@jupyter-widgets/base",
       "_view_module_version": "1.2.0",
       "_view_name": "StyleView",
       "description_width": ""
      }
     },
     "1c8e2d9086ac40faaa4e0a7859fa0485": {
      "model_module": "@jupyter-widgets/base",
      "model_module_version": "1.2.0",
      "model_name": "LayoutModel",
      "state": {
       "_model_module": "@jupyter-widgets/base",
       "_model_module_version": "1.2.0",
       "_model_name": "LayoutModel",
       "_view_count": null,
       "_view_module": "@jupyter-widgets/base",
       "_view_module_version": "1.2.0",
       "_view_name": "LayoutView",
       "align_content": null,
       "align_items": null,
       "align_self": null,
       "border": null,
       "bottom": null,
       "display": null,
       "flex": null,
       "flex_flow": null,
       "grid_area": null,
       "grid_auto_columns": null,
       "grid_auto_flow": null,
       "grid_auto_rows": null,
       "grid_column": null,
       "grid_gap": null,
       "grid_row": null,
       "grid_template_areas": null,
       "grid_template_columns": null,
       "grid_template_rows": null,
       "height": null,
       "justify_content": null,
       "justify_items": null,
       "left": null,
       "margin": null,
       "max_height": null,
       "max_width": null,
       "min_height": null,
       "min_width": null,
       "object_fit": null,
       "object_position": null,
       "order": null,
       "overflow": null,
       "overflow_x": null,
       "overflow_y": null,
       "padding": null,
       "right": null,
       "top": null,
       "visibility": null,
       "width": null
      }
     },
     "1e0b5e1442e44c07b82e75e34d9a3d21": {
      "model_module": "@jupyter-widgets/controls",
      "model_module_version": "1.5.0",
      "model_name": "ProgressStyleModel",
      "state": {
       "_model_module": "@jupyter-widgets/controls",
       "_model_module_version": "1.5.0",
       "_model_name": "ProgressStyleModel",
       "_view_count": null,
       "_view_module": "@jupyter-widgets/base",
       "_view_module_version": "1.2.0",
       "_view_name": "StyleView",
       "bar_color": null,
       "description_width": ""
      }
     },
     "1e6b829c424c4b699d754b5a709a9e23": {
      "model_module": "@jupyter-widgets/base",
      "model_module_version": "1.2.0",
      "model_name": "LayoutModel",
      "state": {
       "_model_module": "@jupyter-widgets/base",
       "_model_module_version": "1.2.0",
       "_model_name": "LayoutModel",
       "_view_count": null,
       "_view_module": "@jupyter-widgets/base",
       "_view_module_version": "1.2.0",
       "_view_name": "LayoutView",
       "align_content": null,
       "align_items": null,
       "align_self": null,
       "border": null,
       "bottom": null,
       "display": null,
       "flex": null,
       "flex_flow": null,
       "grid_area": null,
       "grid_auto_columns": null,
       "grid_auto_flow": null,
       "grid_auto_rows": null,
       "grid_column": null,
       "grid_gap": null,
       "grid_row": null,
       "grid_template_areas": null,
       "grid_template_columns": null,
       "grid_template_rows": null,
       "height": null,
       "justify_content": null,
       "justify_items": null,
       "left": null,
       "margin": null,
       "max_height": null,
       "max_width": null,
       "min_height": null,
       "min_width": null,
       "object_fit": null,
       "object_position": null,
       "order": null,
       "overflow": null,
       "overflow_x": null,
       "overflow_y": null,
       "padding": null,
       "right": null,
       "top": null,
       "visibility": null,
       "width": null
      }
     },
     "1ecef8cb4c5049ae80434b7b4e957a5e": {
      "model_module": "@jupyter-widgets/controls",
      "model_module_version": "1.5.0",
      "model_name": "FloatProgressModel",
      "state": {
       "_dom_classes": [],
       "_model_module": "@jupyter-widgets/controls",
       "_model_module_version": "1.5.0",
       "_model_name": "FloatProgressModel",
       "_view_count": null,
       "_view_module": "@jupyter-widgets/controls",
       "_view_module_version": "1.5.0",
       "_view_name": "ProgressView",
       "bar_style": "",
       "description": "",
       "description_tooltip": null,
       "layout": "IPY_MODEL_8124546967cf4fecb0cfdf428f629709",
       "max": 1,
       "min": 0,
       "orientation": "horizontal",
       "style": "IPY_MODEL_ec0c7697db974bff8c969f1cbaf61254",
       "value": 1
      }
     },
     "244e2ee0a61d47179666a0eb4126dd0e": {
      "model_module": "@jupyter-widgets/base",
      "model_module_version": "1.2.0",
      "model_name": "LayoutModel",
      "state": {
       "_model_module": "@jupyter-widgets/base",
       "_model_module_version": "1.2.0",
       "_model_name": "LayoutModel",
       "_view_count": null,
       "_view_module": "@jupyter-widgets/base",
       "_view_module_version": "1.2.0",
       "_view_name": "LayoutView",
       "align_content": null,
       "align_items": null,
       "align_self": null,
       "border": null,
       "bottom": null,
       "display": null,
       "flex": null,
       "flex_flow": null,
       "grid_area": null,
       "grid_auto_columns": null,
       "grid_auto_flow": null,
       "grid_auto_rows": null,
       "grid_column": null,
       "grid_gap": null,
       "grid_row": null,
       "grid_template_areas": null,
       "grid_template_columns": null,
       "grid_template_rows": null,
       "height": null,
       "justify_content": null,
       "justify_items": null,
       "left": null,
       "margin": null,
       "max_height": null,
       "max_width": null,
       "min_height": null,
       "min_width": null,
       "object_fit": null,
       "object_position": null,
       "order": null,
       "overflow": null,
       "overflow_x": null,
       "overflow_y": null,
       "padding": null,
       "right": null,
       "top": null,
       "visibility": null,
       "width": null
      }
     },
     "248168e053134e7594f2d6a34d33b0de": {
      "model_module": "@jupyter-widgets/base",
      "model_module_version": "1.2.0",
      "model_name": "LayoutModel",
      "state": {
       "_model_module": "@jupyter-widgets/base",
       "_model_module_version": "1.2.0",
       "_model_name": "LayoutModel",
       "_view_count": null,
       "_view_module": "@jupyter-widgets/base",
       "_view_module_version": "1.2.0",
       "_view_name": "LayoutView",
       "align_content": null,
       "align_items": null,
       "align_self": null,
       "border": null,
       "bottom": null,
       "display": null,
       "flex": null,
       "flex_flow": null,
       "grid_area": null,
       "grid_auto_columns": null,
       "grid_auto_flow": null,
       "grid_auto_rows": null,
       "grid_column": null,
       "grid_gap": null,
       "grid_row": null,
       "grid_template_areas": null,
       "grid_template_columns": null,
       "grid_template_rows": null,
       "height": null,
       "justify_content": null,
       "justify_items": null,
       "left": null,
       "margin": null,
       "max_height": null,
       "max_width": null,
       "min_height": null,
       "min_width": null,
       "object_fit": null,
       "object_position": null,
       "order": null,
       "overflow": null,
       "overflow_x": null,
       "overflow_y": null,
       "padding": null,
       "right": null,
       "top": null,
       "visibility": null,
       "width": null
      }
     },
     "24aa7c7a6cda4e72b33449123aebd1e9": {
      "model_module": "@jupyter-widgets/base",
      "model_module_version": "1.2.0",
      "model_name": "LayoutModel",
      "state": {
       "_model_module": "@jupyter-widgets/base",
       "_model_module_version": "1.2.0",
       "_model_name": "LayoutModel",
       "_view_count": null,
       "_view_module": "@jupyter-widgets/base",
       "_view_module_version": "1.2.0",
       "_view_name": "LayoutView",
       "align_content": null,
       "align_items": null,
       "align_self": null,
       "border": null,
       "bottom": null,
       "display": null,
       "flex": null,
       "flex_flow": null,
       "grid_area": null,
       "grid_auto_columns": null,
       "grid_auto_flow": null,
       "grid_auto_rows": null,
       "grid_column": null,
       "grid_gap": null,
       "grid_row": null,
       "grid_template_areas": null,
       "grid_template_columns": null,
       "grid_template_rows": null,
       "height": null,
       "justify_content": null,
       "justify_items": null,
       "left": null,
       "margin": null,
       "max_height": null,
       "max_width": null,
       "min_height": null,
       "min_width": null,
       "object_fit": null,
       "object_position": null,
       "order": null,
       "overflow": null,
       "overflow_x": null,
       "overflow_y": null,
       "padding": null,
       "right": null,
       "top": null,
       "visibility": null,
       "width": null
      }
     },
     "24d5597ba5f8483ca15a1fbf1bfd5aa9": {
      "model_module": "@jupyter-widgets/base",
      "model_module_version": "1.2.0",
      "model_name": "LayoutModel",
      "state": {
       "_model_module": "@jupyter-widgets/base",
       "_model_module_version": "1.2.0",
       "_model_name": "LayoutModel",
       "_view_count": null,
       "_view_module": "@jupyter-widgets/base",
       "_view_module_version": "1.2.0",
       "_view_name": "LayoutView",
       "align_content": null,
       "align_items": null,
       "align_self": null,
       "border": null,
       "bottom": null,
       "display": null,
       "flex": null,
       "flex_flow": null,
       "grid_area": null,
       "grid_auto_columns": null,
       "grid_auto_flow": null,
       "grid_auto_rows": null,
       "grid_column": null,
       "grid_gap": null,
       "grid_row": null,
       "grid_template_areas": null,
       "grid_template_columns": null,
       "grid_template_rows": null,
       "height": null,
       "justify_content": null,
       "justify_items": null,
       "left": null,
       "margin": null,
       "max_height": null,
       "max_width": null,
       "min_height": null,
       "min_width": null,
       "object_fit": null,
       "object_position": null,
       "order": null,
       "overflow": null,
       "overflow_x": null,
       "overflow_y": null,
       "padding": null,
       "right": null,
       "top": null,
       "visibility": null,
       "width": null
      }
     },
     "269a699327a94375aca3f5fd37a01e94": {
      "model_module": "@jupyter-widgets/controls",
      "model_module_version": "1.5.0",
      "model_name": "HBoxModel",
      "state": {
       "_dom_classes": [],
       "_model_module": "@jupyter-widgets/controls",
       "_model_module_version": "1.5.0",
       "_model_name": "HBoxModel",
       "_view_count": null,
       "_view_module": "@jupyter-widgets/controls",
       "_view_module_version": "1.5.0",
       "_view_name": "HBoxView",
       "box_style": "",
       "children": [
        "IPY_MODEL_d0e7f2529e8d45d588a1d7b6044e1b76",
        "IPY_MODEL_3f79aa3169574aebbe4875c3c37fe69a",
        "IPY_MODEL_9704a7f030df46bcb55516ba99e2f9e2"
       ],
       "layout": "IPY_MODEL_5d11dc4b82fa47cf8ca373dad1c4d9e8"
      }
     },
     "29762764850b4c2e89a3519218883e7e": {
      "model_module": "@jupyter-widgets/controls",
      "model_module_version": "1.5.0",
      "model_name": "ProgressStyleModel",
      "state": {
       "_model_module": "@jupyter-widgets/controls",
       "_model_module_version": "1.5.0",
       "_model_name": "ProgressStyleModel",
       "_view_count": null,
       "_view_module": "@jupyter-widgets/base",
       "_view_module_version": "1.2.0",
       "_view_name": "StyleView",
       "bar_color": null,
       "description_width": ""
      }
     },
     "2bbc3b62681f4312867dfd68fa79db73": {
      "model_module": "@jupyter-widgets/base",
      "model_module_version": "1.2.0",
      "model_name": "LayoutModel",
      "state": {
       "_model_module": "@jupyter-widgets/base",
       "_model_module_version": "1.2.0",
       "_model_name": "LayoutModel",
       "_view_count": null,
       "_view_module": "@jupyter-widgets/base",
       "_view_module_version": "1.2.0",
       "_view_name": "LayoutView",
       "align_content": null,
       "align_items": null,
       "align_self": null,
       "border": null,
       "bottom": null,
       "display": null,
       "flex": null,
       "flex_flow": null,
       "grid_area": null,
       "grid_auto_columns": null,
       "grid_auto_flow": null,
       "grid_auto_rows": null,
       "grid_column": null,
       "grid_gap": null,
       "grid_row": null,
       "grid_template_areas": null,
       "grid_template_columns": null,
       "grid_template_rows": null,
       "height": null,
       "justify_content": null,
       "justify_items": null,
       "left": null,
       "margin": null,
       "max_height": null,
       "max_width": null,
       "min_height": null,
       "min_width": null,
       "object_fit": null,
       "object_position": null,
       "order": null,
       "overflow": null,
       "overflow_x": null,
       "overflow_y": null,
       "padding": null,
       "right": null,
       "top": null,
       "visibility": null,
       "width": null
      }
     },
     "2e67146f827f47179b14de659f3d9d94": {
      "model_module": "@jupyter-widgets/controls",
      "model_module_version": "1.5.0",
      "model_name": "HTMLModel",
      "state": {
       "_dom_classes": [],
       "_model_module": "@jupyter-widgets/controls",
       "_model_module_version": "1.5.0",
       "_model_name": "HTMLModel",
       "_view_count": null,
       "_view_module": "@jupyter-widgets/controls",
       "_view_module_version": "1.5.0",
       "_view_name": "HTMLView",
       "description": "",
       "description_tooltip": null,
       "layout": "IPY_MODEL_1e6b829c424c4b699d754b5a709a9e23",
       "placeholder": "​",
       "style": "IPY_MODEL_c56832ca61f046e1ba4787f6cabad144",
       "value": " 3.02M/3.02M [00:00&lt;00:00, 3.93MB/s]"
      }
     },
     "3c8a4a5bea204f7b953f6ec196f43c9f": {
      "model_module": "@jupyter-widgets/controls",
      "model_module_version": "1.5.0",
      "model_name": "LabelModel",
      "state": {
       "_dom_classes": [],
       "_model_module": "@jupyter-widgets/controls",
       "_model_module_version": "1.5.0",
       "_model_name": "LabelModel",
       "_view_count": null,
       "_view_module": "@jupyter-widgets/controls",
       "_view_module_version": "1.5.0",
       "_view_name": "LabelView",
       "description": "",
       "description_tooltip": null,
       "layout": "IPY_MODEL_b15f2542b72d4676803405b2a9fe18ef",
       "placeholder": "​",
       "style": "IPY_MODEL_3fdd84b023b2443399f75d00141c9f03",
       "value": " 0.73MB of 0.73MB uploaded (0.00MB deduped)\r"
      }
     },
     "3f79aa3169574aebbe4875c3c37fe69a": {
      "model_module": "@jupyter-widgets/controls",
      "model_module_version": "1.5.0",
      "model_name": "FloatProgressModel",
      "state": {
       "_dom_classes": [],
       "_model_module": "@jupyter-widgets/controls",
       "_model_module_version": "1.5.0",
       "_model_name": "FloatProgressModel",
       "_view_count": null,
       "_view_module": "@jupyter-widgets/controls",
       "_view_module_version": "1.5.0",
       "_view_name": "ProgressView",
       "bar_style": "success",
       "description": "",
       "description_tooltip": null,
       "layout": "IPY_MODEL_470dcdae469647c09bed8ba5bdde0a6b",
       "max": 181,
       "min": 0,
       "orientation": "horizontal",
       "style": "IPY_MODEL_d6f275514c9c43f1ba2003d99a1e59e8",
       "value": 181
      }
     },
     "3fdd84b023b2443399f75d00141c9f03": {
      "model_module": "@jupyter-widgets/controls",
      "model_module_version": "1.5.0",
      "model_name": "DescriptionStyleModel",
      "state": {
       "_model_module": "@jupyter-widgets/controls",
       "_model_module_version": "1.5.0",
       "_model_name": "DescriptionStyleModel",
       "_view_count": null,
       "_view_module": "@jupyter-widgets/base",
       "_view_module_version": "1.2.0",
       "_view_name": "StyleView",
       "description_width": ""
      }
     },
     "439520547a48473c9d00570ac05a508f": {
      "model_module": "@jupyter-widgets/controls",
      "model_module_version": "1.5.0",
      "model_name": "DescriptionStyleModel",
      "state": {
       "_model_module": "@jupyter-widgets/controls",
       "_model_module_version": "1.5.0",
       "_model_name": "DescriptionStyleModel",
       "_view_count": null,
       "_view_module": "@jupyter-widgets/base",
       "_view_module_version": "1.2.0",
       "_view_name": "StyleView",
       "description_width": ""
      }
     },
     "43dbc8719a014acdafba2532d1f4c4e7": {
      "model_module": "@jupyter-widgets/controls",
      "model_module_version": "1.5.0",
      "model_name": "ProgressStyleModel",
      "state": {
       "_model_module": "@jupyter-widgets/controls",
       "_model_module_version": "1.5.0",
       "_model_name": "ProgressStyleModel",
       "_view_count": null,
       "_view_module": "@jupyter-widgets/base",
       "_view_module_version": "1.2.0",
       "_view_name": "StyleView",
       "bar_color": null,
       "description_width": ""
      }
     },
     "44793863b9e246ad97e627987367477d": {
      "model_module": "@jupyter-widgets/controls",
      "model_module_version": "1.5.0",
      "model_name": "LabelModel",
      "state": {
       "_dom_classes": [],
       "_model_module": "@jupyter-widgets/controls",
       "_model_module_version": "1.5.0",
       "_model_name": "LabelModel",
       "_view_count": null,
       "_view_module": "@jupyter-widgets/controls",
       "_view_module_version": "1.5.0",
       "_view_name": "LabelView",
       "description": "",
       "description_tooltip": null,
       "layout": "IPY_MODEL_c6e42123a66f442eae5b02c4d1208d6c",
       "placeholder": "​",
       "style": "IPY_MODEL_5789f2eab17b43019c93edc4edaca51a",
       "value": " 0.74MB of 0.74MB uploaded (0.00MB deduped)\r"
      }
     },
     "44b8800ff2d74b6c851a792cf28a6a02": {
      "model_module": "@jupyter-widgets/controls",
      "model_module_version": "1.5.0",
      "model_name": "FloatProgressModel",
      "state": {
       "_dom_classes": [],
       "_model_module": "@jupyter-widgets/controls",
       "_model_module_version": "1.5.0",
       "_model_name": "FloatProgressModel",
       "_view_count": null,
       "_view_module": "@jupyter-widgets/controls",
       "_view_module_version": "1.5.0",
       "_view_name": "ProgressView",
       "bar_style": "success",
       "description": "",
       "description_tooltip": null,
       "layout": "IPY_MODEL_c49e5459dbf34fa394d1127435c390dc",
       "max": 2028800502,
       "min": 0,
       "orientation": "horizontal",
       "style": "IPY_MODEL_6ce0a3a548e34d93a68aa93389fc68f6",
       "value": 2028800502
      }
     },
     "46e6918992e148ad9437bcef7a2a7d2b": {
      "model_module": "@jupyter-widgets/base",
      "model_module_version": "1.2.0",
      "model_name": "LayoutModel",
      "state": {
       "_model_module": "@jupyter-widgets/base",
       "_model_module_version": "1.2.0",
       "_model_name": "LayoutModel",
       "_view_count": null,
       "_view_module": "@jupyter-widgets/base",
       "_view_module_version": "1.2.0",
       "_view_name": "LayoutView",
       "align_content": null,
       "align_items": null,
       "align_self": null,
       "border": null,
       "bottom": null,
       "display": null,
       "flex": null,
       "flex_flow": null,
       "grid_area": null,
       "grid_auto_columns": null,
       "grid_auto_flow": null,
       "grid_auto_rows": null,
       "grid_column": null,
       "grid_gap": null,
       "grid_row": null,
       "grid_template_areas": null,
       "grid_template_columns": null,
       "grid_template_rows": null,
       "height": null,
       "justify_content": null,
       "justify_items": null,
       "left": null,
       "margin": null,
       "max_height": null,
       "max_width": null,
       "min_height": null,
       "min_width": null,
       "object_fit": null,
       "object_position": null,
       "order": null,
       "overflow": null,
       "overflow_x": null,
       "overflow_y": null,
       "padding": null,
       "right": null,
       "top": null,
       "visibility": null,
       "width": null
      }
     },
     "470dcdae469647c09bed8ba5bdde0a6b": {
      "model_module": "@jupyter-widgets/base",
      "model_module_version": "1.2.0",
      "model_name": "LayoutModel",
      "state": {
       "_model_module": "@jupyter-widgets/base",
       "_model_module_version": "1.2.0",
       "_model_name": "LayoutModel",
       "_view_count": null,
       "_view_module": "@jupyter-widgets/base",
       "_view_module_version": "1.2.0",
       "_view_name": "LayoutView",
       "align_content": null,
       "align_items": null,
       "align_self": null,
       "border": null,
       "bottom": null,
       "display": null,
       "flex": null,
       "flex_flow": null,
       "grid_area": null,
       "grid_auto_columns": null,
       "grid_auto_flow": null,
       "grid_auto_rows": null,
       "grid_column": null,
       "grid_gap": null,
       "grid_row": null,
       "grid_template_areas": null,
       "grid_template_columns": null,
       "grid_template_rows": null,
       "height": null,
       "justify_content": null,
       "justify_items": null,
       "left": null,
       "margin": null,
       "max_height": null,
       "max_width": null,
       "min_height": null,
       "min_width": null,
       "object_fit": null,
       "object_position": null,
       "order": null,
       "overflow": null,
       "overflow_x": null,
       "overflow_y": null,
       "padding": null,
       "right": null,
       "top": null,
       "visibility": null,
       "width": null
      }
     },
     "492d4045e140429598287df51d5fe21d": {
      "model_module": "@jupyter-widgets/controls",
      "model_module_version": "1.5.0",
      "model_name": "HBoxModel",
      "state": {
       "_dom_classes": [],
       "_model_module": "@jupyter-widgets/controls",
       "_model_module_version": "1.5.0",
       "_model_name": "HBoxModel",
       "_view_count": null,
       "_view_module": "@jupyter-widgets/controls",
       "_view_module_version": "1.5.0",
       "_view_name": "HBoxView",
       "box_style": "",
       "children": [
        "IPY_MODEL_cfa4fb2051f84197b36fb07888661c60",
        "IPY_MODEL_44b8800ff2d74b6c851a792cf28a6a02",
        "IPY_MODEL_fdfb8d48a48e42b2bffc726c8a92d854"
       ],
       "layout": "IPY_MODEL_2bbc3b62681f4312867dfd68fa79db73"
      }
     },
     "4a241d1279a143f4ab9b7883419b2f69": {
      "model_module": "@jupyter-widgets/controls",
      "model_module_version": "1.5.0",
      "model_name": "HTMLModel",
      "state": {
       "_dom_classes": [],
       "_model_module": "@jupyter-widgets/controls",
       "_model_module_version": "1.5.0",
       "_model_name": "HTMLModel",
       "_view_count": null,
       "_view_module": "@jupyter-widgets/controls",
       "_view_module_version": "1.5.0",
       "_view_name": "HTMLView",
       "description": "",
       "description_tooltip": null,
       "layout": "IPY_MODEL_46e6918992e148ad9437bcef7a2a7d2b",
       "placeholder": "​",
       "style": "IPY_MODEL_0f47657eb9f847b1863db17a7fdab703",
       "value": "Downloading: 100%"
      }
     },
     "54f33901534448959cd8067884a9e259": {
      "model_module": "@jupyter-widgets/controls",
      "model_module_version": "1.5.0",
      "model_name": "ProgressStyleModel",
      "state": {
       "_model_module": "@jupyter-widgets/controls",
       "_model_module_version": "1.5.0",
       "_model_name": "ProgressStyleModel",
       "_view_count": null,
       "_view_module": "@jupyter-widgets/base",
       "_view_module_version": "1.2.0",
       "_view_name": "StyleView",
       "bar_color": null,
       "description_width": ""
      }
     },
     "5789f2eab17b43019c93edc4edaca51a": {
      "model_module": "@jupyter-widgets/controls",
      "model_module_version": "1.5.0",
      "model_name": "DescriptionStyleModel",
      "state": {
       "_model_module": "@jupyter-widgets/controls",
       "_model_module_version": "1.5.0",
       "_model_name": "DescriptionStyleModel",
       "_view_count": null,
       "_view_module": "@jupyter-widgets/base",
       "_view_module_version": "1.2.0",
       "_view_name": "StyleView",
       "description_width": ""
      }
     },
     "5d11dc4b82fa47cf8ca373dad1c4d9e8": {
      "model_module": "@jupyter-widgets/base",
      "model_module_version": "1.2.0",
      "model_name": "LayoutModel",
      "state": {
       "_model_module": "@jupyter-widgets/base",
       "_model_module_version": "1.2.0",
       "_model_name": "LayoutModel",
       "_view_count": null,
       "_view_module": "@jupyter-widgets/base",
       "_view_module_version": "1.2.0",
       "_view_name": "LayoutView",
       "align_content": null,
       "align_items": null,
       "align_self": null,
       "border": null,
       "bottom": null,
       "display": null,
       "flex": null,
       "flex_flow": null,
       "grid_area": null,
       "grid_auto_columns": null,
       "grid_auto_flow": null,
       "grid_auto_rows": null,
       "grid_column": null,
       "grid_gap": null,
       "grid_row": null,
       "grid_template_areas": null,
       "grid_template_columns": null,
       "grid_template_rows": null,
       "height": null,
       "justify_content": null,
       "justify_items": null,
       "left": null,
       "margin": null,
       "max_height": null,
       "max_width": null,
       "min_height": null,
       "min_width": null,
       "object_fit": null,
       "object_position": null,
       "order": null,
       "overflow": null,
       "overflow_x": null,
       "overflow_y": null,
       "padding": null,
       "right": null,
       "top": null,
       "visibility": null,
       "width": null
      }
     },
     "5df580ca883f411db98ef8fc3fc3a189": {
      "model_module": "@jupyter-widgets/controls",
      "model_module_version": "1.5.0",
      "model_name": "ProgressStyleModel",
      "state": {
       "_model_module": "@jupyter-widgets/controls",
       "_model_module_version": "1.5.0",
       "_model_name": "ProgressStyleModel",
       "_view_count": null,
       "_view_module": "@jupyter-widgets/base",
       "_view_module_version": "1.2.0",
       "_view_name": "StyleView",
       "bar_color": null,
       "description_width": ""
      }
     },
     "5fe94c6a83d9497ab75571015ae47727": {
      "model_module": "@jupyter-widgets/controls",
      "model_module_version": "1.5.0",
      "model_name": "VBoxModel",
      "state": {
       "_dom_classes": [],
       "_model_module": "@jupyter-widgets/controls",
       "_model_module_version": "1.5.0",
       "_model_name": "VBoxModel",
       "_view_count": null,
       "_view_module": "@jupyter-widgets/controls",
       "_view_module_version": "1.5.0",
       "_view_name": "VBoxView",
       "box_style": "",
       "children": [
        "IPY_MODEL_d1af7f6d9d4a4f1291f830cca4fc422c",
        "IPY_MODEL_1128d1b9ede0459c96266b0af0b4c90d"
       ],
       "layout": "IPY_MODEL_ecd26fd64ee04eb4867d98cc17a7a1c2"
      }
     },
     "69d7135af5ef491e81ece878c7003936": {
      "model_module": "@jupyter-widgets/controls",
      "model_module_version": "1.5.0",
      "model_name": "HBoxModel",
      "state": {
       "_dom_classes": [],
       "_model_module": "@jupyter-widgets/controls",
       "_model_module_version": "1.5.0",
       "_model_name": "HBoxModel",
       "_view_count": null,
       "_view_module": "@jupyter-widgets/controls",
       "_view_module_version": "1.5.0",
       "_view_name": "HBoxView",
       "box_style": "",
       "children": [
        "IPY_MODEL_0676e38785004ea8942ba107ec3a20b7",
        "IPY_MODEL_859bdeae245f42c899634cc9a8ea8528",
        "IPY_MODEL_72ad896b94a1497bbaf70f0c6de2384f"
       ],
       "layout": "IPY_MODEL_244e2ee0a61d47179666a0eb4126dd0e"
      }
     },
     "6ce0a3a548e34d93a68aa93389fc68f6": {
      "model_module": "@jupyter-widgets/controls",
      "model_module_version": "1.5.0",
      "model_name": "ProgressStyleModel",
      "state": {
       "_model_module": "@jupyter-widgets/controls",
       "_model_module_version": "1.5.0",
       "_model_name": "ProgressStyleModel",
       "_view_count": null,
       "_view_module": "@jupyter-widgets/base",
       "_view_module_version": "1.2.0",
       "_view_name": "StyleView",
       "bar_color": null,
       "description_width": ""
      }
     },
     "6f290fbb63194dabadc349454fae3cbe": {
      "model_module": "@jupyter-widgets/base",
      "model_module_version": "1.2.0",
      "model_name": "LayoutModel",
      "state": {
       "_model_module": "@jupyter-widgets/base",
       "_model_module_version": "1.2.0",
       "_model_name": "LayoutModel",
       "_view_count": null,
       "_view_module": "@jupyter-widgets/base",
       "_view_module_version": "1.2.0",
       "_view_name": "LayoutView",
       "align_content": null,
       "align_items": null,
       "align_self": null,
       "border": null,
       "bottom": null,
       "display": null,
       "flex": null,
       "flex_flow": null,
       "grid_area": null,
       "grid_auto_columns": null,
       "grid_auto_flow": null,
       "grid_auto_rows": null,
       "grid_column": null,
       "grid_gap": null,
       "grid_row": null,
       "grid_template_areas": null,
       "grid_template_columns": null,
       "grid_template_rows": null,
       "height": null,
       "justify_content": null,
       "justify_items": null,
       "left": null,
       "margin": null,
       "max_height": null,
       "max_width": null,
       "min_height": null,
       "min_width": null,
       "object_fit": null,
       "object_position": null,
       "order": null,
       "overflow": null,
       "overflow_x": null,
       "overflow_y": null,
       "padding": null,
       "right": null,
       "top": null,
       "visibility": null,
       "width": null
      }
     },
     "6f9c959d41e34748a7814dc834aea7d3": {
      "model_module": "@jupyter-widgets/controls",
      "model_module_version": "1.5.0",
      "model_name": "DescriptionStyleModel",
      "state": {
       "_model_module": "@jupyter-widgets/controls",
       "_model_module_version": "1.5.0",
       "_model_name": "DescriptionStyleModel",
       "_view_count": null,
       "_view_module": "@jupyter-widgets/base",
       "_view_module_version": "1.2.0",
       "_view_name": "StyleView",
       "description_width": ""
      }
     },
     "72ad896b94a1497bbaf70f0c6de2384f": {
      "model_module": "@jupyter-widgets/controls",
      "model_module_version": "1.5.0",
      "model_name": "HTMLModel",
      "state": {
       "_dom_classes": [],
       "_model_module": "@jupyter-widgets/controls",
       "_model_module_version": "1.5.0",
       "_model_name": "HTMLModel",
       "_view_count": null,
       "_view_module": "@jupyter-widgets/controls",
       "_view_module_version": "1.5.0",
       "_view_name": "HTMLView",
       "description": "",
       "description_tooltip": null,
       "layout": "IPY_MODEL_efc5a032f7624314b3a265a508d07247",
       "placeholder": "​",
       "style": "IPY_MODEL_d39ba39029e54f9aa6a4b8518bad487c",
       "value": " 406/406 [00:00&lt;00:00, 9.79kB/s]"
      }
     },
     "749d2f3d037d43aab83958bf18e6ff78": {
      "model_module": "@jupyter-widgets/base",
      "model_module_version": "1.2.0",
      "model_name": "LayoutModel",
      "state": {
       "_model_module": "@jupyter-widgets/base",
       "_model_module_version": "1.2.0",
       "_model_name": "LayoutModel",
       "_view_count": null,
       "_view_module": "@jupyter-widgets/base",
       "_view_module_version": "1.2.0",
       "_view_name": "LayoutView",
       "align_content": null,
       "align_items": null,
       "align_self": null,
       "border": null,
       "bottom": null,
       "display": null,
       "flex": null,
       "flex_flow": null,
       "grid_area": null,
       "grid_auto_columns": null,
       "grid_auto_flow": null,
       "grid_auto_rows": null,
       "grid_column": null,
       "grid_gap": null,
       "grid_row": null,
       "grid_template_areas": null,
       "grid_template_columns": null,
       "grid_template_rows": null,
       "height": null,
       "justify_content": null,
       "justify_items": null,
       "left": null,
       "margin": null,
       "max_height": null,
       "max_width": null,
       "min_height": null,
       "min_width": null,
       "object_fit": null,
       "object_position": null,
       "order": null,
       "overflow": null,
       "overflow_x": null,
       "overflow_y": null,
       "padding": null,
       "right": null,
       "top": null,
       "visibility": null,
       "width": null
      }
     },
     "76edbdceee7c4da4963fa1b518f92aee": {
      "model_module": "@jupyter-widgets/controls",
      "model_module_version": "1.5.0",
      "model_name": "FloatProgressModel",
      "state": {
       "_dom_classes": [],
       "_model_module": "@jupyter-widgets/controls",
       "_model_module_version": "1.5.0",
       "_model_name": "FloatProgressModel",
       "_view_count": null,
       "_view_module": "@jupyter-widgets/controls",
       "_view_module_version": "1.5.0",
       "_view_name": "ProgressView",
       "bar_style": "",
       "description": "",
       "description_tooltip": null,
       "layout": "IPY_MODEL_fdcf5e47161d4f378d60eb67d9930268",
       "max": 1,
       "min": 0,
       "orientation": "horizontal",
       "style": "IPY_MODEL_5df580ca883f411db98ef8fc3fc3a189",
       "value": 1
      }
     },
     "7fc257deb7ef4f418dae670bc481a610": {
      "model_module": "@jupyter-widgets/base",
      "model_module_version": "1.2.0",
      "model_name": "LayoutModel",
      "state": {
       "_model_module": "@jupyter-widgets/base",
       "_model_module_version": "1.2.0",
       "_model_name": "LayoutModel",
       "_view_count": null,
       "_view_module": "@jupyter-widgets/base",
       "_view_module_version": "1.2.0",
       "_view_name": "LayoutView",
       "align_content": null,
       "align_items": null,
       "align_self": null,
       "border": null,
       "bottom": null,
       "display": null,
       "flex": null,
       "flex_flow": null,
       "grid_area": null,
       "grid_auto_columns": null,
       "grid_auto_flow": null,
       "grid_auto_rows": null,
       "grid_column": null,
       "grid_gap": null,
       "grid_row": null,
       "grid_template_areas": null,
       "grid_template_columns": null,
       "grid_template_rows": null,
       "height": null,
       "justify_content": null,
       "justify_items": null,
       "left": null,
       "margin": null,
       "max_height": null,
       "max_width": null,
       "min_height": null,
       "min_width": null,
       "object_fit": null,
       "object_position": null,
       "order": null,
       "overflow": null,
       "overflow_x": null,
       "overflow_y": null,
       "padding": null,
       "right": null,
       "top": null,
       "visibility": null,
       "width": null
      }
     },
     "8124546967cf4fecb0cfdf428f629709": {
      "model_module": "@jupyter-widgets/base",
      "model_module_version": "1.2.0",
      "model_name": "LayoutModel",
      "state": {
       "_model_module": "@jupyter-widgets/base",
       "_model_module_version": "1.2.0",
       "_model_name": "LayoutModel",
       "_view_count": null,
       "_view_module": "@jupyter-widgets/base",
       "_view_module_version": "1.2.0",
       "_view_name": "LayoutView",
       "align_content": null,
       "align_items": null,
       "align_self": null,
       "border": null,
       "bottom": null,
       "display": null,
       "flex": null,
       "flex_flow": null,
       "grid_area": null,
       "grid_auto_columns": null,
       "grid_auto_flow": null,
       "grid_auto_rows": null,
       "grid_column": null,
       "grid_gap": null,
       "grid_row": null,
       "grid_template_areas": null,
       "grid_template_columns": null,
       "grid_template_rows": null,
       "height": null,
       "justify_content": null,
       "justify_items": null,
       "left": null,
       "margin": null,
       "max_height": null,
       "max_width": null,
       "min_height": null,
       "min_width": null,
       "object_fit": null,
       "object_position": null,
       "order": null,
       "overflow": null,
       "overflow_x": null,
       "overflow_y": null,
       "padding": null,
       "right": null,
       "top": null,
       "visibility": null,
       "width": null
      }
     },
     "859bdeae245f42c899634cc9a8ea8528": {
      "model_module": "@jupyter-widgets/controls",
      "model_module_version": "1.5.0",
      "model_name": "FloatProgressModel",
      "state": {
       "_dom_classes": [],
       "_model_module": "@jupyter-widgets/controls",
       "_model_module_version": "1.5.0",
       "_model_name": "FloatProgressModel",
       "_view_count": null,
       "_view_module": "@jupyter-widgets/controls",
       "_view_module_version": "1.5.0",
       "_view_name": "ProgressView",
       "bar_style": "success",
       "description": "",
       "description_tooltip": null,
       "layout": "IPY_MODEL_c2b42ad033ca49a88b19e53c11a42399",
       "max": 406,
       "min": 0,
       "orientation": "horizontal",
       "style": "IPY_MODEL_54f33901534448959cd8067884a9e259",
       "value": 406
      }
     },
     "8b3d4ac9d5b44f8f8b9606930a47f272": {
      "model_module": "@jupyter-widgets/base",
      "model_module_version": "1.2.0",
      "model_name": "LayoutModel",
      "state": {
       "_model_module": "@jupyter-widgets/base",
       "_model_module_version": "1.2.0",
       "_model_name": "LayoutModel",
       "_view_count": null,
       "_view_module": "@jupyter-widgets/base",
       "_view_module_version": "1.2.0",
       "_view_name": "LayoutView",
       "align_content": null,
       "align_items": null,
       "align_self": null,
       "border": null,
       "bottom": null,
       "display": null,
       "flex": null,
       "flex_flow": null,
       "grid_area": null,
       "grid_auto_columns": null,
       "grid_auto_flow": null,
       "grid_auto_rows": null,
       "grid_column": null,
       "grid_gap": null,
       "grid_row": null,
       "grid_template_areas": null,
       "grid_template_columns": null,
       "grid_template_rows": null,
       "height": null,
       "justify_content": null,
       "justify_items": null,
       "left": null,
       "margin": null,
       "max_height": null,
       "max_width": null,
       "min_height": null,
       "min_width": null,
       "object_fit": null,
       "object_position": null,
       "order": null,
       "overflow": null,
       "overflow_x": null,
       "overflow_y": null,
       "padding": null,
       "right": null,
       "top": null,
       "visibility": null,
       "width": null
      }
     },
     "8e12fcc1e76e4c41b049e4f7cf3cb499": {
      "model_module": "@jupyter-widgets/base",
      "model_module_version": "1.2.0",
      "model_name": "LayoutModel",
      "state": {
       "_model_module": "@jupyter-widgets/base",
       "_model_module_version": "1.2.0",
       "_model_name": "LayoutModel",
       "_view_count": null,
       "_view_module": "@jupyter-widgets/base",
       "_view_module_version": "1.2.0",
       "_view_name": "LayoutView",
       "align_content": null,
       "align_items": null,
       "align_self": null,
       "border": null,
       "bottom": null,
       "display": null,
       "flex": null,
       "flex_flow": null,
       "grid_area": null,
       "grid_auto_columns": null,
       "grid_auto_flow": null,
       "grid_auto_rows": null,
       "grid_column": null,
       "grid_gap": null,
       "grid_row": null,
       "grid_template_areas": null,
       "grid_template_columns": null,
       "grid_template_rows": null,
       "height": null,
       "justify_content": null,
       "justify_items": null,
       "left": null,
       "margin": null,
       "max_height": null,
       "max_width": null,
       "min_height": null,
       "min_width": null,
       "object_fit": null,
       "object_position": null,
       "order": null,
       "overflow": null,
       "overflow_x": null,
       "overflow_y": null,
       "padding": null,
       "right": null,
       "top": null,
       "visibility": null,
       "width": null
      }
     },
     "8f3ab1a13a7e42259cf0b91ff0518611": {
      "model_module": "@jupyter-widgets/base",
      "model_module_version": "1.2.0",
      "model_name": "LayoutModel",
      "state": {
       "_model_module": "@jupyter-widgets/base",
       "_model_module_version": "1.2.0",
       "_model_name": "LayoutModel",
       "_view_count": null,
       "_view_module": "@jupyter-widgets/base",
       "_view_module_version": "1.2.0",
       "_view_name": "LayoutView",
       "align_content": null,
       "align_items": null,
       "align_self": null,
       "border": null,
       "bottom": null,
       "display": null,
       "flex": null,
       "flex_flow": null,
       "grid_area": null,
       "grid_auto_columns": null,
       "grid_auto_flow": null,
       "grid_auto_rows": null,
       "grid_column": null,
       "grid_gap": null,
       "grid_row": null,
       "grid_template_areas": null,
       "grid_template_columns": null,
       "grid_template_rows": null,
       "height": null,
       "justify_content": null,
       "justify_items": null,
       "left": null,
       "margin": null,
       "max_height": null,
       "max_width": null,
       "min_height": null,
       "min_width": null,
       "object_fit": null,
       "object_position": null,
       "order": null,
       "overflow": null,
       "overflow_x": null,
       "overflow_y": null,
       "padding": null,
       "right": null,
       "top": null,
       "visibility": null,
       "width": null
      }
     },
     "9704a7f030df46bcb55516ba99e2f9e2": {
      "model_module": "@jupyter-widgets/controls",
      "model_module_version": "1.5.0",
      "model_name": "HTMLModel",
      "state": {
       "_dom_classes": [],
       "_model_module": "@jupyter-widgets/controls",
       "_model_module_version": "1.5.0",
       "_model_name": "HTMLModel",
       "_view_count": null,
       "_view_module": "@jupyter-widgets/controls",
       "_view_module_version": "1.5.0",
       "_view_name": "HTMLView",
       "description": "",
       "description_tooltip": null,
       "layout": "IPY_MODEL_248168e053134e7594f2d6a34d33b0de",
       "placeholder": "​",
       "style": "IPY_MODEL_d3d9cbfc682d4a1ab9c225c0a5a38846",
       "value": " 181/181 [00:00&lt;00:00, 3.53kB/s]"
      }
     },
     "97e0a925ccb94f7486f22e8386a55d95": {
      "model_module": "@jupyter-widgets/controls",
      "model_module_version": "1.5.0",
      "model_name": "LabelModel",
      "state": {
       "_dom_classes": [],
       "_model_module": "@jupyter-widgets/controls",
       "_model_module_version": "1.5.0",
       "_model_name": "LabelModel",
       "_view_count": null,
       "_view_module": "@jupyter-widgets/controls",
       "_view_module_version": "1.5.0",
       "_view_name": "LabelView",
       "description": "",
       "description_tooltip": null,
       "layout": "IPY_MODEL_a4fa92b2f7ed4aecaab4a9c4c0d3d252",
       "placeholder": "​",
       "style": "IPY_MODEL_bd7dd55dd28547868471c12eee2a7816",
       "value": " 0.76MB of 0.76MB uploaded (0.00MB deduped)\r"
      }
     },
     "9ba54e98cdf841649a43987fc1efdd8a": {
      "model_module": "@jupyter-widgets/controls",
      "model_module_version": "1.5.0",
      "model_name": "FloatProgressModel",
      "state": {
       "_dom_classes": [],
       "_model_module": "@jupyter-widgets/controls",
       "_model_module_version": "1.5.0",
       "_model_name": "FloatProgressModel",
       "_view_count": null,
       "_view_module": "@jupyter-widgets/controls",
       "_view_module_version": "1.5.0",
       "_view_name": "ProgressView",
       "bar_style": "success",
       "description": "",
       "description_tooltip": null,
       "layout": "IPY_MODEL_028b6091156046589b5eb479d2a98aac",
       "max": 3162999,
       "min": 0,
       "orientation": "horizontal",
       "style": "IPY_MODEL_1e0b5e1442e44c07b82e75e34d9a3d21",
       "value": 3162999
      }
     },
     "9bccfc6b78ed4a94b37b24169238471a": {
      "model_module": "@jupyter-widgets/controls",
      "model_module_version": "1.5.0",
      "model_name": "VBoxModel",
      "state": {
       "_dom_classes": [],
       "_model_module": "@jupyter-widgets/controls",
       "_model_module_version": "1.5.0",
       "_model_name": "VBoxModel",
       "_view_count": null,
       "_view_module": "@jupyter-widgets/controls",
       "_view_module_version": "1.5.0",
       "_view_name": "VBoxView",
       "box_style": "",
       "children": [
        "IPY_MODEL_97e0a925ccb94f7486f22e8386a55d95",
        "IPY_MODEL_76edbdceee7c4da4963fa1b518f92aee"
       ],
       "layout": "IPY_MODEL_039b61f71da342d0a844f7ca4dedebaa"
      }
     },
     "a4fa92b2f7ed4aecaab4a9c4c0d3d252": {
      "model_module": "@jupyter-widgets/base",
      "model_module_version": "1.2.0",
      "model_name": "LayoutModel",
      "state": {
       "_model_module": "@jupyter-widgets/base",
       "_model_module_version": "1.2.0",
       "_model_name": "LayoutModel",
       "_view_count": null,
       "_view_module": "@jupyter-widgets/base",
       "_view_module_version": "1.2.0",
       "_view_name": "LayoutView",
       "align_content": null,
       "align_items": null,
       "align_self": null,
       "border": null,
       "bottom": null,
       "display": null,
       "flex": null,
       "flex_flow": null,
       "grid_area": null,
       "grid_auto_columns": null,
       "grid_auto_flow": null,
       "grid_auto_rows": null,
       "grid_column": null,
       "grid_gap": null,
       "grid_row": null,
       "grid_template_areas": null,
       "grid_template_columns": null,
       "grid_template_rows": null,
       "height": null,
       "justify_content": null,
       "justify_items": null,
       "left": null,
       "margin": null,
       "max_height": null,
       "max_width": null,
       "min_height": null,
       "min_width": null,
       "object_fit": null,
       "object_position": null,
       "order": null,
       "overflow": null,
       "overflow_x": null,
       "overflow_y": null,
       "padding": null,
       "right": null,
       "top": null,
       "visibility": null,
       "width": null
      }
     },
     "a8715ef740ad40d184f5cd7762ac08a6": {
      "model_module": "@jupyter-widgets/controls",
      "model_module_version": "1.5.0",
      "model_name": "FloatProgressModel",
      "state": {
       "_dom_classes": [],
       "_model_module": "@jupyter-widgets/controls",
       "_model_module_version": "1.5.0",
       "_model_name": "FloatProgressModel",
       "_view_count": null,
       "_view_module": "@jupyter-widgets/controls",
       "_view_module_version": "1.5.0",
       "_view_name": "ProgressView",
       "bar_style": "",
       "description": "",
       "description_tooltip": null,
       "layout": "IPY_MODEL_24d5597ba5f8483ca15a1fbf1bfd5aa9",
       "max": 1,
       "min": 0,
       "orientation": "horizontal",
       "style": "IPY_MODEL_29762764850b4c2e89a3519218883e7e",
       "value": 1
      }
     },
     "ae8be9500628495899e3381efddc3800": {
      "model_module": "@jupyter-widgets/base",
      "model_module_version": "1.2.0",
      "model_name": "LayoutModel",
      "state": {
       "_model_module": "@jupyter-widgets/base",
       "_model_module_version": "1.2.0",
       "_model_name": "LayoutModel",
       "_view_count": null,
       "_view_module": "@jupyter-widgets/base",
       "_view_module_version": "1.2.0",
       "_view_name": "LayoutView",
       "align_content": null,
       "align_items": null,
       "align_self": null,
       "border": null,
       "bottom": null,
       "display": null,
       "flex": null,
       "flex_flow": null,
       "grid_area": null,
       "grid_auto_columns": null,
       "grid_auto_flow": null,
       "grid_auto_rows": null,
       "grid_column": null,
       "grid_gap": null,
       "grid_row": null,
       "grid_template_areas": null,
       "grid_template_columns": null,
       "grid_template_rows": null,
       "height": null,
       "justify_content": null,
       "justify_items": null,
       "left": null,
       "margin": null,
       "max_height": null,
       "max_width": null,
       "min_height": null,
       "min_width": null,
       "object_fit": null,
       "object_position": null,
       "order": null,
       "overflow": null,
       "overflow_x": null,
       "overflow_y": null,
       "padding": null,
       "right": null,
       "top": null,
       "visibility": null,
       "width": null
      }
     },
     "b08c6e1d8d7849f2abae02f0699edb34": {
      "model_module": "@jupyter-widgets/controls",
      "model_module_version": "1.5.0",
      "model_name": "DescriptionStyleModel",
      "state": {
       "_model_module": "@jupyter-widgets/controls",
       "_model_module_version": "1.5.0",
       "_model_name": "DescriptionStyleModel",
       "_view_count": null,
       "_view_module": "@jupyter-widgets/base",
       "_view_module_version": "1.2.0",
       "_view_name": "StyleView",
       "description_width": ""
      }
     },
     "b15f2542b72d4676803405b2a9fe18ef": {
      "model_module": "@jupyter-widgets/base",
      "model_module_version": "1.2.0",
      "model_name": "LayoutModel",
      "state": {
       "_model_module": "@jupyter-widgets/base",
       "_model_module_version": "1.2.0",
       "_model_name": "LayoutModel",
       "_view_count": null,
       "_view_module": "@jupyter-widgets/base",
       "_view_module_version": "1.2.0",
       "_view_name": "LayoutView",
       "align_content": null,
       "align_items": null,
       "align_self": null,
       "border": null,
       "bottom": null,
       "display": null,
       "flex": null,
       "flex_flow": null,
       "grid_area": null,
       "grid_auto_columns": null,
       "grid_auto_flow": null,
       "grid_auto_rows": null,
       "grid_column": null,
       "grid_gap": null,
       "grid_row": null,
       "grid_template_areas": null,
       "grid_template_columns": null,
       "grid_template_rows": null,
       "height": null,
       "justify_content": null,
       "justify_items": null,
       "left": null,
       "margin": null,
       "max_height": null,
       "max_width": null,
       "min_height": null,
       "min_width": null,
       "object_fit": null,
       "object_position": null,
       "order": null,
       "overflow": null,
       "overflow_x": null,
       "overflow_y": null,
       "padding": null,
       "right": null,
       "top": null,
       "visibility": null,
       "width": null
      }
     },
     "b7d560aef9be43e2ad2a59bd1013621c": {
      "model_module": "@jupyter-widgets/base",
      "model_module_version": "1.2.0",
      "model_name": "LayoutModel",
      "state": {
       "_model_module": "@jupyter-widgets/base",
       "_model_module_version": "1.2.0",
       "_model_name": "LayoutModel",
       "_view_count": null,
       "_view_module": "@jupyter-widgets/base",
       "_view_module_version": "1.2.0",
       "_view_name": "LayoutView",
       "align_content": null,
       "align_items": null,
       "align_self": null,
       "border": null,
       "bottom": null,
       "display": null,
       "flex": null,
       "flex_flow": null,
       "grid_area": null,
       "grid_auto_columns": null,
       "grid_auto_flow": null,
       "grid_auto_rows": null,
       "grid_column": null,
       "grid_gap": null,
       "grid_row": null,
       "grid_template_areas": null,
       "grid_template_columns": null,
       "grid_template_rows": null,
       "height": null,
       "justify_content": null,
       "justify_items": null,
       "left": null,
       "margin": null,
       "max_height": null,
       "max_width": null,
       "min_height": null,
       "min_width": null,
       "object_fit": null,
       "object_position": null,
       "order": null,
       "overflow": null,
       "overflow_x": null,
       "overflow_y": null,
       "padding": null,
       "right": null,
       "top": null,
       "visibility": null,
       "width": null
      }
     },
     "bd7dd55dd28547868471c12eee2a7816": {
      "model_module": "@jupyter-widgets/controls",
      "model_module_version": "1.5.0",
      "model_name": "DescriptionStyleModel",
      "state": {
       "_model_module": "@jupyter-widgets/controls",
       "_model_module_version": "1.5.0",
       "_model_name": "DescriptionStyleModel",
       "_view_count": null,
       "_view_module": "@jupyter-widgets/base",
       "_view_module_version": "1.2.0",
       "_view_name": "StyleView",
       "description_width": ""
      }
     },
     "c01119bc41d5477b939aeec6daec3e90": {
      "model_module": "@jupyter-widgets/base",
      "model_module_version": "1.2.0",
      "model_name": "LayoutModel",
      "state": {
       "_model_module": "@jupyter-widgets/base",
       "_model_module_version": "1.2.0",
       "_model_name": "LayoutModel",
       "_view_count": null,
       "_view_module": "@jupyter-widgets/base",
       "_view_module_version": "1.2.0",
       "_view_name": "LayoutView",
       "align_content": null,
       "align_items": null,
       "align_self": null,
       "border": null,
       "bottom": null,
       "display": null,
       "flex": null,
       "flex_flow": null,
       "grid_area": null,
       "grid_auto_columns": null,
       "grid_auto_flow": null,
       "grid_auto_rows": null,
       "grid_column": null,
       "grid_gap": null,
       "grid_row": null,
       "grid_template_areas": null,
       "grid_template_columns": null,
       "grid_template_rows": null,
       "height": null,
       "justify_content": null,
       "justify_items": null,
       "left": null,
       "margin": null,
       "max_height": null,
       "max_width": null,
       "min_height": null,
       "min_width": null,
       "object_fit": null,
       "object_position": null,
       "order": null,
       "overflow": null,
       "overflow_x": null,
       "overflow_y": null,
       "padding": null,
       "right": null,
       "top": null,
       "visibility": null,
       "width": null
      }
     },
     "c2b42ad033ca49a88b19e53c11a42399": {
      "model_module": "@jupyter-widgets/base",
      "model_module_version": "1.2.0",
      "model_name": "LayoutModel",
      "state": {
       "_model_module": "@jupyter-widgets/base",
       "_model_module_version": "1.2.0",
       "_model_name": "LayoutModel",
       "_view_count": null,
       "_view_module": "@jupyter-widgets/base",
       "_view_module_version": "1.2.0",
       "_view_name": "LayoutView",
       "align_content": null,
       "align_items": null,
       "align_self": null,
       "border": null,
       "bottom": null,
       "display": null,
       "flex": null,
       "flex_flow": null,
       "grid_area": null,
       "grid_auto_columns": null,
       "grid_auto_flow": null,
       "grid_auto_rows": null,
       "grid_column": null,
       "grid_gap": null,
       "grid_row": null,
       "grid_template_areas": null,
       "grid_template_columns": null,
       "grid_template_rows": null,
       "height": null,
       "justify_content": null,
       "justify_items": null,
       "left": null,
       "margin": null,
       "max_height": null,
       "max_width": null,
       "min_height": null,
       "min_width": null,
       "object_fit": null,
       "object_position": null,
       "order": null,
       "overflow": null,
       "overflow_x": null,
       "overflow_y": null,
       "padding": null,
       "right": null,
       "top": null,
       "visibility": null,
       "width": null
      }
     },
     "c49e5459dbf34fa394d1127435c390dc": {
      "model_module": "@jupyter-widgets/base",
      "model_module_version": "1.2.0",
      "model_name": "LayoutModel",
      "state": {
       "_model_module": "@jupyter-widgets/base",
       "_model_module_version": "1.2.0",
       "_model_name": "LayoutModel",
       "_view_count": null,
       "_view_module": "@jupyter-widgets/base",
       "_view_module_version": "1.2.0",
       "_view_name": "LayoutView",
       "align_content": null,
       "align_items": null,
       "align_self": null,
       "border": null,
       "bottom": null,
       "display": null,
       "flex": null,
       "flex_flow": null,
       "grid_area": null,
       "grid_auto_columns": null,
       "grid_auto_flow": null,
       "grid_auto_rows": null,
       "grid_column": null,
       "grid_gap": null,
       "grid_row": null,
       "grid_template_areas": null,
       "grid_template_columns": null,
       "grid_template_rows": null,
       "height": null,
       "justify_content": null,
       "justify_items": null,
       "left": null,
       "margin": null,
       "max_height": null,
       "max_width": null,
       "min_height": null,
       "min_width": null,
       "object_fit": null,
       "object_position": null,
       "order": null,
       "overflow": null,
       "overflow_x": null,
       "overflow_y": null,
       "padding": null,
       "right": null,
       "top": null,
       "visibility": null,
       "width": null
      }
     },
     "c56832ca61f046e1ba4787f6cabad144": {
      "model_module": "@jupyter-widgets/controls",
      "model_module_version": "1.5.0",
      "model_name": "DescriptionStyleModel",
      "state": {
       "_model_module": "@jupyter-widgets/controls",
       "_model_module_version": "1.5.0",
       "_model_name": "DescriptionStyleModel",
       "_view_count": null,
       "_view_module": "@jupyter-widgets/base",
       "_view_module_version": "1.2.0",
       "_view_name": "StyleView",
       "description_width": ""
      }
     },
     "c6e42123a66f442eae5b02c4d1208d6c": {
      "model_module": "@jupyter-widgets/base",
      "model_module_version": "1.2.0",
      "model_name": "LayoutModel",
      "state": {
       "_model_module": "@jupyter-widgets/base",
       "_model_module_version": "1.2.0",
       "_model_name": "LayoutModel",
       "_view_count": null,
       "_view_module": "@jupyter-widgets/base",
       "_view_module_version": "1.2.0",
       "_view_name": "LayoutView",
       "align_content": null,
       "align_items": null,
       "align_self": null,
       "border": null,
       "bottom": null,
       "display": null,
       "flex": null,
       "flex_flow": null,
       "grid_area": null,
       "grid_auto_columns": null,
       "grid_auto_flow": null,
       "grid_auto_rows": null,
       "grid_column": null,
       "grid_gap": null,
       "grid_row": null,
       "grid_template_areas": null,
       "grid_template_columns": null,
       "grid_template_rows": null,
       "height": null,
       "justify_content": null,
       "justify_items": null,
       "left": null,
       "margin": null,
       "max_height": null,
       "max_width": null,
       "min_height": null,
       "min_width": null,
       "object_fit": null,
       "object_position": null,
       "order": null,
       "overflow": null,
       "overflow_x": null,
       "overflow_y": null,
       "padding": null,
       "right": null,
       "top": null,
       "visibility": null,
       "width": null
      }
     },
     "c884e0ff74484c5d94b2a737b235b51b": {
      "model_module": "@jupyter-widgets/base",
      "model_module_version": "1.2.0",
      "model_name": "LayoutModel",
      "state": {
       "_model_module": "@jupyter-widgets/base",
       "_model_module_version": "1.2.0",
       "_model_name": "LayoutModel",
       "_view_count": null,
       "_view_module": "@jupyter-widgets/base",
       "_view_module_version": "1.2.0",
       "_view_name": "LayoutView",
       "align_content": null,
       "align_items": null,
       "align_self": null,
       "border": null,
       "bottom": null,
       "display": null,
       "flex": null,
       "flex_flow": null,
       "grid_area": null,
       "grid_auto_columns": null,
       "grid_auto_flow": null,
       "grid_auto_rows": null,
       "grid_column": null,
       "grid_gap": null,
       "grid_row": null,
       "grid_template_areas": null,
       "grid_template_columns": null,
       "grid_template_rows": null,
       "height": null,
       "justify_content": null,
       "justify_items": null,
       "left": null,
       "margin": null,
       "max_height": null,
       "max_width": null,
       "min_height": null,
       "min_width": null,
       "object_fit": null,
       "object_position": null,
       "order": null,
       "overflow": null,
       "overflow_x": null,
       "overflow_y": null,
       "padding": null,
       "right": null,
       "top": null,
       "visibility": null,
       "width": null
      }
     },
     "c96e91a911744fc58ac471fbc6cb21ab": {
      "model_module": "@jupyter-widgets/controls",
      "model_module_version": "1.5.0",
      "model_name": "VBoxModel",
      "state": {
       "_dom_classes": [],
       "_model_module": "@jupyter-widgets/controls",
       "_model_module_version": "1.5.0",
       "_model_name": "VBoxModel",
       "_view_count": null,
       "_view_module": "@jupyter-widgets/controls",
       "_view_module_version": "1.5.0",
       "_view_name": "VBoxView",
       "box_style": "",
       "children": [
        "IPY_MODEL_44793863b9e246ad97e627987367477d",
        "IPY_MODEL_1ecef8cb4c5049ae80434b7b4e957a5e"
       ],
       "layout": "IPY_MODEL_6f290fbb63194dabadc349454fae3cbe"
      }
     },
     "cfa4fb2051f84197b36fb07888661c60": {
      "model_module": "@jupyter-widgets/controls",
      "model_module_version": "1.5.0",
      "model_name": "HTMLModel",
      "state": {
       "_dom_classes": [],
       "_model_module": "@jupyter-widgets/controls",
       "_model_module_version": "1.5.0",
       "_model_name": "HTMLModel",
       "_view_count": null,
       "_view_module": "@jupyter-widgets/controls",
       "_view_module_version": "1.5.0",
       "_view_name": "HTMLView",
       "description": "",
       "description_tooltip": null,
       "layout": "IPY_MODEL_1c8e2d9086ac40faaa4e0a7859fa0485",
       "placeholder": "​",
       "style": "IPY_MODEL_0c7548c616b34ee194d3c840a499c9c8",
       "value": "Downloading: 100%"
      }
     },
     "d0a8d0fb63d34477a7887eb2243d9dec": {
      "model_module": "@jupyter-widgets/base",
      "model_module_version": "1.2.0",
      "model_name": "LayoutModel",
      "state": {
       "_model_module": "@jupyter-widgets/base",
       "_model_module_version": "1.2.0",
       "_model_name": "LayoutModel",
       "_view_count": null,
       "_view_module": "@jupyter-widgets/base",
       "_view_module_version": "1.2.0",
       "_view_name": "LayoutView",
       "align_content": null,
       "align_items": null,
       "align_self": null,
       "border": null,
       "bottom": null,
       "display": null,
       "flex": null,
       "flex_flow": null,
       "grid_area": null,
       "grid_auto_columns": null,
       "grid_auto_flow": null,
       "grid_auto_rows": null,
       "grid_column": null,
       "grid_gap": null,
       "grid_row": null,
       "grid_template_areas": null,
       "grid_template_columns": null,
       "grid_template_rows": null,
       "height": null,
       "justify_content": null,
       "justify_items": null,
       "left": null,
       "margin": null,
       "max_height": null,
       "max_width": null,
       "min_height": null,
       "min_width": null,
       "object_fit": null,
       "object_position": null,
       "order": null,
       "overflow": null,
       "overflow_x": null,
       "overflow_y": null,
       "padding": null,
       "right": null,
       "top": null,
       "visibility": null,
       "width": null
      }
     },
     "d0e7f2529e8d45d588a1d7b6044e1b76": {
      "model_module": "@jupyter-widgets/controls",
      "model_module_version": "1.5.0",
      "model_name": "HTMLModel",
      "state": {
       "_dom_classes": [],
       "_model_module": "@jupyter-widgets/controls",
       "_model_module_version": "1.5.0",
       "_model_name": "HTMLModel",
       "_view_count": null,
       "_view_module": "@jupyter-widgets/controls",
       "_view_module_version": "1.5.0",
       "_view_name": "HTMLView",
       "description": "",
       "description_tooltip": null,
       "layout": "IPY_MODEL_c01119bc41d5477b939aeec6daec3e90",
       "placeholder": "​",
       "style": "IPY_MODEL_439520547a48473c9d00570ac05a508f",
       "value": "Downloading: 100%"
      }
     },
     "d148d6eecad8440c8302de8f65267744": {
      "model_module": "@jupyter-widgets/controls",
      "model_module_version": "1.5.0",
      "model_name": "DescriptionStyleModel",
      "state": {
       "_model_module": "@jupyter-widgets/controls",
       "_model_module_version": "1.5.0",
       "_model_name": "DescriptionStyleModel",
       "_view_count": null,
       "_view_module": "@jupyter-widgets/base",
       "_view_module_version": "1.2.0",
       "_view_name": "StyleView",
       "description_width": ""
      }
     },
     "d1af7f6d9d4a4f1291f830cca4fc422c": {
      "model_module": "@jupyter-widgets/controls",
      "model_module_version": "1.5.0",
      "model_name": "LabelModel",
      "state": {
       "_dom_classes": [],
       "_model_module": "@jupyter-widgets/controls",
       "_model_module_version": "1.5.0",
       "_model_name": "LabelModel",
       "_view_count": null,
       "_view_module": "@jupyter-widgets/controls",
       "_view_module_version": "1.5.0",
       "_view_name": "LabelView",
       "description": "",
       "description_tooltip": null,
       "layout": "IPY_MODEL_ae8be9500628495899e3381efddc3800",
       "placeholder": "​",
       "style": "IPY_MODEL_6f9c959d41e34748a7814dc834aea7d3",
       "value": " 0.74MB of 0.74MB uploaded (0.00MB deduped)\r"
      }
     },
     "d39ba39029e54f9aa6a4b8518bad487c": {
      "model_module": "@jupyter-widgets/controls",
      "model_module_version": "1.5.0",
      "model_name": "DescriptionStyleModel",
      "state": {
       "_model_module": "@jupyter-widgets/controls",
       "_model_module_version": "1.5.0",
       "_model_name": "DescriptionStyleModel",
       "_view_count": null,
       "_view_module": "@jupyter-widgets/base",
       "_view_module_version": "1.2.0",
       "_view_name": "StyleView",
       "description_width": ""
      }
     },
     "d3d9cbfc682d4a1ab9c225c0a5a38846": {
      "model_module": "@jupyter-widgets/controls",
      "model_module_version": "1.5.0",
      "model_name": "DescriptionStyleModel",
      "state": {
       "_model_module": "@jupyter-widgets/controls",
       "_model_module_version": "1.5.0",
       "_model_name": "DescriptionStyleModel",
       "_view_count": null,
       "_view_module": "@jupyter-widgets/base",
       "_view_module_version": "1.2.0",
       "_view_name": "StyleView",
       "description_width": ""
      }
     },
     "d6f275514c9c43f1ba2003d99a1e59e8": {
      "model_module": "@jupyter-widgets/controls",
      "model_module_version": "1.5.0",
      "model_name": "ProgressStyleModel",
      "state": {
       "_model_module": "@jupyter-widgets/controls",
       "_model_module_version": "1.5.0",
       "_model_name": "ProgressStyleModel",
       "_view_count": null,
       "_view_module": "@jupyter-widgets/base",
       "_view_module_version": "1.2.0",
       "_view_name": "StyleView",
       "bar_color": null,
       "description_width": ""
      }
     },
     "d7568e1151d944e483da05891de3573b": {
      "model_module": "@jupyter-widgets/controls",
      "model_module_version": "1.5.0",
      "model_name": "HBoxModel",
      "state": {
       "_dom_classes": [],
       "_model_module": "@jupyter-widgets/controls",
       "_model_module_version": "1.5.0",
       "_model_name": "HBoxModel",
       "_view_count": null,
       "_view_module": "@jupyter-widgets/controls",
       "_view_module_version": "1.5.0",
       "_view_name": "HBoxView",
       "box_style": "",
       "children": [
        "IPY_MODEL_153f6cf5bdd248f2ad151f06cde62e29",
        "IPY_MODEL_f8b717652d74466a97d7cd92c858f035",
        "IPY_MODEL_116f6117f15f426cbd561fa3880c1c69"
       ],
       "layout": "IPY_MODEL_d0a8d0fb63d34477a7887eb2243d9dec"
      }
     },
     "e50dcfa59cc44893b975236695a16d67": {
      "model_module": "@jupyter-widgets/controls",
      "model_module_version": "1.5.0",
      "model_name": "VBoxModel",
      "state": {
       "_dom_classes": [],
       "_model_module": "@jupyter-widgets/controls",
       "_model_module_version": "1.5.0",
       "_model_name": "VBoxModel",
       "_view_count": null,
       "_view_module": "@jupyter-widgets/controls",
       "_view_module_version": "1.5.0",
       "_view_name": "VBoxView",
       "box_style": "",
       "children": [
        "IPY_MODEL_3c8a4a5bea204f7b953f6ec196f43c9f",
        "IPY_MODEL_a8715ef740ad40d184f5cd7762ac08a6"
       ],
       "layout": "IPY_MODEL_b7d560aef9be43e2ad2a59bd1013621c"
      }
     },
     "ec0c7697db974bff8c969f1cbaf61254": {
      "model_module": "@jupyter-widgets/controls",
      "model_module_version": "1.5.0",
      "model_name": "ProgressStyleModel",
      "state": {
       "_model_module": "@jupyter-widgets/controls",
       "_model_module_version": "1.5.0",
       "_model_name": "ProgressStyleModel",
       "_view_count": null,
       "_view_module": "@jupyter-widgets/base",
       "_view_module_version": "1.2.0",
       "_view_name": "StyleView",
       "bar_color": null,
       "description_width": ""
      }
     },
     "ecd26fd64ee04eb4867d98cc17a7a1c2": {
      "model_module": "@jupyter-widgets/base",
      "model_module_version": "1.2.0",
      "model_name": "LayoutModel",
      "state": {
       "_model_module": "@jupyter-widgets/base",
       "_model_module_version": "1.2.0",
       "_model_name": "LayoutModel",
       "_view_count": null,
       "_view_module": "@jupyter-widgets/base",
       "_view_module_version": "1.2.0",
       "_view_name": "LayoutView",
       "align_content": null,
       "align_items": null,
       "align_self": null,
       "border": null,
       "bottom": null,
       "display": null,
       "flex": null,
       "flex_flow": null,
       "grid_area": null,
       "grid_auto_columns": null,
       "grid_auto_flow": null,
       "grid_auto_rows": null,
       "grid_column": null,
       "grid_gap": null,
       "grid_row": null,
       "grid_template_areas": null,
       "grid_template_columns": null,
       "grid_template_rows": null,
       "height": null,
       "justify_content": null,
       "justify_items": null,
       "left": null,
       "margin": null,
       "max_height": null,
       "max_width": null,
       "min_height": null,
       "min_width": null,
       "object_fit": null,
       "object_position": null,
       "order": null,
       "overflow": null,
       "overflow_x": null,
       "overflow_y": null,
       "padding": null,
       "right": null,
       "top": null,
       "visibility": null,
       "width": null
      }
     },
     "efc5a032f7624314b3a265a508d07247": {
      "model_module": "@jupyter-widgets/base",
      "model_module_version": "1.2.0",
      "model_name": "LayoutModel",
      "state": {
       "_model_module": "@jupyter-widgets/base",
       "_model_module_version": "1.2.0",
       "_model_name": "LayoutModel",
       "_view_count": null,
       "_view_module": "@jupyter-widgets/base",
       "_view_module_version": "1.2.0",
       "_view_name": "LayoutView",
       "align_content": null,
       "align_items": null,
       "align_self": null,
       "border": null,
       "bottom": null,
       "display": null,
       "flex": null,
       "flex_flow": null,
       "grid_area": null,
       "grid_auto_columns": null,
       "grid_auto_flow": null,
       "grid_auto_rows": null,
       "grid_column": null,
       "grid_gap": null,
       "grid_row": null,
       "grid_template_areas": null,
       "grid_template_columns": null,
       "grid_template_rows": null,
       "height": null,
       "justify_content": null,
       "justify_items": null,
       "left": null,
       "margin": null,
       "max_height": null,
       "max_width": null,
       "min_height": null,
       "min_width": null,
       "object_fit": null,
       "object_position": null,
       "order": null,
       "overflow": null,
       "overflow_x": null,
       "overflow_y": null,
       "padding": null,
       "right": null,
       "top": null,
       "visibility": null,
       "width": null
      }
     },
     "efdc5ca5cd68426a8b5008e30cb5437f": {
      "model_module": "@jupyter-widgets/controls",
      "model_module_version": "1.5.0",
      "model_name": "ProgressStyleModel",
      "state": {
       "_model_module": "@jupyter-widgets/controls",
       "_model_module_version": "1.5.0",
       "_model_name": "ProgressStyleModel",
       "_view_count": null,
       "_view_module": "@jupyter-widgets/base",
       "_view_module_version": "1.2.0",
       "_view_name": "StyleView",
       "bar_color": null,
       "description_width": ""
      }
     },
     "f149b7b0396b405ca1ad6bc1bfd67512": {
      "model_module": "@jupyter-widgets/controls",
      "model_module_version": "1.5.0",
      "model_name": "HBoxModel",
      "state": {
       "_dom_classes": [],
       "_model_module": "@jupyter-widgets/controls",
       "_model_module_version": "1.5.0",
       "_model_name": "HBoxModel",
       "_view_count": null,
       "_view_module": "@jupyter-widgets/controls",
       "_view_module_version": "1.5.0",
       "_view_name": "HBoxView",
       "box_style": "",
       "children": [
        "IPY_MODEL_4a241d1279a143f4ab9b7883419b2f69",
        "IPY_MODEL_9ba54e98cdf841649a43987fc1efdd8a",
        "IPY_MODEL_2e67146f827f47179b14de659f3d9d94"
       ],
       "layout": "IPY_MODEL_8f3ab1a13a7e42259cf0b91ff0518611"
      }
     },
     "f27513b8da9a4c5a9dde4aee06a00659": {
      "model_module": "@jupyter-widgets/controls",
      "model_module_version": "1.5.0",
      "model_name": "DescriptionStyleModel",
      "state": {
       "_model_module": "@jupyter-widgets/controls",
       "_model_module_version": "1.5.0",
       "_model_name": "DescriptionStyleModel",
       "_view_count": null,
       "_view_module": "@jupyter-widgets/base",
       "_view_module_version": "1.2.0",
       "_view_name": "StyleView",
       "description_width": ""
      }
     },
     "f8b717652d74466a97d7cd92c858f035": {
      "model_module": "@jupyter-widgets/controls",
      "model_module_version": "1.5.0",
      "model_name": "FloatProgressModel",
      "state": {
       "_dom_classes": [],
       "_model_module": "@jupyter-widgets/controls",
       "_model_module_version": "1.5.0",
       "_model_name": "FloatProgressModel",
       "_view_count": null,
       "_view_module": "@jupyter-widgets/controls",
       "_view_module_version": "1.5.0",
       "_view_name": "ProgressView",
       "bar_style": "success",
       "description": "",
       "description_tooltip": null,
       "layout": "IPY_MODEL_24aa7c7a6cda4e72b33449123aebd1e9",
       "max": 112,
       "min": 0,
       "orientation": "horizontal",
       "style": "IPY_MODEL_43dbc8719a014acdafba2532d1f4c4e7",
       "value": 112
      }
     },
     "fdcf5e47161d4f378d60eb67d9930268": {
      "model_module": "@jupyter-widgets/base",
      "model_module_version": "1.2.0",
      "model_name": "LayoutModel",
      "state": {
       "_model_module": "@jupyter-widgets/base",
       "_model_module_version": "1.2.0",
       "_model_name": "LayoutModel",
       "_view_count": null,
       "_view_module": "@jupyter-widgets/base",
       "_view_module_version": "1.2.0",
       "_view_name": "LayoutView",
       "align_content": null,
       "align_items": null,
       "align_self": null,
       "border": null,
       "bottom": null,
       "display": null,
       "flex": null,
       "flex_flow": null,
       "grid_area": null,
       "grid_auto_columns": null,
       "grid_auto_flow": null,
       "grid_auto_rows": null,
       "grid_column": null,
       "grid_gap": null,
       "grid_row": null,
       "grid_template_areas": null,
       "grid_template_columns": null,
       "grid_template_rows": null,
       "height": null,
       "justify_content": null,
       "justify_items": null,
       "left": null,
       "margin": null,
       "max_height": null,
       "max_width": null,
       "min_height": null,
       "min_width": null,
       "object_fit": null,
       "object_position": null,
       "order": null,
       "overflow": null,
       "overflow_x": null,
       "overflow_y": null,
       "padding": null,
       "right": null,
       "top": null,
       "visibility": null,
       "width": null
      }
     },
     "fdfb8d48a48e42b2bffc726c8a92d854": {
      "model_module": "@jupyter-widgets/controls",
      "model_module_version": "1.5.0",
      "model_name": "HTMLModel",
      "state": {
       "_dom_classes": [],
       "_model_module": "@jupyter-widgets/controls",
       "_model_module_version": "1.5.0",
       "_model_name": "HTMLModel",
       "_view_count": null,
       "_view_module": "@jupyter-widgets/controls",
       "_view_module_version": "1.5.0",
       "_view_name": "HTMLView",
       "description": "",
       "description_tooltip": null,
       "layout": "IPY_MODEL_7fc257deb7ef4f418dae670bc481a610",
       "placeholder": "​",
       "style": "IPY_MODEL_f27513b8da9a4c5a9dde4aee06a00659",
       "value": " 1.89G/1.89G [01:10&lt;00:00, 30.5MB/s]"
      }
     }
    },
    "version_major": 2,
    "version_minor": 0
   }
  }
 },
 "nbformat": 4,
 "nbformat_minor": 5
}
