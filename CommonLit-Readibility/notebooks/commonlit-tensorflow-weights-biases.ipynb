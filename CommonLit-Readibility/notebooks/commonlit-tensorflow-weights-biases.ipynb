{
 "cells": [
  {
   "cell_type": "markdown",
   "id": "unnecessary-supplement",
   "metadata": {
    "papermill": {
     "duration": 0.014943,
     "end_time": "2021-05-11T09:04:48.711844",
     "exception": false,
     "start_time": "2021-05-11T09:04:48.696901",
     "status": "completed"
    },
    "tags": []
   },
   "source": [
    "![](https://github.com/SauravMaheshkar/CommonLit-Readibility/blob/main/assets/CommonLit%20-%20Big%20Banner.png?raw=true)"
   ]
  },
  {
   "cell_type": "markdown",
   "id": "enhanced-roads",
   "metadata": {
    "papermill": {
     "duration": 0.012907,
     "end_time": "2021-05-11T09:04:48.738431",
     "exception": false,
     "start_time": "2021-05-11T09:04:48.725524",
     "status": "completed"
    },
    "tags": []
   },
   "source": [
    "## Disclaimer\n",
    "\n",
    "This Kernel builds on top of [@dimitreoliveira](https://www.kaggle.com/dimitreoliveira)'s kernel [CommonLit Readability - EDA & RoBERTa TF baseline](https://www.kaggle.com/dimitreoliveira/commonlit-readability-eda-roberta-tf-baseline). Please check out this kernel as well 😊."
   ]
  },
  {
   "cell_type": "markdown",
   "id": "independent-lexington",
   "metadata": {
    "_cell_guid": "b1076dfc-b9ad-4769-8c92-a6c4dae69d19",
    "_uuid": "8f2839f25d086af736a60e9eeb907d3b93b6e0e5",
    "papermill": {
     "duration": 0.012894,
     "end_time": "2021-05-11T09:04:48.764872",
     "exception": false,
     "start_time": "2021-05-11T09:04:48.751978",
     "status": "completed"
    },
    "tags": []
   },
   "source": [
    "# Table of Contents\n",
    "\n",
    "1. [Packages 📦 and Basic Setup](#basic)\n",
    "2. [Pre-Processing 👎🏻 -> 👍](#process)\n",
    "3. [The Model 👷‍♀️](#model)\n",
    "4. [Training 💪🏻](#train)"
   ]
  },
  {
   "cell_type": "markdown",
   "id": "ceramic-plenty",
   "metadata": {
    "papermill": {
     "duration": 0.01288,
     "end_time": "2021-05-11T09:04:48.791552",
     "exception": false,
     "start_time": "2021-05-11T09:04:48.778672",
     "status": "completed"
    },
    "tags": []
   },
   "source": [
    "<a id='basic'></a>\n",
    "# Packages 📦 and Basic Setup"
   ]
  },
  {
   "cell_type": "code",
   "execution_count": 1,
   "id": "failing-connectivity",
   "metadata": {
    "_kg_hide-input": true,
    "_kg_hide-output": true,
    "execution": {
     "iopub.execute_input": "2021-05-11T09:04:48.834438Z",
     "iopub.status.busy": "2021-05-11T09:04:48.833870Z",
     "iopub.status.idle": "2021-05-11T09:05:11.049895Z",
     "shell.execute_reply": "2021-05-11T09:05:11.049304Z"
    },
    "papermill": {
     "duration": 22.245326,
     "end_time": "2021-05-11T09:05:11.050047",
     "exception": false,
     "start_time": "2021-05-11T09:04:48.804721",
     "status": "completed"
    },
    "tags": []
   },
   "outputs": [],
   "source": [
    "%%capture\n",
    "!pip install wandb --upgrade\n",
    "\n",
    "import os\n",
    "import wandb\n",
    "import random\n",
    "import warnings\n",
    "import numpy as np\n",
    "import pandas as pd\n",
    "import tensorflow as tf\n",
    "from wandb.keras import WandbCallback\n",
    "from sklearn.model_selection import KFold\n",
    "from transformers import TFAutoModelForSequenceClassification, TFAutoModel, AutoTokenizer\n",
    "from tensorflow.keras.callbacks import ModelCheckpoint\n",
    "\n",
    "def seed_everything(seed=1234):\n",
    "    random.seed(seed)\n",
    "    np.random.seed(seed)\n",
    "    tf.random.set_seed(seed)\n",
    "    os.environ['PYTHONHASHSEED'] = str(seed)\n",
    "    os.environ['TF_DETERMINISTIC_OPS'] = '1'\n",
    "\n",
    "seed = 42\n",
    "seed_everything(seed)\n",
    "warnings.filterwarnings('ignore')\n",
    "\n",
    "train_filepath = '../input/commonlitreadabilityprize/train.csv'\n",
    "test_filepath = '../input/commonlitreadabilityprize/test.csv'\n",
    "\n",
    "train = pd.read_csv(train_filepath)\n",
    "test = pd.read_csv(test_filepath)\n",
    "\n",
    "# removing unused columns\n",
    "train.drop(['url_legal', 'license'], axis=1, inplace=True)\n",
    "test.drop(['url_legal', 'license'], axis=1, inplace=True)\n",
    "\n",
    "from kaggle_secrets import UserSecretsClient\n",
    "user_secrets = UserSecretsClient()\n",
    "api_key = user_secrets.get_secret(\"WANDB_API_KEY\")\n",
    "wandb.login(key=api_key);"
   ]
  },
  {
   "cell_type": "code",
   "execution_count": 2,
   "id": "civil-agriculture",
   "metadata": {
    "_kg_hide-input": true,
    "execution": {
     "iopub.execute_input": "2021-05-11T09:05:11.087124Z",
     "iopub.status.busy": "2021-05-11T09:05:11.086530Z",
     "iopub.status.idle": "2021-05-11T09:05:11.094917Z",
     "shell.execute_reply": "2021-05-11T09:05:11.095398Z"
    },
    "papermill": {
     "duration": 0.031295,
     "end_time": "2021-05-11T09:05:11.095524",
     "exception": false,
     "start_time": "2021-05-11T09:05:11.064229",
     "status": "completed"
    },
    "tags": []
   },
   "outputs": [
    {
     "data": {
      "text/html": [
       "<div>\n",
       "<style scoped>\n",
       "    .dataframe tbody tr th:only-of-type {\n",
       "        vertical-align: middle;\n",
       "    }\n",
       "\n",
       "    .dataframe tbody tr th {\n",
       "        vertical-align: top;\n",
       "    }\n",
       "\n",
       "    .dataframe thead th {\n",
       "        text-align: right;\n",
       "    }\n",
       "</style>\n",
       "<table border=\"1\" class=\"dataframe\">\n",
       "  <thead>\n",
       "    <tr style=\"text-align: right;\">\n",
       "      <th></th>\n",
       "      <th>id</th>\n",
       "      <th>excerpt</th>\n",
       "      <th>target</th>\n",
       "      <th>standard_error</th>\n",
       "    </tr>\n",
       "  </thead>\n",
       "  <tbody>\n",
       "    <tr>\n",
       "      <th>0</th>\n",
       "      <td>c12129c31</td>\n",
       "      <td>When the young people returned to the ballroom...</td>\n",
       "      <td>-0.340259</td>\n",
       "      <td>0.464009</td>\n",
       "    </tr>\n",
       "    <tr>\n",
       "      <th>1</th>\n",
       "      <td>85aa80a4c</td>\n",
       "      <td>All through dinner time, Mrs. Fayre was somewh...</td>\n",
       "      <td>-0.315372</td>\n",
       "      <td>0.480805</td>\n",
       "    </tr>\n",
       "    <tr>\n",
       "      <th>2</th>\n",
       "      <td>b69ac6792</td>\n",
       "      <td>As Roger had predicted, the snow departed as q...</td>\n",
       "      <td>-0.580118</td>\n",
       "      <td>0.476676</td>\n",
       "    </tr>\n",
       "    <tr>\n",
       "      <th>3</th>\n",
       "      <td>dd1000b26</td>\n",
       "      <td>And outside before the palace a great garden w...</td>\n",
       "      <td>-1.054013</td>\n",
       "      <td>0.450007</td>\n",
       "    </tr>\n",
       "    <tr>\n",
       "      <th>4</th>\n",
       "      <td>37c1b32fb</td>\n",
       "      <td>Once upon a time there were Three Bears who li...</td>\n",
       "      <td>0.247197</td>\n",
       "      <td>0.510845</td>\n",
       "    </tr>\n",
       "    <tr>\n",
       "      <th>5</th>\n",
       "      <td>f9bf357fe</td>\n",
       "      <td>Hal and Chester found ample time to take an in...</td>\n",
       "      <td>-0.861809</td>\n",
       "      <td>0.480936</td>\n",
       "    </tr>\n",
       "    <tr>\n",
       "      <th>6</th>\n",
       "      <td>eaf8e7355</td>\n",
       "      <td>Hal Paine and Chester Crawford were typical Am...</td>\n",
       "      <td>-1.759061</td>\n",
       "      <td>0.476507</td>\n",
       "    </tr>\n",
       "    <tr>\n",
       "      <th>7</th>\n",
       "      <td>0a43a07f1</td>\n",
       "      <td>On the twenty-second of February, 1916, an aut...</td>\n",
       "      <td>-0.952325</td>\n",
       "      <td>0.498116</td>\n",
       "    </tr>\n",
       "    <tr>\n",
       "      <th>8</th>\n",
       "      <td>f7eff7419</td>\n",
       "      <td>The boys left the capitol and made their way d...</td>\n",
       "      <td>-0.371641</td>\n",
       "      <td>0.463710</td>\n",
       "    </tr>\n",
       "    <tr>\n",
       "      <th>9</th>\n",
       "      <td>d96e6dbcd</td>\n",
       "      <td>One day he had gone beyond any point which he ...</td>\n",
       "      <td>-1.238432</td>\n",
       "      <td>0.465900</td>\n",
       "    </tr>\n",
       "  </tbody>\n",
       "</table>\n",
       "</div>"
      ],
      "text/plain": [
       "          id                                            excerpt    target  \\\n",
       "0  c12129c31  When the young people returned to the ballroom... -0.340259   \n",
       "1  85aa80a4c  All through dinner time, Mrs. Fayre was somewh... -0.315372   \n",
       "2  b69ac6792  As Roger had predicted, the snow departed as q... -0.580118   \n",
       "3  dd1000b26  And outside before the palace a great garden w... -1.054013   \n",
       "4  37c1b32fb  Once upon a time there were Three Bears who li...  0.247197   \n",
       "5  f9bf357fe  Hal and Chester found ample time to take an in... -0.861809   \n",
       "6  eaf8e7355  Hal Paine and Chester Crawford were typical Am... -1.759061   \n",
       "7  0a43a07f1  On the twenty-second of February, 1916, an aut... -0.952325   \n",
       "8  f7eff7419  The boys left the capitol and made their way d... -0.371641   \n",
       "9  d96e6dbcd  One day he had gone beyond any point which he ... -1.238432   \n",
       "\n",
       "   standard_error  \n",
       "0        0.464009  \n",
       "1        0.480805  \n",
       "2        0.476676  \n",
       "3        0.450007  \n",
       "4        0.510845  \n",
       "5        0.480936  \n",
       "6        0.476507  \n",
       "7        0.498116  \n",
       "8        0.463710  \n",
       "9        0.465900  "
      ]
     },
     "metadata": {},
     "output_type": "display_data"
    }
   ],
   "source": [
    "display(train.head(10))"
   ]
  },
  {
   "cell_type": "markdown",
   "id": "modified-dubai",
   "metadata": {
    "papermill": {
     "duration": 0.014446,
     "end_time": "2021-05-11T09:05:11.125531",
     "exception": false,
     "start_time": "2021-05-11T09:05:11.111085",
     "status": "completed"
    },
    "tags": []
   },
   "source": [
    "## Device Configuration 🔌"
   ]
  },
  {
   "cell_type": "code",
   "execution_count": 3,
   "id": "tired-setup",
   "metadata": {
    "execution": {
     "iopub.execute_input": "2021-05-11T09:05:11.157526Z",
     "iopub.status.busy": "2021-05-11T09:05:11.156881Z",
     "iopub.status.idle": "2021-05-11T09:05:11.159260Z",
     "shell.execute_reply": "2021-05-11T09:05:11.159710Z"
    },
    "papermill": {
     "duration": 0.020256,
     "end_time": "2021-05-11T09:05:11.159843",
     "exception": false,
     "start_time": "2021-05-11T09:05:11.139587",
     "status": "completed"
    },
    "tags": []
   },
   "outputs": [],
   "source": [
    "DEVICE = 'GPU'"
   ]
  },
  {
   "cell_type": "code",
   "execution_count": 4,
   "id": "backed-russian",
   "metadata": {
    "_kg_hide-input": true,
    "execution": {
     "iopub.execute_input": "2021-05-11T09:05:11.655308Z",
     "iopub.status.busy": "2021-05-11T09:05:11.653223Z",
     "iopub.status.idle": "2021-05-11T09:05:11.669204Z",
     "shell.execute_reply": "2021-05-11T09:05:11.670349Z"
    },
    "papermill": {
     "duration": 0.496604,
     "end_time": "2021-05-11T09:05:11.670602",
     "exception": false,
     "start_time": "2021-05-11T09:05:11.173998",
     "status": "completed"
    },
    "tags": []
   },
   "outputs": [
    {
     "name": "stdout",
     "output_type": "stream",
     "text": [
      "Num GPUs Available:  1\n",
      "Standard strategy for GPU...\n",
      "REPLICAS: 1\n"
     ]
    }
   ],
   "source": [
    "if DEVICE == \"TPU\":\n",
    "    print(\"connecting to TPU...\")\n",
    "    try:\n",
    "        tpu = tf.distribute.cluster_resolver.TPUClusterResolver()\n",
    "        print('Running on TPU ', tpu.master())\n",
    "    except ValueError:\n",
    "        print(\"Could not connect to TPU\")\n",
    "        tpu = None\n",
    "\n",
    "    if tpu:\n",
    "        try:\n",
    "            print(\"initializing  TPU ...\")\n",
    "            tf.config.experimental_connect_to_cluster(tpu)\n",
    "            tf.tpu.experimental.initialize_tpu_system(tpu)\n",
    "            \n",
    "            strategy = tf.distribute.experimental.TPUStrategy(tpu)\n",
    "            print(\"TPU initialized\")\n",
    "        except _:\n",
    "            print(\"failed to initialize TPU\")\n",
    "    else:\n",
    "        DEVICE = \"GPU\"\n",
    "\n",
    "if DEVICE == \"GPU\":\n",
    "    n_gpu = len(tf.config.experimental.list_physical_devices('GPU'))\n",
    "    print(\"Num GPUs Available: \", n_gpu)\n",
    "    \n",
    "    if n_gpu > 1:\n",
    "        print(\"Using strategy for multiple GPU\")\n",
    "        strategy = tf.distribute.MirroredStrategy()\n",
    "    else:\n",
    "        print('Standard strategy for GPU...')\n",
    "        strategy = tf.distribute.get_strategy()\n",
    "\n",
    "AUTO     = tf.data.experimental.AUTOTUNE\n",
    "REPLICAS = strategy.num_replicas_in_sync\n",
    "\n",
    "print(f'REPLICAS: {REPLICAS}')"
   ]
  },
  {
   "cell_type": "markdown",
   "id": "auburn-february",
   "metadata": {
    "papermill": {
     "duration": 0.023532,
     "end_time": "2021-05-11T09:05:11.730813",
     "exception": false,
     "start_time": "2021-05-11T09:05:11.707281",
     "status": "completed"
    },
    "tags": []
   },
   "source": [
    "## Basic Hyperparameters 🪡"
   ]
  },
  {
   "cell_type": "code",
   "execution_count": 5,
   "id": "everyday-german",
   "metadata": {
    "execution": {
     "iopub.execute_input": "2021-05-11T09:05:11.788039Z",
     "iopub.status.busy": "2021-05-11T09:05:11.787098Z",
     "iopub.status.idle": "2021-05-11T09:05:11.789466Z",
     "shell.execute_reply": "2021-05-11T09:05:11.788786Z"
    },
    "papermill": {
     "duration": 0.035108,
     "end_time": "2021-05-11T09:05:11.789617",
     "exception": false,
     "start_time": "2021-05-11T09:05:11.754509",
     "status": "completed"
    },
    "tags": []
   },
   "outputs": [],
   "source": [
    "BATCH_SIZE = 8 * REPLICAS\n",
    "LEARNING_RATE = 1e-3 * REPLICAS\n",
    "EPOCHS = 15\n",
    "N_FOLDS = 5\n",
    "SEQ_LEN = 300\n",
    "BASE_MODEL = '../input/huggingface-roberta-variants/distilroberta-base/distilroberta-base'\n",
    "NEW_NAME = \"John\"\n",
    "proper_names = ['fayre', 'roger', 'blaney']"
   ]
  },
  {
   "cell_type": "markdown",
   "id": "excess-feelings",
   "metadata": {
    "papermill": {
     "duration": 0.024368,
     "end_time": "2021-05-11T09:05:11.837891",
     "exception": false,
     "start_time": "2021-05-11T09:05:11.813523",
     "status": "completed"
    },
    "tags": []
   },
   "source": [
    "<a id='process'></a>\n",
    "# Pre-Processing 👎🏻 -> 👍"
   ]
  },
  {
   "cell_type": "markdown",
   "id": "toxic-indicator",
   "metadata": {
    "papermill": {
     "duration": 0.024547,
     "end_time": "2021-05-11T09:05:11.886958",
     "exception": false,
     "start_time": "2021-05-11T09:05:11.862411",
     "status": "completed"
    },
    "tags": []
   },
   "source": [
    "Building on top of [@dimitreoliveira](https://www.kaggle.com/dimitreoliveira/commonlit-readability-eda-roberta-tf-baseline)'s work we further process the data by removing punctuations and stopwords (courtesy of [@luigisaetta](https://www.kaggle.com/luigisaetta)). \n",
    "\n",
    "1. Remove Punctuation\n",
    "2. Remove Stopwords\n",
    "3. Change Proper Names\n",
    "4. Convert to Lowercase\n",
    "5. Strip spaces\n",
    "6. Convert to `tf.data.Dataset` format"
   ]
  },
  {
   "cell_type": "code",
   "execution_count": 6,
   "id": "pharmaceutical-southeast",
   "metadata": {
    "_kg_hide-input": true,
    "_kg_hide-output": true,
    "execution": {
     "iopub.execute_input": "2021-05-11T09:05:11.965610Z",
     "iopub.status.busy": "2021-05-11T09:05:11.964780Z",
     "iopub.status.idle": "2021-05-11T09:05:11.977763Z",
     "shell.execute_reply": "2021-05-11T09:05:11.978844Z"
    },
    "papermill": {
     "duration": 0.059838,
     "end_time": "2021-05-11T09:05:11.979039",
     "exception": false,
     "start_time": "2021-05-11T09:05:11.919201",
     "status": "completed"
    },
    "tags": []
   },
   "outputs": [],
   "source": [
    "import string\n",
    "\n",
    "# must check this list\n",
    "stop_words = [ \"a\", \"about\", \"above\", \"after\", \"again\", \"against\", \"all\", \"am\", \"an\", \"and\", \"any\", \"are\", \"as\", \"at\", \"be\", \"because\", \"been\", \"before\", \"being\", \"below\", \"between\", \"both\", \"but\", \"by\", \"could\", \"did\", \"do\", \"does\", \"doing\", \"down\", \"during\", \"each\", \"few\", \"for\", \"from\", \"further\", \"had\", \"has\", \"have\", \"having\", \"he\", \"he'd\", \"he'll\", \"he's\", \"her\", \"here\", \"here's\", \"hers\", \"herself\", \"him\", \"himself\", \"his\", \"how\", \"how's\", \"i\", \"i'd\", \"i'll\", \"i'm\", \"i've\", \"if\", \"in\", \"into\", \"is\", \"it\", \"it's\", \"its\", \"itself\", \"let's\", \"me\", \"more\", \"most\", \"my\", \"myself\", \"nor\", \"of\", \"on\", \"once\", \"only\", \"or\", \"other\", \"ought\", \"our\", \"ours\", \"ourselves\", \"out\", \"over\", \"own\", \"same\", \"she\", \"she'd\", \"she'll\", \"she's\", \"should\", \"so\", \"some\", \"such\", \"than\", \"that\", \"that's\", \"the\", \"their\", \"theirs\", \"them\", \"themselves\", \"then\", \"there\", \"there's\", \"these\", \"they\", \"they'd\", \"they'll\", \"they're\", \"they've\", \"this\", \"those\", \"through\", \"to\", \"too\", \"under\", \"until\", \"up\", \"very\", \"was\", \"we\", \"we'd\", \"we'll\", \"we're\", \"we've\", \"were\", \"what\", \"what's\", \"when\", \"when's\", \"where\", \"where's\", \"which\", \"while\", \"who\", \"who's\", \"whom\", \"why\", \"why's\", \"with\", \"would\", \"you\", \"you'd\", \"you'll\", \"you're\", \"you've\", \"your\", \"yours\", \"yourself\", \"yourselves\" ] \n",
    "\n",
    "table = str.maketrans('', '', string.punctuation)\n",
    "\n",
    "# Remove Punctuations\n",
    "def remove_punctuation(orig_str):\n",
    "    words = orig_str.split()\n",
    "    filtered_sentence = \"\"\n",
    "    \n",
    "    for word in words:\n",
    "        word = word.translate(table)\n",
    "        filtered_sentence = filtered_sentence + word + \" \"\n",
    "    \n",
    "    return filtered_sentence\n",
    "\n",
    "# Remove all Stopwords\n",
    "def remove_stopwords(orig_str):\n",
    "    filtered_sentence = \"\"\n",
    "    \n",
    "    words = orig_str.split(\" \")\n",
    "    \n",
    "    for word in words:\n",
    "        if word not in stop_words:\n",
    "            filtered_sentence = filtered_sentence + word + \" \"\n",
    "            \n",
    "    return filtered_sentence\n",
    "\n",
    "# Substitude proper names (all changed with John)\n",
    "def change_proper_names(orig_str):\n",
    "    filtered_sentence = \"\"\n",
    "    \n",
    "    words = orig_str.split(\" \")\n",
    "    \n",
    "    for word in words:\n",
    "        if word not in proper_names:\n",
    "            filtered_sentence = filtered_sentence + word + \" \"\n",
    "        else:\n",
    "            filtered_sentence = filtered_sentence + NEW_NAME + \" \"\n",
    "            \n",
    "    return filtered_sentence\n",
    "\n",
    "# A Custom Standardization Function\n",
    "def custom_standardization(text):\n",
    "    text = text.lower()\n",
    "    text = text.strip()\n",
    "    return text"
   ]
  },
  {
   "cell_type": "code",
   "execution_count": 7,
   "id": "ongoing-adjustment",
   "metadata": {
    "_kg_hide-input": true,
    "_kg_hide-output": true,
    "execution": {
     "iopub.execute_input": "2021-05-11T09:05:12.058744Z",
     "iopub.status.busy": "2021-05-11T09:05:12.057950Z",
     "iopub.status.idle": "2021-05-11T09:05:12.063138Z",
     "shell.execute_reply": "2021-05-11T09:05:12.063708Z"
    },
    "papermill": {
     "duration": 0.049519,
     "end_time": "2021-05-11T09:05:12.063913",
     "exception": false,
     "start_time": "2021-05-11T09:05:12.014394",
     "status": "completed"
    },
    "tags": []
   },
   "outputs": [],
   "source": [
    "# Sampling Function\n",
    "def sample_target(features, target):\n",
    "    mean, stddev = target\n",
    "    sampled_target = tf.random.normal([], mean=tf.cast(mean, dtype=tf.float32), \n",
    "                                      stddev=tf.cast(stddev, dtype=tf.float32), dtype=tf.float32)\n",
    "    \n",
    "    return (features, sampled_target)\n",
    "    \n",
    "\n",
    "# Convert to tf.data.Dataset\n",
    "def get_dataset(pandas_df, tokenizer, labeled=True, ordered=False, repeated=False, \n",
    "                is_sampled=False, batch_size=32, seq_len=128):\n",
    "    \n",
    "    pandas_df['excerpt'] = pandas_df['excerpt'].apply(remove_punctuation)\n",
    "    pandas_df['excerpt'] = pandas_df['excerpt'].apply(remove_stopwords)\n",
    "    pandas_df['excerpt'] = pandas_df['excerpt'].apply(change_proper_names)\n",
    "    \n",
    "    text = [custom_standardization(text) for text in pandas_df['excerpt']]\n",
    "    \n",
    "    # Tokenize inputs\n",
    "    tokenized_inputs = tokenizer(text, max_length=seq_len, truncation=True, \n",
    "                                 padding='max_length', return_tensors='tf')\n",
    "    \n",
    "    if labeled:\n",
    "        dataset = tf.data.Dataset.from_tensor_slices(({'input_ids': tokenized_inputs['input_ids'], \n",
    "                                                      'attention_mask': tokenized_inputs['attention_mask']}, \n",
    "                                                      (pandas_df['target'], pandas_df['standard_error'])))\n",
    "        if is_sampled:\n",
    "            dataset = dataset.map(sample_target, num_parallel_calls=tf.data.AUTOTUNE)\n",
    "    else:\n",
    "        dataset = tf.data.Dataset.from_tensor_slices({'input_ids': tokenized_inputs['input_ids'], \n",
    "                                                      'attention_mask': tokenized_inputs['attention_mask']})\n",
    "        \n",
    "    if repeated:\n",
    "        dataset = dataset.repeat()\n",
    "    if not ordered:\n",
    "        dataset = dataset.shuffle(1024)\n",
    "    dataset = dataset.batch(batch_size)\n",
    "    dataset = dataset.prefetch(tf.data.AUTOTUNE)\n",
    "    \n",
    "    return dataset"
   ]
  },
  {
   "cell_type": "markdown",
   "id": "fitted-salem",
   "metadata": {
    "papermill": {
     "duration": 0.025503,
     "end_time": "2021-05-11T09:05:12.116689",
     "exception": false,
     "start_time": "2021-05-11T09:05:12.091186",
     "status": "completed"
    },
    "tags": []
   },
   "source": [
    "<a id = 'model'></a>\n",
    "# The Model 👷‍♀️"
   ]
  },
  {
   "cell_type": "markdown",
   "id": "metric-retreat",
   "metadata": {
    "papermill": {
     "duration": 0.024234,
     "end_time": "2021-05-11T09:05:12.165230",
     "exception": false,
     "start_time": "2021-05-11T09:05:12.140996",
     "status": "completed"
    },
    "tags": []
   },
   "source": [
    "## LearningRate Schedule and Callbacks\n",
    "\n",
    "> From a [TowardsDataScience article](https://towardsdatascience.com/learning-rate-scheduler-d8a55747dd90)\n",
    "\n",
    "In training deep networks, it is helpful to reduce the learning rate as the number of training epochs increases. This is based on the intuition that with a high learning rate, the deep learning model would possess high kinetic energy. As a result, it’s parameter vector bounces around chaotically. Thus, it’s unable to settle down into deeper and narrower parts of the loss function (local minima). If the learning rate, on the other hand, was very small, the system then would have low kinetic energy. Thus, it would settle down into shallow and narrower parts of the loss function (false minima).\n",
    "\n",
    "<center> <img src = \"https://miro.medium.com/max/668/1*iYWyu8hemMyaBlK6V-2vqg.png\"> </center>\n",
    "\n",
    "\n",
    "The above figure depicts that a high learning rate will lead to random to and fro moment of the vector around local minima while a slow learning rate results in getting stuck into false minima. Thus, knowing when to decay the learning rate can be hard to find out.\n",
    "\n",
    "Decreasing the learning rate during training can lead to improved accuracy and (most perplexingly) reduced overfitting of the model. A piecewise decrease of the learning rate whenever progress has plateaued is effective in practice. Essentially this ensures that we converge efficiently to a suitable solution and only then reduce the inherent variance of the parameters by reducing the learning rate.\n",
    "\n",
    "We'll also define some callbacks for :-\n",
    "\n",
    "* `EarlyStopping` ( A callback to stop training when a monitored metric has stopped improving )\n",
    "* `WandbCallback` ( Weights and Biases callback to automatically save all the metrics and the loss values tracked in model.fit )"
   ]
  },
  {
   "cell_type": "code",
   "execution_count": 8,
   "id": "environmental-airline",
   "metadata": {
    "_kg_hide-input": true,
    "_kg_hide-output": true,
    "execution": {
     "iopub.execute_input": "2021-05-11T09:05:12.205382Z",
     "iopub.status.busy": "2021-05-11T09:05:12.203551Z",
     "iopub.status.idle": "2021-05-11T09:05:12.206138Z",
     "shell.execute_reply": "2021-05-11T09:05:12.206599Z"
    },
    "papermill": {
     "duration": 0.025468,
     "end_time": "2021-05-11T09:05:12.206753",
     "exception": false,
     "start_time": "2021-05-11T09:05:12.181285",
     "status": "completed"
    },
    "tags": []
   },
   "outputs": [],
   "source": [
    "initial_learning_rate = 0.01\n",
    "\n",
    "lr_schedule = tf.keras.optimizers.schedules.ExponentialDecay(\n",
    "        initial_learning_rate, decay_steps=20, decay_rate=0.96, staircase=True)\n",
    "\n",
    "def get_model(encoder, seq_len=256):\n",
    "    \n",
    "    input_ids = tf.keras.layers.Input(shape=(seq_len), dtype=tf.int32, name='input_ids')\n",
    "    \n",
    "    input_attention_mask = tf.keras.layers.Input(shape=(seq_len,), dtype=tf.int32, name='attention_mask')\n",
    "    \n",
    "    output = encoder({'input_ids': input_ids, \n",
    "                      'attention_mask': input_attention_mask})\n",
    "    \n",
    "    model = tf.keras.Model(inputs = [input_ids, input_attention_mask], \n",
    "                           outputs = output, name = \"CommonLit_Model\")\n",
    "\n",
    "    optimizer = tf.keras.optimizers.Adam(learning_rate=lr_schedule)\n",
    "    \n",
    "    model.compile(optimizer=optimizer, \n",
    "                  loss=tf.keras.losses.MeanSquaredError(), \n",
    "                  metrics=['mse'])\n",
    "    \n",
    "    return model"
   ]
  },
  {
   "cell_type": "markdown",
   "id": "biological-oakland",
   "metadata": {
    "papermill": {
     "duration": 0.015053,
     "end_time": "2021-05-11T09:05:12.237958",
     "exception": false,
     "start_time": "2021-05-11T09:05:12.222905",
     "status": "completed"
    },
    "tags": []
   },
   "source": [
    "## Architecture\n",
    "\n",
    "![](https://github.com/SauravMaheshkar/CommonLit-Readibility/blob/main/assets/Dataset%20Banner.png?raw=true)\n",
    "\n",
    "For the Model Architecture we use `distilroberta-base` from huggingface. Other Variants of Roberta and BERT are worth experimenting with and have been made available in the [**Huggingface Roberta Variants**](https://www.kaggle.com/sauravmaheshkar/huggingface-roberta-variants) Dataset. (BERT Dataset will be uploaded soon). Currently Model Weights for 4 variants are available in the Dataset:-\n",
    "\n",
    "* **`distilroberta-base`**\n",
    "* **`roberta-base`**\n",
    "* **`roberta-large`**\n",
    "* **`roberta-large-mnli`**"
   ]
  },
  {
   "cell_type": "code",
   "execution_count": 9,
   "id": "provincial-shaft",
   "metadata": {
    "execution": {
     "iopub.execute_input": "2021-05-11T09:05:12.273453Z",
     "iopub.status.busy": "2021-05-11T09:05:12.272952Z",
     "iopub.status.idle": "2021-05-11T09:05:31.535047Z",
     "shell.execute_reply": "2021-05-11T09:05:31.534582Z"
    },
    "papermill": {
     "duration": 19.281549,
     "end_time": "2021-05-11T09:05:31.535173",
     "exception": false,
     "start_time": "2021-05-11T09:05:12.253624",
     "status": "completed"
    },
    "tags": []
   },
   "outputs": [
    {
     "name": "stdout",
     "output_type": "stream",
     "text": [
      "Model: \"CommonLit_Model\"\n",
      "__________________________________________________________________________________________________\n",
      "Layer (type)                    Output Shape         Param #     Connected to                     \n",
      "==================================================================================================\n",
      "attention_mask (InputLayer)     [(None, 300)]        0                                            \n",
      "__________________________________________________________________________________________________\n",
      "input_ids (InputLayer)          [(None, 300)]        0                                            \n",
      "__________________________________________________________________________________________________\n",
      "tf_roberta_for_sequence_classif TFSequenceClassifier 82119169    attention_mask[0][0]             \n",
      "                                                                 input_ids[0][0]                  \n",
      "==================================================================================================\n",
      "Total params: 82,119,169\n",
      "Trainable params: 82,119,169\n",
      "Non-trainable params: 0\n",
      "__________________________________________________________________________________________________\n"
     ]
    }
   ],
   "source": [
    "with strategy.scope():\n",
    "    encoder = TFAutoModelForSequenceClassification.from_pretrained(BASE_MODEL, num_labels=1)\n",
    "    model = get_model(encoder, SEQ_LEN)\n",
    "    \n",
    "model.summary()"
   ]
  },
  {
   "cell_type": "code",
   "execution_count": 10,
   "id": "forty-tower",
   "metadata": {
    "_kg_hide-input": true,
    "execution": {
     "iopub.execute_input": "2021-05-11T09:05:31.571668Z",
     "iopub.status.busy": "2021-05-11T09:05:31.570838Z",
     "iopub.status.idle": "2021-05-11T09:05:32.110251Z",
     "shell.execute_reply": "2021-05-11T09:05:32.109782Z"
    },
    "papermill": {
     "duration": 0.55902,
     "end_time": "2021-05-11T09:05:32.110375",
     "exception": false,
     "start_time": "2021-05-11T09:05:31.551355",
     "status": "completed"
    },
    "tags": []
   },
   "outputs": [
    {
     "data": {
      "image/png": "[encoded data removed]",
      "text/plain": [
       "<IPython.core.display.Image object>"
      ]
     },
     "execution_count": 10,
     "metadata": {},
     "output_type": "execute_result"
    }
   ],
   "source": [
    "tf.keras.utils.plot_model(model,\n",
    "    show_shapes=True, show_dtype=False,\n",
    "    show_layer_names=False, rankdir='TB', expand_nested=False, dpi=96)"
   ]
  },
  {
   "cell_type": "markdown",
   "id": "competent-touch",
   "metadata": {
    "papermill": {
     "duration": 0.01651,
     "end_time": "2021-05-11T09:05:32.143963",
     "exception": false,
     "start_time": "2021-05-11T09:05:32.127453",
     "status": "completed"
    },
    "tags": []
   },
   "source": [
    "<a id = 'train'></a>\n",
    "# Training 💪"
   ]
  },
  {
   "cell_type": "markdown",
   "id": "hindu-height",
   "metadata": {
    "papermill": {
     "duration": 0.016266,
     "end_time": "2021-05-11T09:05:32.176695",
     "exception": false,
     "start_time": "2021-05-11T09:05:32.160429",
     "status": "completed"
    },
    "tags": []
   },
   "source": [
    "We train the model for `N_FOLDS` and save our model metrics to Weights and Biases for efficient model monitoring and tracking. Visit the [**Weights and Biases Project Page**](https://wandb.ai/sauravmaheshkar/commonlit) to see the metrics\n",
    "\n",
    "![](https://raw.githubusercontent.com/SauravMaheshkar/CommonLit-Readibility/a5ce1a982c59f8d3dd86a4b9e4a9b5108ccdfb26/assets/Val_MSE_Ex.svg)\n",
    "\n",
    "![](https://raw.githubusercontent.com/SauravMaheshkar/CommonLit-Readibility/a5ce1a982c59f8d3dd86a4b9e4a9b5108ccdfb26/assets/MSE_Ex.svg)"
   ]
  },
  {
   "cell_type": "code",
   "execution_count": 11,
   "id": "alien-investigation",
   "metadata": {
    "_kg_hide-output": true,
    "execution": {
     "iopub.execute_input": "2021-05-11T09:05:32.220739Z",
     "iopub.status.busy": "2021-05-11T09:05:32.220195Z",
     "iopub.status.idle": "2021-05-11T09:35:48.122115Z",
     "shell.execute_reply": "2021-05-11T09:35:48.122563Z"
    },
    "papermill": {
     "duration": 1815.929214,
     "end_time": "2021-05-11T09:35:48.122773",
     "exception": false,
     "start_time": "2021-05-11T09:05:32.193559",
     "status": "completed"
    },
    "tags": []
   },
   "outputs": [
    {
     "name": "stdout",
     "output_type": "stream",
     "text": [
      "\n",
      "FOLD: 1\n"
     ]
    },
    {
     "name": "stderr",
     "output_type": "stream",
     "text": [
      "\u001b[34m\u001b[1mwandb\u001b[0m: Currently logged in as: \u001b[33msauravmaheshkar\u001b[0m (use `wandb login --relogin` to force relogin)\n"
     ]
    },
    {
     "data": {
      "text/html": [
       "\n",
       "                Tracking run with wandb version 0.10.30<br/>\n",
       "                Syncing run <strong style=\"color:#cdcd00\">solar-thunder-28</strong> to <a href=\"https://wandb.ai\" target=\"_blank\">Weights & Biases</a> <a href=\"https://docs.wandb.com/integrations/jupyter.html\" target=\"_blank\">(Documentation)</a>.<br/>\n",
       "                Project page: <a href=\"https://wandb.ai/sauravmaheshkar/commonlit\" target=\"_blank\">https://wandb.ai/sauravmaheshkar/commonlit</a><br/>\n",
       "                Run page: <a href=\"https://wandb.ai/sauravmaheshkar/commonlit/runs/1o0a0fxg\" target=\"_blank\">https://wandb.ai/sauravmaheshkar/commonlit/runs/1o0a0fxg</a><br/>\n",
       "                Run data is saved locally in <code>/kaggle/working/wandb/run-20210511_090538-1o0a0fxg</code><br/><br/>\n",
       "            "
      ],
      "text/plain": [
       "<IPython.core.display.HTML object>"
      ]
     },
     "metadata": {},
     "output_type": "display_data"
    },
    {
     "name": "stdout",
     "output_type": "stream",
     "text": [
      "Epoch 1/15\n",
      "100/100 [==============================] - 33s 250ms/step - loss: 5.1451 - mse: 5.1451 - val_loss: 1.7975 - val_mse: 1.7975\n",
      "Epoch 2/15\n",
      "100/100 [==============================] - 23s 233ms/step - loss: 1.8362 - mse: 1.8362 - val_loss: 1.3416 - val_mse: 1.3416\n",
      "Epoch 3/15\n",
      "100/100 [==============================] - 23s 232ms/step - loss: 1.6101 - mse: 1.6101 - val_loss: 3.4378 - val_mse: 3.4378\n",
      "Epoch 4/15\n",
      "100/100 [==============================] - 23s 233ms/step - loss: 1.8404 - mse: 1.8404 - val_loss: 1.0487 - val_mse: 1.0487\n",
      "Epoch 5/15\n",
      "100/100 [==============================] - 23s 232ms/step - loss: 1.6972 - mse: 1.6972 - val_loss: 1.1934 - val_mse: 1.1934\n",
      "Epoch 6/15\n",
      "100/100 [==============================] - 23s 233ms/step - loss: 1.3197 - mse: 1.3197 - val_loss: 1.1482 - val_mse: 1.1482\n",
      "Epoch 7/15\n",
      "100/100 [==============================] - 23s 233ms/step - loss: 1.5988 - mse: 1.5988 - val_loss: 1.2254 - val_mse: 1.2254\n",
      "Epoch 8/15\n",
      "100/100 [==============================] - 23s 233ms/step - loss: 1.4141 - mse: 1.4141 - val_loss: 1.0557 - val_mse: 1.0557\n",
      "Epoch 9/15\n",
      "100/100 [==============================] - 23s 233ms/step - loss: 1.2180 - mse: 1.2180 - val_loss: 1.0489 - val_mse: 1.0489\n",
      "Epoch 10/15\n",
      "100/100 [==============================] - 23s 232ms/step - loss: 1.5852 - mse: 1.5852 - val_loss: 1.0474 - val_mse: 1.0474\n",
      "Epoch 11/15\n",
      "100/100 [==============================] - 23s 231ms/step - loss: 1.3766 - mse: 1.3766 - val_loss: 1.1370 - val_mse: 1.1370\n",
      "Epoch 12/15\n",
      "100/100 [==============================] - 23s 231ms/step - loss: 1.5520 - mse: 1.5520 - val_loss: 1.0920 - val_mse: 1.0920\n",
      "Epoch 13/15\n",
      "100/100 [==============================] - 23s 231ms/step - loss: 1.4396 - mse: 1.4396 - val_loss: 1.1211 - val_mse: 1.1211\n",
      "Epoch 14/15\n",
      "100/100 [==============================] - 23s 232ms/step - loss: 1.3672 - mse: 1.3672 - val_loss: 1.0515 - val_mse: 1.0515\n",
      "Epoch 15/15\n",
      "100/100 [==============================] - 23s 232ms/step - loss: 1.1939 - mse: 1.1939 - val_loss: 1.0522 - val_mse: 1.0522\n"
     ]
    },
    {
     "data": {
      "text/html": [
       "<br/>Waiting for W&B process to finish, PID 100<br/>Program ended successfully."
      ],
      "text/plain": [
       "<IPython.core.display.HTML object>"
      ]
     },
     "metadata": {},
     "output_type": "display_data"
    },
    {
     "data": {
      "application/vnd.jupyter.widget-view+json": {
       "model_id": "9cb21801745e41d5ac6d8a812432fdfc",
       "version_major": 2,
       "version_minor": 0
      },
      "text/plain": [
       "VBox(children=(Label(value=' 0.00MB of 0.00MB uploaded (0.00MB deduped)\\r'), FloatProgress(value=1.0, max=1.0)…"
      ]
     },
     "metadata": {},
     "output_type": "display_data"
    },
    {
     "data": {
      "text/html": [
       "Find user logs for this run at: <code>/kaggle/working/wandb/run-20210511_090538-1o0a0fxg/logs/debug.log</code>"
      ],
      "text/plain": [
       "<IPython.core.display.HTML object>"
      ]
     },
     "metadata": {},
     "output_type": "display_data"
    },
    {
     "data": {
      "text/html": [
       "Find internal logs for this run at: <code>/kaggle/working/wandb/run-20210511_090538-1o0a0fxg/logs/debug-internal.log</code>"
      ],
      "text/plain": [
       "<IPython.core.display.HTML object>"
      ]
     },
     "metadata": {},
     "output_type": "display_data"
    },
    {
     "data": {
      "text/html": [
       "<h3>Run summary:</h3><br/><style>\n",
       "    table.wandb td:nth-child(1) { padding: 0 10px; text-align: right }\n",
       "    </style><table class=\"wandb\">\n",
       "<tr><td>epoch</td><td>14</td></tr><tr><td>loss</td><td>1.32249</td></tr><tr><td>mse</td><td>1.32249</td></tr><tr><td>val_loss</td><td>1.05217</td></tr><tr><td>val_mse</td><td>1.05217</td></tr><tr><td>_runtime</td><td>368</td></tr><tr><td>_timestamp</td><td>1620724306</td></tr><tr><td>_step</td><td>14</td></tr><tr><td>best_val_mse</td><td>1.04741</td></tr><tr><td>best_epoch</td><td>9</td></tr></table>"
      ],
      "text/plain": [
       "<IPython.core.display.HTML object>"
      ]
     },
     "metadata": {},
     "output_type": "display_data"
    },
    {
     "data": {
      "text/html": [
       "<h3>Run history:</h3><br/><style>\n",
       "    table.wandb td:nth-child(1) { padding: 0 10px; text-align: right }\n",
       "    </style><table class=\"wandb\">\n",
       "<tr><td>epoch</td><td>▁▁▂▃▃▃▄▅▅▅▆▇▇▇█</td></tr><tr><td>loss</td><td>█▄▄▃▃▂▃▂▁▃▂▂▁▁▁</td></tr><tr><td>mse</td><td>█▄▄▃▃▂▃▂▁▃▂▂▁▁▁</td></tr><tr><td>val_loss</td><td>▃▂█▁▁▁▂▁▁▁▁▁▁▁▁</td></tr><tr><td>val_mse</td><td>▃▂█▁▁▁▂▁▁▁▁▁▁▁▁</td></tr><tr><td>_runtime</td><td>▁▂▂▃▃▄▄▅▅▆▆▆▇██</td></tr><tr><td>_timestamp</td><td>▁▂▂▃▃▄▄▅▅▆▆▆▇██</td></tr><tr><td>_step</td><td>▁▁▂▃▃▃▄▅▅▅▆▇▇▇█</td></tr></table><br/>"
      ],
      "text/plain": [
       "<IPython.core.display.HTML object>"
      ]
     },
     "metadata": {},
     "output_type": "display_data"
    },
    {
     "data": {
      "text/html": [
       "Synced 5 W&B file(s), 1 media file(s), 0 artifact file(s) and 0 other file(s)"
      ],
      "text/plain": [
       "<IPython.core.display.HTML object>"
      ]
     },
     "metadata": {},
     "output_type": "display_data"
    },
    {
     "data": {
      "text/html": [
       "\n",
       "                    <br/>Synced <strong style=\"color:#cdcd00\">solar-thunder-28</strong>: <a href=\"https://wandb.ai/sauravmaheshkar/commonlit/runs/1o0a0fxg\" target=\"_blank\">https://wandb.ai/sauravmaheshkar/commonlit/runs/1o0a0fxg</a><br/>\n",
       "                "
      ],
      "text/plain": [
       "<IPython.core.display.HTML object>"
      ]
     },
     "metadata": {},
     "output_type": "display_data"
    },
    {
     "name": "stdout",
     "output_type": "stream",
     "text": [
      "\n",
      "FOLD: 2\n"
     ]
    },
    {
     "data": {
      "text/html": [
       "\n",
       "                Tracking run with wandb version 0.10.30<br/>\n",
       "                Syncing run <strong style=\"color:#cdcd00\">clear-dawn-29</strong> to <a href=\"https://wandb.ai\" target=\"_blank\">Weights & Biases</a> <a href=\"https://docs.wandb.com/integrations/jupyter.html\" target=\"_blank\">(Documentation)</a>.<br/>\n",
       "                Project page: <a href=\"https://wandb.ai/sauravmaheshkar/commonlit\" target=\"_blank\">https://wandb.ai/sauravmaheshkar/commonlit</a><br/>\n",
       "                Run page: <a href=\"https://wandb.ai/sauravmaheshkar/commonlit/runs/3q8pkaq6\" target=\"_blank\">https://wandb.ai/sauravmaheshkar/commonlit/runs/3q8pkaq6</a><br/>\n",
       "                Run data is saved locally in <code>/kaggle/working/wandb/run-20210511_091156-3q8pkaq6</code><br/><br/>\n",
       "            "
      ],
      "text/plain": [
       "<IPython.core.display.HTML object>"
      ]
     },
     "metadata": {},
     "output_type": "display_data"
    },
    {
     "name": "stdout",
     "output_type": "stream",
     "text": [
      "Epoch 1/15\n",
      "100/100 [==============================] - 33s 246ms/step - loss: 9.0125 - mse: 9.0125 - val_loss: 1.1582 - val_mse: 1.1582\n",
      "Epoch 2/15\n",
      "100/100 [==============================] - 23s 232ms/step - loss: 1.4335 - mse: 1.4335 - val_loss: 2.7910 - val_mse: 2.7910\n",
      "Epoch 3/15\n",
      "100/100 [==============================] - 23s 232ms/step - loss: 1.6284 - mse: 1.6284 - val_loss: 1.3887 - val_mse: 1.3887\n",
      "Epoch 4/15\n",
      "100/100 [==============================] - 23s 232ms/step - loss: 1.6524 - mse: 1.6524 - val_loss: 2.1787 - val_mse: 2.1787\n",
      "Epoch 5/15\n",
      "100/100 [==============================] - 23s 232ms/step - loss: 1.5752 - mse: 1.5752 - val_loss: 1.5447 - val_mse: 1.5447\n",
      "Epoch 6/15\n",
      "100/100 [==============================] - 23s 233ms/step - loss: 1.4165 - mse: 1.4165 - val_loss: 1.1565 - val_mse: 1.1565\n",
      "Epoch 7/15\n",
      "100/100 [==============================] - 23s 234ms/step - loss: 1.6704 - mse: 1.6704 - val_loss: 1.7520 - val_mse: 1.7520\n",
      "Epoch 8/15\n",
      "100/100 [==============================] - 23s 231ms/step - loss: 1.4676 - mse: 1.4676 - val_loss: 1.2107 - val_mse: 1.2107\n",
      "Epoch 9/15\n",
      "100/100 [==============================] - 23s 232ms/step - loss: 1.4785 - mse: 1.4785 - val_loss: 1.2508 - val_mse: 1.2508\n",
      "Epoch 10/15\n",
      "100/100 [==============================] - 23s 232ms/step - loss: 1.5454 - mse: 1.5454 - val_loss: 1.2200 - val_mse: 1.2200\n",
      "Epoch 11/15\n",
      "100/100 [==============================] - 23s 231ms/step - loss: 1.3634 - mse: 1.3634 - val_loss: 1.2320 - val_mse: 1.2320\n",
      "Epoch 12/15\n",
      "100/100 [==============================] - 23s 232ms/step - loss: 1.3183 - mse: 1.3183 - val_loss: 1.3873 - val_mse: 1.3873\n",
      "Epoch 13/15\n",
      "100/100 [==============================] - 23s 232ms/step - loss: 1.3470 - mse: 1.3470 - val_loss: 1.1652 - val_mse: 1.1652\n",
      "Epoch 14/15\n",
      "100/100 [==============================] - 23s 232ms/step - loss: 1.3170 - mse: 1.3170 - val_loss: 1.3452 - val_mse: 1.3452\n"
     ]
    },
    {
     "data": {
      "text/html": [
       "<br/>Waiting for W&B process to finish, PID 409<br/>Program ended successfully."
      ],
      "text/plain": [
       "<IPython.core.display.HTML object>"
      ]
     },
     "metadata": {},
     "output_type": "display_data"
    },
    {
     "data": {
      "application/vnd.jupyter.widget-view+json": {
       "model_id": "a36579c0c4614b3d82a58c315b82f103",
       "version_major": 2,
       "version_minor": 0
      },
      "text/plain": [
       "VBox(children=(Label(value=' 0.00MB of 0.00MB uploaded (0.00MB deduped)\\r'), FloatProgress(value=1.0, max=1.0)…"
      ]
     },
     "metadata": {},
     "output_type": "display_data"
    },
    {
     "data": {
      "text/html": [
       "Find user logs for this run at: <code>/kaggle/working/wandb/run-20210511_091156-3q8pkaq6/logs/debug.log</code>"
      ],
      "text/plain": [
       "<IPython.core.display.HTML object>"
      ]
     },
     "metadata": {},
     "output_type": "display_data"
    },
    {
     "data": {
      "text/html": [
       "Find internal logs for this run at: <code>/kaggle/working/wandb/run-20210511_091156-3q8pkaq6/logs/debug-internal.log</code>"
      ],
      "text/plain": [
       "<IPython.core.display.HTML object>"
      ]
     },
     "metadata": {},
     "output_type": "display_data"
    },
    {
     "data": {
      "text/html": [
       "<h3>Run summary:</h3><br/><style>\n",
       "    table.wandb td:nth-child(1) { padding: 0 10px; text-align: right }\n",
       "    </style><table class=\"wandb\">\n",
       "<tr><td>epoch</td><td>13</td></tr><tr><td>loss</td><td>1.33135</td></tr><tr><td>mse</td><td>1.33135</td></tr><tr><td>val_loss</td><td>1.34519</td></tr><tr><td>val_mse</td><td>1.34519</td></tr><tr><td>_runtime</td><td>343</td></tr><tr><td>_timestamp</td><td>1620724659</td></tr><tr><td>_step</td><td>13</td></tr><tr><td>best_val_mse</td><td>1.15649</td></tr><tr><td>best_epoch</td><td>5</td></tr></table>"
      ],
      "text/plain": [
       "<IPython.core.display.HTML object>"
      ]
     },
     "metadata": {},
     "output_type": "display_data"
    },
    {
     "data": {
      "text/html": [
       "<h3>Run history:</h3><br/><style>\n",
       "    table.wandb td:nth-child(1) { padding: 0 10px; text-align: right }\n",
       "    </style><table class=\"wandb\">\n",
       "<tr><td>epoch</td><td>▁▂▂▃▃▄▄▅▅▆▆▇▇█</td></tr><tr><td>loss</td><td>█▂▂▂▁▁▂▁▁▂▁▁▁▁</td></tr><tr><td>mse</td><td>█▂▂▂▁▁▂▁▁▂▁▁▁▁</td></tr><tr><td>val_loss</td><td>▁█▂▅▃▁▄▁▁▁▁▂▁▂</td></tr><tr><td>val_mse</td><td>▁█▂▅▃▁▄▁▁▁▁▂▁▂</td></tr><tr><td>_runtime</td><td>▁▂▂▃▃▄▄▅▅▆▆▇▇█</td></tr><tr><td>_timestamp</td><td>▁▂▂▃▃▄▄▅▅▆▆▇▇█</td></tr><tr><td>_step</td><td>▁▂▂▃▃▄▄▅▅▆▆▇▇█</td></tr></table><br/>"
      ],
      "text/plain": [
       "<IPython.core.display.HTML object>"
      ]
     },
     "metadata": {},
     "output_type": "display_data"
    },
    {
     "data": {
      "text/html": [
       "Synced 5 W&B file(s), 1 media file(s), 0 artifact file(s) and 0 other file(s)"
      ],
      "text/plain": [
       "<IPython.core.display.HTML object>"
      ]
     },
     "metadata": {},
     "output_type": "display_data"
    },
    {
     "data": {
      "text/html": [
       "\n",
       "                    <br/>Synced <strong style=\"color:#cdcd00\">clear-dawn-29</strong>: <a href=\"https://wandb.ai/sauravmaheshkar/commonlit/runs/3q8pkaq6\" target=\"_blank\">https://wandb.ai/sauravmaheshkar/commonlit/runs/3q8pkaq6</a><br/>\n",
       "                "
      ],
      "text/plain": [
       "<IPython.core.display.HTML object>"
      ]
     },
     "metadata": {},
     "output_type": "display_data"
    },
    {
     "name": "stdout",
     "output_type": "stream",
     "text": [
      "\n",
      "FOLD: 3\n"
     ]
    },
    {
     "data": {
      "text/html": [
       "\n",
       "                Tracking run with wandb version 0.10.30<br/>\n",
       "                Syncing run <strong style=\"color:#cdcd00\">ruby-leaf-30</strong> to <a href=\"https://wandb.ai\" target=\"_blank\">Weights & Biases</a> <a href=\"https://docs.wandb.com/integrations/jupyter.html\" target=\"_blank\">(Documentation)</a>.<br/>\n",
       "                Project page: <a href=\"https://wandb.ai/sauravmaheshkar/commonlit\" target=\"_blank\">https://wandb.ai/sauravmaheshkar/commonlit</a><br/>\n",
       "                Run page: <a href=\"https://wandb.ai/sauravmaheshkar/commonlit/runs/1cstkh1t\" target=\"_blank\">https://wandb.ai/sauravmaheshkar/commonlit/runs/1cstkh1t</a><br/>\n",
       "                Run data is saved locally in <code>/kaggle/working/wandb/run-20210511_091748-1cstkh1t</code><br/><br/>\n",
       "            "
      ],
      "text/plain": [
       "<IPython.core.display.HTML object>"
      ]
     },
     "metadata": {},
     "output_type": "display_data"
    },
    {
     "name": "stdout",
     "output_type": "stream",
     "text": [
      "Epoch 1/15\n",
      "100/100 [==============================] - 33s 247ms/step - loss: 7.9385 - mse: 7.9385 - val_loss: 1.6586 - val_mse: 1.6586\n",
      "Epoch 2/15\n",
      "100/100 [==============================] - 23s 232ms/step - loss: 2.1340 - mse: 2.1340 - val_loss: 1.0567 - val_mse: 1.0567\n",
      "Epoch 3/15\n",
      "100/100 [==============================] - 23s 233ms/step - loss: 1.8644 - mse: 1.8644 - val_loss: 1.9626 - val_mse: 1.9626\n",
      "Epoch 4/15\n",
      "100/100 [==============================] - 23s 232ms/step - loss: 1.6183 - mse: 1.6183 - val_loss: 1.1096 - val_mse: 1.1096\n",
      "Epoch 5/15\n",
      "100/100 [==============================] - 23s 232ms/step - loss: 1.4974 - mse: 1.4974 - val_loss: 1.1991 - val_mse: 1.1991\n",
      "Epoch 6/15\n",
      "100/100 [==============================] - 23s 232ms/step - loss: 1.4041 - mse: 1.4041 - val_loss: 1.0813 - val_mse: 1.0813\n",
      "Epoch 7/15\n",
      "100/100 [==============================] - 23s 232ms/step - loss: 1.5308 - mse: 1.5308 - val_loss: 2.6805 - val_mse: 2.6805\n",
      "Epoch 8/15\n",
      "100/100 [==============================] - 23s 233ms/step - loss: 1.6339 - mse: 1.6339 - val_loss: 1.0530 - val_mse: 1.0530\n",
      "Epoch 9/15\n",
      "100/100 [==============================] - 23s 231ms/step - loss: 1.4711 - mse: 1.4711 - val_loss: 1.0957 - val_mse: 1.0957\n",
      "Epoch 10/15\n",
      "100/100 [==============================] - 23s 232ms/step - loss: 1.4977 - mse: 1.4977 - val_loss: 1.0594 - val_mse: 1.0594\n",
      "Epoch 11/15\n",
      "100/100 [==============================] - 23s 233ms/step - loss: 1.3171 - mse: 1.3171 - val_loss: 1.2966 - val_mse: 1.2966\n",
      "Epoch 12/15\n",
      "100/100 [==============================] - 23s 231ms/step - loss: 1.4588 - mse: 1.4588 - val_loss: 1.0517 - val_mse: 1.0517\n",
      "Epoch 13/15\n",
      "100/100 [==============================] - 23s 233ms/step - loss: 1.4213 - mse: 1.4213 - val_loss: 1.0501 - val_mse: 1.0501\n",
      "Epoch 14/15\n",
      "100/100 [==============================] - 23s 233ms/step - loss: 1.4742 - mse: 1.4742 - val_loss: 1.1575 - val_mse: 1.1575\n",
      "Epoch 15/15\n",
      "100/100 [==============================] - 23s 232ms/step - loss: 1.4451 - mse: 1.4451 - val_loss: 1.0565 - val_mse: 1.0565\n"
     ]
    },
    {
     "data": {
      "text/html": [
       "<br/>Waiting for W&B process to finish, PID 699<br/>Program ended successfully."
      ],
      "text/plain": [
       "<IPython.core.display.HTML object>"
      ]
     },
     "metadata": {},
     "output_type": "display_data"
    },
    {
     "data": {
      "application/vnd.jupyter.widget-view+json": {
       "model_id": "f69a3e35b0da47a98a8c5e3d7cebb033",
       "version_major": 2,
       "version_minor": 0
      },
      "text/plain": [
       "VBox(children=(Label(value=' 0.00MB of 0.00MB uploaded (0.00MB deduped)\\r'), FloatProgress(value=1.0, max=1.0)…"
      ]
     },
     "metadata": {},
     "output_type": "display_data"
    },
    {
     "data": {
      "text/html": [
       "Find user logs for this run at: <code>/kaggle/working/wandb/run-20210511_091748-1cstkh1t/logs/debug.log</code>"
      ],
      "text/plain": [
       "<IPython.core.display.HTML object>"
      ]
     },
     "metadata": {},
     "output_type": "display_data"
    },
    {
     "data": {
      "text/html": [
       "Find internal logs for this run at: <code>/kaggle/working/wandb/run-20210511_091748-1cstkh1t/logs/debug-internal.log</code>"
      ],
      "text/plain": [
       "<IPython.core.display.HTML object>"
      ]
     },
     "metadata": {},
     "output_type": "display_data"
    },
    {
     "data": {
      "text/html": [
       "<h3>Run summary:</h3><br/><style>\n",
       "    table.wandb td:nth-child(1) { padding: 0 10px; text-align: right }\n",
       "    </style><table class=\"wandb\">\n",
       "<tr><td>epoch</td><td>14</td></tr><tr><td>loss</td><td>1.46105</td></tr><tr><td>mse</td><td>1.46105</td></tr><tr><td>val_loss</td><td>1.05648</td></tr><tr><td>val_mse</td><td>1.05648</td></tr><tr><td>_runtime</td><td>367</td></tr><tr><td>_timestamp</td><td>1620725035</td></tr><tr><td>_step</td><td>14</td></tr><tr><td>best_val_mse</td><td>1.05008</td></tr><tr><td>best_epoch</td><td>12</td></tr></table>"
      ],
      "text/plain": [
       "<IPython.core.display.HTML object>"
      ]
     },
     "metadata": {},
     "output_type": "display_data"
    },
    {
     "data": {
      "text/html": [
       "<h3>Run history:</h3><br/><style>\n",
       "    table.wandb td:nth-child(1) { padding: 0 10px; text-align: right }\n",
       "    </style><table class=\"wandb\">\n",
       "<tr><td>epoch</td><td>▁▁▂▃▃▃▄▅▅▅▆▇▇▇█</td></tr><tr><td>loss</td><td>█▄▃▂▂▁▂▁▁▁▁▂▁▁▁</td></tr><tr><td>mse</td><td>█▄▃▂▂▁▂▁▁▁▁▂▁▁▁</td></tr><tr><td>val_loss</td><td>▄▁▅▁▂▁█▁▁▁▂▁▁▁▁</td></tr><tr><td>val_mse</td><td>▄▁▅▁▂▁█▁▁▁▂▁▁▁▁</td></tr><tr><td>_runtime</td><td>▁▁▂▂▃▃▄▄▅▆▆▆▇██</td></tr><tr><td>_timestamp</td><td>▁▁▂▂▃▃▄▄▅▆▆▆▇██</td></tr><tr><td>_step</td><td>▁▁▂▃▃▃▄▅▅▅▆▇▇▇█</td></tr></table><br/>"
      ],
      "text/plain": [
       "<IPython.core.display.HTML object>"
      ]
     },
     "metadata": {},
     "output_type": "display_data"
    },
    {
     "data": {
      "text/html": [
       "Synced 5 W&B file(s), 1 media file(s), 0 artifact file(s) and 0 other file(s)"
      ],
      "text/plain": [
       "<IPython.core.display.HTML object>"
      ]
     },
     "metadata": {},
     "output_type": "display_data"
    },
    {
     "data": {
      "text/html": [
       "\n",
       "                    <br/>Synced <strong style=\"color:#cdcd00\">ruby-leaf-30</strong>: <a href=\"https://wandb.ai/sauravmaheshkar/commonlit/runs/1cstkh1t\" target=\"_blank\">https://wandb.ai/sauravmaheshkar/commonlit/runs/1cstkh1t</a><br/>\n",
       "                "
      ],
      "text/plain": [
       "<IPython.core.display.HTML object>"
      ]
     },
     "metadata": {},
     "output_type": "display_data"
    },
    {
     "name": "stdout",
     "output_type": "stream",
     "text": [
      "\n",
      "FOLD: 4\n"
     ]
    },
    {
     "data": {
      "text/html": [
       "\n",
       "                Tracking run with wandb version 0.10.30<br/>\n",
       "                Syncing run <strong style=\"color:#cdcd00\">elated-donkey-31</strong> to <a href=\"https://wandb.ai\" target=\"_blank\">Weights & Biases</a> <a href=\"https://docs.wandb.com/integrations/jupyter.html\" target=\"_blank\">(Documentation)</a>.<br/>\n",
       "                Project page: <a href=\"https://wandb.ai/sauravmaheshkar/commonlit\" target=\"_blank\">https://wandb.ai/sauravmaheshkar/commonlit</a><br/>\n",
       "                Run page: <a href=\"https://wandb.ai/sauravmaheshkar/commonlit/runs/140fsbed\" target=\"_blank\">https://wandb.ai/sauravmaheshkar/commonlit/runs/140fsbed</a><br/>\n",
       "                Run data is saved locally in <code>/kaggle/working/wandb/run-20210511_092405-140fsbed</code><br/><br/>\n",
       "            "
      ],
      "text/plain": [
       "<IPython.core.display.HTML object>"
      ]
     },
     "metadata": {},
     "output_type": "display_data"
    },
    {
     "name": "stdout",
     "output_type": "stream",
     "text": [
      "Epoch 1/15\n",
      "100/100 [==============================] - 32s 246ms/step - loss: 7.4074 - mse: 7.4074 - val_loss: 1.1080 - val_mse: 1.1080\n",
      "Epoch 2/15\n",
      "100/100 [==============================] - 23s 232ms/step - loss: 1.5743 - mse: 1.5743 - val_loss: 1.3274 - val_mse: 1.3274\n",
      "Epoch 3/15\n",
      "100/100 [==============================] - 23s 231ms/step - loss: 1.6899 - mse: 1.6899 - val_loss: 1.1467 - val_mse: 1.1467\n",
      "Epoch 4/15\n",
      "100/100 [==============================] - 23s 232ms/step - loss: 2.0837 - mse: 2.0837 - val_loss: 1.2669 - val_mse: 1.2669\n",
      "Epoch 5/15\n",
      "100/100 [==============================] - 23s 233ms/step - loss: 1.6921 - mse: 1.6921 - val_loss: 1.0836 - val_mse: 1.0836\n",
      "Epoch 6/15\n",
      "100/100 [==============================] - 23s 232ms/step - loss: 1.4863 - mse: 1.4863 - val_loss: 1.5202 - val_mse: 1.5202\n",
      "Epoch 7/15\n",
      "100/100 [==============================] - 23s 232ms/step - loss: 1.8344 - mse: 1.8344 - val_loss: 2.4153 - val_mse: 2.4153\n",
      "Epoch 8/15\n",
      "100/100 [==============================] - 23s 233ms/step - loss: 1.6920 - mse: 1.6920 - val_loss: 1.4658 - val_mse: 1.4658\n",
      "Epoch 9/15\n",
      "100/100 [==============================] - 23s 233ms/step - loss: 1.4597 - mse: 1.4597 - val_loss: 1.8584 - val_mse: 1.8584\n",
      "Epoch 10/15\n",
      "100/100 [==============================] - 23s 235ms/step - loss: 1.7306 - mse: 1.7306 - val_loss: 1.0881 - val_mse: 1.0881\n",
      "Epoch 11/15\n",
      "100/100 [==============================] - 23s 232ms/step - loss: 1.2669 - mse: 1.2669 - val_loss: 1.0843 - val_mse: 1.0843\n",
      "Epoch 12/15\n",
      "100/100 [==============================] - 23s 234ms/step - loss: 1.4168 - mse: 1.4168 - val_loss: 1.0898 - val_mse: 1.0898\n",
      "Epoch 13/15\n",
      "100/100 [==============================] - 23s 233ms/step - loss: 1.4668 - mse: 1.4668 - val_loss: 1.1316 - val_mse: 1.1316\n"
     ]
    },
    {
     "data": {
      "text/html": [
       "<br/>Waiting for W&B process to finish, PID 1028<br/>Program ended successfully."
      ],
      "text/plain": [
       "<IPython.core.display.HTML object>"
      ]
     },
     "metadata": {},
     "output_type": "display_data"
    },
    {
     "data": {
      "application/vnd.jupyter.widget-view+json": {
       "model_id": "ed8b61d15c424349b8acbef48cb7ca6d",
       "version_major": 2,
       "version_minor": 0
      },
      "text/plain": [
       "VBox(children=(Label(value=' 0.00MB of 0.00MB uploaded (0.00MB deduped)\\r'), FloatProgress(value=1.0, max=1.0)…"
      ]
     },
     "metadata": {},
     "output_type": "display_data"
    },
    {
     "data": {
      "text/html": [
       "Find user logs for this run at: <code>/kaggle/working/wandb/run-20210511_092405-140fsbed/logs/debug.log</code>"
      ],
      "text/plain": [
       "<IPython.core.display.HTML object>"
      ]
     },
     "metadata": {},
     "output_type": "display_data"
    },
    {
     "data": {
      "text/html": [
       "Find internal logs for this run at: <code>/kaggle/working/wandb/run-20210511_092405-140fsbed/logs/debug-internal.log</code>"
      ],
      "text/plain": [
       "<IPython.core.display.HTML object>"
      ]
     },
     "metadata": {},
     "output_type": "display_data"
    },
    {
     "data": {
      "text/html": [
       "<h3>Run summary:</h3><br/><style>\n",
       "    table.wandb td:nth-child(1) { padding: 0 10px; text-align: right }\n",
       "    </style><table class=\"wandb\">\n",
       "<tr><td>epoch</td><td>12</td></tr><tr><td>loss</td><td>1.46516</td></tr><tr><td>mse</td><td>1.46516</td></tr><tr><td>val_loss</td><td>1.1316</td></tr><tr><td>val_mse</td><td>1.1316</td></tr><tr><td>_runtime</td><td>320</td></tr><tr><td>_timestamp</td><td>1620725365</td></tr><tr><td>_step</td><td>12</td></tr><tr><td>best_val_mse</td><td>1.08361</td></tr><tr><td>best_epoch</td><td>4</td></tr></table>"
      ],
      "text/plain": [
       "<IPython.core.display.HTML object>"
      ]
     },
     "metadata": {},
     "output_type": "display_data"
    },
    {
     "data": {
      "text/html": [
       "<h3>Run history:</h3><br/><style>\n",
       "    table.wandb td:nth-child(1) { padding: 0 10px; text-align: right }\n",
       "    </style><table class=\"wandb\">\n",
       "<tr><td>epoch</td><td>▁▂▂▃▃▄▅▅▆▆▇▇█</td></tr><tr><td>loss</td><td>█▂▂▃▂▂▂▂▂▂▁▂▂</td></tr><tr><td>mse</td><td>█▂▂▃▂▂▂▂▂▂▁▂▂</td></tr><tr><td>val_loss</td><td>▁▂▁▂▁▃█▃▅▁▁▁▁</td></tr><tr><td>val_mse</td><td>▁▂▁▂▁▃█▃▅▁▁▁▁</td></tr><tr><td>_runtime</td><td>▁▂▂▃▃▄▄▅▆▆▇▇█</td></tr><tr><td>_timestamp</td><td>▁▂▂▃▃▄▄▅▆▆▇▇█</td></tr><tr><td>_step</td><td>▁▂▂▃▃▄▅▅▆▆▇▇█</td></tr></table><br/>"
      ],
      "text/plain": [
       "<IPython.core.display.HTML object>"
      ]
     },
     "metadata": {},
     "output_type": "display_data"
    },
    {
     "data": {
      "text/html": [
       "Synced 5 W&B file(s), 1 media file(s), 0 artifact file(s) and 0 other file(s)"
      ],
      "text/plain": [
       "<IPython.core.display.HTML object>"
      ]
     },
     "metadata": {},
     "output_type": "display_data"
    },
    {
     "data": {
      "text/html": [
       "\n",
       "                    <br/>Synced <strong style=\"color:#cdcd00\">elated-donkey-31</strong>: <a href=\"https://wandb.ai/sauravmaheshkar/commonlit/runs/140fsbed\" target=\"_blank\">https://wandb.ai/sauravmaheshkar/commonlit/runs/140fsbed</a><br/>\n",
       "                "
      ],
      "text/plain": [
       "<IPython.core.display.HTML object>"
      ]
     },
     "metadata": {},
     "output_type": "display_data"
    },
    {
     "name": "stdout",
     "output_type": "stream",
     "text": [
      "\n",
      "FOLD: 5\n"
     ]
    },
    {
     "data": {
      "text/html": [
       "\n",
       "                Tracking run with wandb version 0.10.30<br/>\n",
       "                Syncing run <strong style=\"color:#cdcd00\">grateful-frog-32</strong> to <a href=\"https://wandb.ai\" target=\"_blank\">Weights & Biases</a> <a href=\"https://docs.wandb.com/integrations/jupyter.html\" target=\"_blank\">(Documentation)</a>.<br/>\n",
       "                Project page: <a href=\"https://wandb.ai/sauravmaheshkar/commonlit\" target=\"_blank\">https://wandb.ai/sauravmaheshkar/commonlit</a><br/>\n",
       "                Run page: <a href=\"https://wandb.ai/sauravmaheshkar/commonlit/runs/2gjq4i2b\" target=\"_blank\">https://wandb.ai/sauravmaheshkar/commonlit/runs/2gjq4i2b</a><br/>\n",
       "                Run data is saved locally in <code>/kaggle/working/wandb/run-20210511_092934-2gjq4i2b</code><br/><br/>\n",
       "            "
      ],
      "text/plain": [
       "<IPython.core.display.HTML object>"
      ]
     },
     "metadata": {},
     "output_type": "display_data"
    },
    {
     "name": "stdout",
     "output_type": "stream",
     "text": [
      "Epoch 1/15\n",
      "100/100 [==============================] - 33s 253ms/step - loss: 12.2736 - mse: 12.2736 - val_loss: 1.2276 - val_mse: 1.2276\n",
      "Epoch 2/15\n",
      "100/100 [==============================] - 23s 234ms/step - loss: 1.4733 - mse: 1.4733 - val_loss: 1.2707 - val_mse: 1.2707\n",
      "Epoch 3/15\n",
      "100/100 [==============================] - 23s 234ms/step - loss: 1.4297 - mse: 1.4297 - val_loss: 2.2829 - val_mse: 2.2829\n",
      "Epoch 4/15\n",
      "100/100 [==============================] - 23s 232ms/step - loss: 1.6462 - mse: 1.6462 - val_loss: 1.6083 - val_mse: 1.6083\n",
      "Epoch 5/15\n",
      "100/100 [==============================] - 23s 233ms/step - loss: 1.7034 - mse: 1.7034 - val_loss: 1.7289 - val_mse: 1.7289\n",
      "Epoch 6/15\n",
      "100/100 [==============================] - 23s 232ms/step - loss: 1.4607 - mse: 1.4607 - val_loss: 1.2139 - val_mse: 1.2139\n",
      "Epoch 7/15\n",
      "100/100 [==============================] - 23s 231ms/step - loss: 1.8960 - mse: 1.8960 - val_loss: 1.0724 - val_mse: 1.0724\n",
      "Epoch 8/15\n",
      "100/100 [==============================] - 23s 232ms/step - loss: 1.4254 - mse: 1.4254 - val_loss: 1.1100 - val_mse: 1.1100\n",
      "Epoch 9/15\n",
      "100/100 [==============================] - 23s 234ms/step - loss: 1.2805 - mse: 1.2805 - val_loss: 1.3056 - val_mse: 1.3056\n",
      "Epoch 10/15\n",
      "100/100 [==============================] - 23s 233ms/step - loss: 1.8418 - mse: 1.8418 - val_loss: 1.0440 - val_mse: 1.0440\n",
      "Epoch 11/15\n",
      "100/100 [==============================] - 23s 235ms/step - loss: 1.4009 - mse: 1.4009 - val_loss: 1.0584 - val_mse: 1.0584\n",
      "Epoch 12/15\n",
      "100/100 [==============================] - 23s 234ms/step - loss: 1.3866 - mse: 1.3866 - val_loss: 1.1505 - val_mse: 1.1505\n",
      "Epoch 13/15\n",
      "100/100 [==============================] - 23s 233ms/step - loss: 1.6693 - mse: 1.6693 - val_loss: 1.0111 - val_mse: 1.0111\n",
      "Epoch 14/15\n",
      "100/100 [==============================] - 23s 234ms/step - loss: 1.3564 - mse: 1.3564 - val_loss: 1.0816 - val_mse: 1.0816\n",
      "Epoch 15/15\n",
      "100/100 [==============================] - 23s 234ms/step - loss: 1.3398 - mse: 1.3398 - val_loss: 1.0107 - val_mse: 1.0107\n"
     ]
    },
    {
     "data": {
      "text/html": [
       "<br/>Waiting for W&B process to finish, PID 1295<br/>Program ended successfully."
      ],
      "text/plain": [
       "<IPython.core.display.HTML object>"
      ]
     },
     "metadata": {},
     "output_type": "display_data"
    },
    {
     "data": {
      "application/vnd.jupyter.widget-view+json": {
       "model_id": "d9da3d08a33049a8b38405e7eee73a45",
       "version_major": 2,
       "version_minor": 0
      },
      "text/plain": [
       "VBox(children=(Label(value=' 0.00MB of 0.00MB uploaded (0.00MB deduped)\\r'), FloatProgress(value=1.0, max=1.0)…"
      ]
     },
     "metadata": {},
     "output_type": "display_data"
    },
    {
     "data": {
      "text/html": [
       "Find user logs for this run at: <code>/kaggle/working/wandb/run-20210511_092934-2gjq4i2b/logs/debug.log</code>"
      ],
      "text/plain": [
       "<IPython.core.display.HTML object>"
      ]
     },
     "metadata": {},
     "output_type": "display_data"
    },
    {
     "data": {
      "text/html": [
       "Find internal logs for this run at: <code>/kaggle/working/wandb/run-20210511_092934-2gjq4i2b/logs/debug-internal.log</code>"
      ],
      "text/plain": [
       "<IPython.core.display.HTML object>"
      ]
     },
     "metadata": {},
     "output_type": "display_data"
    },
    {
     "data": {
      "text/html": [
       "<h3>Run summary:</h3><br/><style>\n",
       "    table.wandb td:nth-child(1) { padding: 0 10px; text-align: right }\n",
       "    </style><table class=\"wandb\">\n",
       "<tr><td>epoch</td><td>14</td></tr><tr><td>loss</td><td>1.38011</td></tr><tr><td>mse</td><td>1.38011</td></tr><tr><td>val_loss</td><td>1.01074</td></tr><tr><td>val_mse</td><td>1.01074</td></tr><tr><td>_runtime</td><td>370</td></tr><tr><td>_timestamp</td><td>1620725744</td></tr><tr><td>_step</td><td>14</td></tr><tr><td>best_val_mse</td><td>1.01074</td></tr><tr><td>best_epoch</td><td>14</td></tr></table>"
      ],
      "text/plain": [
       "<IPython.core.display.HTML object>"
      ]
     },
     "metadata": {},
     "output_type": "display_data"
    },
    {
     "data": {
      "text/html": [
       "<h3>Run history:</h3><br/><style>\n",
       "    table.wandb td:nth-child(1) { padding: 0 10px; text-align: right }\n",
       "    </style><table class=\"wandb\">\n",
       "<tr><td>epoch</td><td>▁▁▂▃▃▃▄▅▅▅▆▇▇▇█</td></tr><tr><td>loss</td><td>█▁▁▂▁▂▂▁▁▂▁▁▁▁▁</td></tr><tr><td>mse</td><td>█▁▁▂▁▂▂▁▁▂▁▁▁▁▁</td></tr><tr><td>val_loss</td><td>▂▂█▄▅▂▁▂▃▁▁▂▁▁▁</td></tr><tr><td>val_mse</td><td>▂▂█▄▅▂▁▂▃▁▁▂▁▁▁</td></tr><tr><td>_runtime</td><td>▁▂▂▂▃▃▄▄▅▅▆▆▇▇█</td></tr><tr><td>_timestamp</td><td>▁▂▂▂▃▃▄▄▅▅▆▆▇▇█</td></tr><tr><td>_step</td><td>▁▁▂▃▃▃▄▅▅▅▆▇▇▇█</td></tr></table><br/>"
      ],
      "text/plain": [
       "<IPython.core.display.HTML object>"
      ]
     },
     "metadata": {},
     "output_type": "display_data"
    },
    {
     "data": {
      "text/html": [
       "Synced 5 W&B file(s), 1 media file(s), 0 artifact file(s) and 0 other file(s)"
      ],
      "text/plain": [
       "<IPython.core.display.HTML object>"
      ]
     },
     "metadata": {},
     "output_type": "display_data"
    },
    {
     "data": {
      "text/html": [
       "\n",
       "                    <br/>Synced <strong style=\"color:#cdcd00\">grateful-frog-32</strong>: <a href=\"https://wandb.ai/sauravmaheshkar/commonlit/runs/2gjq4i2b\" target=\"_blank\">https://wandb.ai/sauravmaheshkar/commonlit/runs/2gjq4i2b</a><br/>\n",
       "                "
      ],
      "text/plain": [
       "<IPython.core.display.HTML object>"
      ]
     },
     "metadata": {},
     "output_type": "display_data"
    }
   ],
   "source": [
    "tokenizer = AutoTokenizer.from_pretrained(BASE_MODEL)\n",
    "\n",
    "skf = KFold(n_splits=N_FOLDS, shuffle=True, random_state=seed)\n",
    "\n",
    "history_list = []\n",
    "test_pred = []\n",
    "\n",
    "for fold,(idxT, idxV) in enumerate(skf.split(train)):\n",
    "        \n",
    "    # Log information\n",
    "    print(f'\\nFOLD: {fold+1}')\n",
    "\n",
    "    # Create Model\n",
    "    tf.keras.backend.clear_session()\n",
    "    with strategy.scope():\n",
    "        encoder = TFAutoModelForSequenceClassification.from_pretrained(BASE_MODEL, num_labels=1)\n",
    "        model = get_model(encoder, SEQ_LEN)\n",
    "\n",
    "    # Callbacks\n",
    "    early_stopping_cb = tf.keras.callbacks.EarlyStopping(\n",
    "        patience=8, restore_best_weights=True)\n",
    "    \n",
    "    # Create a W&B run\n",
    "    run = wandb.init(project='commonlit', entity='sauravmaheshkar', reinit=True, sync_tensorboard=True)\n",
    "\n",
    "    # Train\n",
    "    history = model.fit(x=get_dataset(train.loc[idxT], tokenizer, repeated=True, is_sampled=True, \n",
    "                                      batch_size=BATCH_SIZE, seq_len=SEQ_LEN), \n",
    "                        validation_data=get_dataset(train.loc[idxV], tokenizer, ordered=True, \n",
    "                                                    batch_size=BATCH_SIZE, seq_len=SEQ_LEN), \n",
    "                        steps_per_epoch=100, \n",
    "                        callbacks=[early_stopping_cb,WandbCallback(monitor='val_mse', mode='min', \n",
    "                                 save_model=False)], \n",
    "                        epochs=EPOCHS,  \n",
    "                        verbose=1).history\n",
    "    \n",
    "    run.finish()\n",
    "      \n",
    "    history_list.append(history)\n",
    "    \n",
    "    # Test predictions\n",
    "    test_ds = get_dataset(test, tokenizer, labeled=False, ordered=True, batch_size=BATCH_SIZE, seq_len=SEQ_LEN)\n",
    "    x_test = test_ds.map(lambda sample: sample)\n",
    "    test_pred.append(model.predict(x_test)['logits'])"
   ]
  },
  {
   "cell_type": "markdown",
   "id": "computational-granny",
   "metadata": {
    "papermill": {
     "duration": 2.002948,
     "end_time": "2021-05-11T09:35:52.380058",
     "exception": false,
     "start_time": "2021-05-11T09:35:50.377110",
     "status": "completed"
    },
    "tags": []
   },
   "source": [
    "# Submission"
   ]
  },
  {
   "cell_type": "code",
   "execution_count": 12,
   "id": "western-pendant",
   "metadata": {
    "execution": {
     "iopub.execute_input": "2021-05-11T09:35:56.291761Z",
     "iopub.status.busy": "2021-05-11T09:35:56.291097Z",
     "iopub.status.idle": "2021-05-11T09:35:56.428196Z",
     "shell.execute_reply": "2021-05-11T09:35:56.428599Z"
    },
    "papermill": {
     "duration": 2.071829,
     "end_time": "2021-05-11T09:35:56.428756",
     "exception": false,
     "start_time": "2021-05-11T09:35:54.356927",
     "status": "completed"
    },
    "tags": []
   },
   "outputs": [
    {
     "data": {
      "text/html": [
       "<div>\n",
       "<style scoped>\n",
       "    .dataframe tbody tr th:only-of-type {\n",
       "        vertical-align: middle;\n",
       "    }\n",
       "\n",
       "    .dataframe tbody tr th {\n",
       "        vertical-align: top;\n",
       "    }\n",
       "\n",
       "    .dataframe thead th {\n",
       "        text-align: right;\n",
       "    }\n",
       "</style>\n",
       "<table border=\"1\" class=\"dataframe\">\n",
       "  <thead>\n",
       "    <tr style=\"text-align: right;\">\n",
       "      <th></th>\n",
       "      <th>id</th>\n",
       "      <th>target</th>\n",
       "    </tr>\n",
       "  </thead>\n",
       "  <tbody>\n",
       "    <tr>\n",
       "      <th>0</th>\n",
       "      <td>c0f722661</td>\n",
       "      <td>-0.958566</td>\n",
       "    </tr>\n",
       "    <tr>\n",
       "      <th>1</th>\n",
       "      <td>f0953f0a5</td>\n",
       "      <td>-0.958566</td>\n",
       "    </tr>\n",
       "    <tr>\n",
       "      <th>2</th>\n",
       "      <td>0df072751</td>\n",
       "      <td>-0.958566</td>\n",
       "    </tr>\n",
       "    <tr>\n",
       "      <th>3</th>\n",
       "      <td>04caf4e0c</td>\n",
       "      <td>-0.958566</td>\n",
       "    </tr>\n",
       "    <tr>\n",
       "      <th>4</th>\n",
       "      <td>0e63f8bea</td>\n",
       "      <td>-0.958566</td>\n",
       "    </tr>\n",
       "    <tr>\n",
       "      <th>5</th>\n",
       "      <td>12537fe78</td>\n",
       "      <td>-0.958566</td>\n",
       "    </tr>\n",
       "    <tr>\n",
       "      <th>6</th>\n",
       "      <td>965e592c0</td>\n",
       "      <td>-0.958566</td>\n",
       "    </tr>\n",
       "  </tbody>\n",
       "</table>\n",
       "</div>"
      ],
      "text/plain": [
       "          id    target\n",
       "0  c0f722661 -0.958566\n",
       "1  f0953f0a5 -0.958566\n",
       "2  0df072751 -0.958566\n",
       "3  04caf4e0c -0.958566\n",
       "4  0e63f8bea -0.958566\n",
       "5  12537fe78 -0.958566\n",
       "6  965e592c0 -0.958566"
      ]
     },
     "metadata": {},
     "output_type": "display_data"
    }
   ],
   "source": [
    "submission = test[['id']]\n",
    "submission['target'] = np.mean(test_pred, axis=0)\n",
    "submission.to_csv('submission.csv', index=False)\n",
    "display(submission.head(10))"
   ]
  }
 ],
 "metadata": {
  "kernelspec": {
   "display_name": "Python 3",
   "language": "python",
   "name": "python3"
  },
  "language_info": {
   "codemirror_mode": {
    "name": "ipython",
    "version": 3
   },
   "file_extension": ".py",
   "mimetype": "text/x-python",
   "name": "python",
   "nbconvert_exporter": "python",
   "pygments_lexer": "ipython3",
   "version": "3.7.10"
  },
  "papermill": {
   "default_parameters": {},
   "duration": 1881.054489,
   "end_time": "2021-05-11T09:36:02.487146",
   "environment_variables": {},
   "exception": null,
   "input_path": "__notebook__.ipynb",
   "output_path": "__notebook__.ipynb",
   "parameters": {},
   "start_time": "2021-05-11T09:04:41.432657",
   "version": "2.3.3"
  },
  "widgets": {
   "application/vnd.jupyter.widget-state+json": {
    "state": {
     "082d7eb02d9b47eb85bb43d006257f12": {
      "model_module": "@jupyter-widgets/base",
      "model_module_version": "1.2.0",
      "model_name": "LayoutModel",
      "state": {
       "_model_module": "@jupyter-widgets/base",
       "_model_module_version": "1.2.0",
       "_model_name": "LayoutModel",
       "_view_count": null,
       "_view_module": "@jupyter-widgets/base",
       "_view_module_version": "1.2.0",
       "_view_name": "LayoutView",
       "align_content": null,
       "align_items": null,
       "align_self": null,
       "border": null,
       "bottom": null,
       "display": null,
       "flex": null,
       "flex_flow": null,
       "grid_area": null,
       "grid_auto_columns": null,
       "grid_auto_flow": null,
       "grid_auto_rows": null,
       "grid_column": null,
       "grid_gap": null,
       "grid_row": null,
       "grid_template_areas": null,
       "grid_template_columns": null,
       "grid_template_rows": null,
       "height": null,
       "justify_content": null,
       "justify_items": null,
       "left": null,
       "margin": null,
       "max_height": null,
       "max_width": null,
       "min_height": null,
       "min_width": null,
       "object_fit": null,
       "object_position": null,
       "order": null,
       "overflow": null,
       "overflow_x": null,
       "overflow_y": null,
       "padding": null,
       "right": null,
       "top": null,
       "visibility": null,
       "width": null
      }
     },
     "0d5b542fed0a4b4f91a932f0c643c7eb": {
      "model_module": "@jupyter-widgets/controls",
      "model_module_version": "1.5.0",
      "model_name": "FloatProgressModel",
      "state": {
       "_dom_classes": [],
       "_model_module": "@jupyter-widgets/controls",
       "_model_module_version": "1.5.0",
       "_model_name": "FloatProgressModel",
       "_view_count": null,
       "_view_module": "@jupyter-widgets/controls",
       "_view_module_version": "1.5.0",
       "_view_name": "ProgressView",
       "bar_style": "",
       "description": "",
       "description_tooltip": null,
       "layout": "IPY_MODEL_734c70d403fb4c91a7263f9c67dbdcb6",
       "max": 1.0,
       "min": 0.0,
       "orientation": "horizontal",
       "style": "IPY_MODEL_d30dc3f437be4ad6b34cb624cf1f38e9",
       "value": 1.0
      }
     },
     "0e5837dd818f45248dc069ac8cb26cb4": {
      "model_module": "@jupyter-widgets/controls",
      "model_module_version": "1.5.0",
      "model_name": "DescriptionStyleModel",
      "state": {
       "_model_module": "@jupyter-widgets/controls",
       "_model_module_version": "1.5.0",
       "_model_name": "DescriptionStyleModel",
       "_view_count": null,
       "_view_module": "@jupyter-widgets/base",
       "_view_module_version": "1.2.0",
       "_view_name": "StyleView",
       "description_width": ""
      }
     },
     "15b28f19a55c4924b3da6eaeedea0384": {
      "model_module": "@jupyter-widgets/base",
      "model_module_version": "1.2.0",
      "model_name": "LayoutModel",
      "state": {
       "_model_module": "@jupyter-widgets/base",
       "_model_module_version": "1.2.0",
       "_model_name": "LayoutModel",
       "_view_count": null,
       "_view_module": "@jupyter-widgets/base",
       "_view_module_version": "1.2.0",
       "_view_name": "LayoutView",
       "align_content": null,
       "align_items": null,
       "align_self": null,
       "border": null,
       "bottom": null,
       "display": null,
       "flex": null,
       "flex_flow": null,
       "grid_area": null,
       "grid_auto_columns": null,
       "grid_auto_flow": null,
       "grid_auto_rows": null,
       "grid_column": null,
       "grid_gap": null,
       "grid_row": null,
       "grid_template_areas": null,
       "grid_template_columns": null,
       "grid_template_rows": null,
       "height": null,
       "justify_content": null,
       "justify_items": null,
       "left": null,
       "margin": null,
       "max_height": null,
       "max_width": null,
       "min_height": null,
       "min_width": null,
       "object_fit": null,
       "object_position": null,
       "order": null,
       "overflow": null,
       "overflow_x": null,
       "overflow_y": null,
       "padding": null,
       "right": null,
       "top": null,
       "visibility": null,
       "width": null
      }
     },
     "168a0fb55e40450388d96639cb503f26": {
      "model_module": "@jupyter-widgets/base",
      "model_module_version": "1.2.0",
      "model_name": "LayoutModel",
      "state": {
       "_model_module": "@jupyter-widgets/base",
       "_model_module_version": "1.2.0",
       "_model_name": "LayoutModel",
       "_view_count": null,
       "_view_module": "@jupyter-widgets/base",
       "_view_module_version": "1.2.0",
       "_view_name": "LayoutView",
       "align_content": null,
       "align_items": null,
       "align_self": null,
       "border": null,
       "bottom": null,
       "display": null,
       "flex": null,
       "flex_flow": null,
       "grid_area": null,
       "grid_auto_columns": null,
       "grid_auto_flow": null,
       "grid_auto_rows": null,
       "grid_column": null,
       "grid_gap": null,
       "grid_row": null,
       "grid_template_areas": null,
       "grid_template_columns": null,
       "grid_template_rows": null,
       "height": null,
       "justify_content": null,
       "justify_items": null,
       "left": null,
       "margin": null,
       "max_height": null,
       "max_width": null,
       "min_height": null,
       "min_width": null,
       "object_fit": null,
       "object_position": null,
       "order": null,
       "overflow": null,
       "overflow_x": null,
       "overflow_y": null,
       "padding": null,
       "right": null,
       "top": null,
       "visibility": null,
       "width": null
      }
     },
     "244e8ff1d90d4e0594e53adee459b7e7": {
      "model_module": "@jupyter-widgets/controls",
      "model_module_version": "1.5.0",
      "model_name": "LabelModel",
      "state": {
       "_dom_classes": [],
       "_model_module": "@jupyter-widgets/controls",
       "_model_module_version": "1.5.0",
       "_model_name": "LabelModel",
       "_view_count": null,
       "_view_module": "@jupyter-widgets/controls",
       "_view_module_version": "1.5.0",
       "_view_name": "LabelView",
       "description": "",
       "description_tooltip": null,
       "layout": "IPY_MODEL_d7d6bccd63ec4900bceeae0c1244a692",
       "placeholder": "​",
       "style": "IPY_MODEL_6fc22e12571d42318eb64a16027db7ce",
       "value": " 0.01MB of 0.01MB uploaded (0.00MB deduped)\r"
      }
     },
     "285c4dadeaf546aa81664d1835bffc53": {
      "model_module": "@jupyter-widgets/controls",
      "model_module_version": "1.5.0",
      "model_name": "DescriptionStyleModel",
      "state": {
       "_model_module": "@jupyter-widgets/controls",
       "_model_module_version": "1.5.0",
       "_model_name": "DescriptionStyleModel",
       "_view_count": null,
       "_view_module": "@jupyter-widgets/base",
       "_view_module_version": "1.2.0",
       "_view_name": "StyleView",
       "description_width": ""
      }
     },
     "2c9fc9f1162b46e39604ba454b2ac76b": {
      "model_module": "@jupyter-widgets/controls",
      "model_module_version": "1.5.0",
      "model_name": "FloatProgressModel",
      "state": {
       "_dom_classes": [],
       "_model_module": "@jupyter-widgets/controls",
       "_model_module_version": "1.5.0",
       "_model_name": "FloatProgressModel",
       "_view_count": null,
       "_view_module": "@jupyter-widgets/controls",
       "_view_module_version": "1.5.0",
       "_view_name": "ProgressView",
       "bar_style": "",
       "description": "",
       "description_tooltip": null,
       "layout": "IPY_MODEL_082d7eb02d9b47eb85bb43d006257f12",
       "max": 1.0,
       "min": 0.0,
       "orientation": "horizontal",
       "style": "IPY_MODEL_d0a13159e499462cb7f8c621ba35d4dc",
       "value": 1.0
      }
     },
     "2fe5532ce0f64ebab5ae005d24443f04": {
      "model_module": "@jupyter-widgets/controls",
      "model_module_version": "1.5.0",
      "model_name": "FloatProgressModel",
      "state": {
       "_dom_classes": [],
       "_model_module": "@jupyter-widgets/controls",
       "_model_module_version": "1.5.0",
       "_model_name": "FloatProgressModel",
       "_view_count": null,
       "_view_module": "@jupyter-widgets/controls",
       "_view_module_version": "1.5.0",
       "_view_name": "ProgressView",
       "bar_style": "",
       "description": "",
       "description_tooltip": null,
       "layout": "IPY_MODEL_45e1eb531e744bf6a66655dd18db2142",
       "max": 1.0,
       "min": 0.0,
       "orientation": "horizontal",
       "style": "IPY_MODEL_8b29f84aadff474a9c971089ddda5fef",
       "value": 1.0
      }
     },
     "45e1eb531e744bf6a66655dd18db2142": {
      "model_module": "@jupyter-widgets/base",
      "model_module_version": "1.2.0",
      "model_name": "LayoutModel",
      "state": {
       "_model_module": "@jupyter-widgets/base",
       "_model_module_version": "1.2.0",
       "_model_name": "LayoutModel",
       "_view_count": null,
       "_view_module": "@jupyter-widgets/base",
       "_view_module_version": "1.2.0",
       "_view_name": "LayoutView",
       "align_content": null,
       "align_items": null,
       "align_self": null,
       "border": null,
       "bottom": null,
       "display": null,
       "flex": null,
       "flex_flow": null,
       "grid_area": null,
       "grid_auto_columns": null,
       "grid_auto_flow": null,
       "grid_auto_rows": null,
       "grid_column": null,
       "grid_gap": null,
       "grid_row": null,
       "grid_template_areas": null,
       "grid_template_columns": null,
       "grid_template_rows": null,
       "height": null,
       "justify_content": null,
       "justify_items": null,
       "left": null,
       "margin": null,
       "max_height": null,
       "max_width": null,
       "min_height": null,
       "min_width": null,
       "object_fit": null,
       "object_position": null,
       "order": null,
       "overflow": null,
       "overflow_x": null,
       "overflow_y": null,
       "padding": null,
       "right": null,
       "top": null,
       "visibility": null,
       "width": null
      }
     },
     "5010b7913d904cab98a3ed14039ce553": {
      "model_module": "@jupyter-widgets/base",
      "model_module_version": "1.2.0",
      "model_name": "LayoutModel",
      "state": {
       "_model_module": "@jupyter-widgets/base",
       "_model_module_version": "1.2.0",
       "_model_name": "LayoutModel",
       "_view_count": null,
       "_view_module": "@jupyter-widgets/base",
       "_view_module_version": "1.2.0",
       "_view_name": "LayoutView",
       "align_content": null,
       "align_items": null,
       "align_self": null,
       "border": null,
       "bottom": null,
       "display": null,
       "flex": null,
       "flex_flow": null,
       "grid_area": null,
       "grid_auto_columns": null,
       "grid_auto_flow": null,
       "grid_auto_rows": null,
       "grid_column": null,
       "grid_gap": null,
       "grid_row": null,
       "grid_template_areas": null,
       "grid_template_columns": null,
       "grid_template_rows": null,
       "height": null,
       "justify_content": null,
       "justify_items": null,
       "left": null,
       "margin": null,
       "max_height": null,
       "max_width": null,
       "min_height": null,
       "min_width": null,
       "object_fit": null,
       "object_position": null,
       "order": null,
       "overflow": null,
       "overflow_x": null,
       "overflow_y": null,
       "padding": null,
       "right": null,
       "top": null,
       "visibility": null,
       "width": null
      }
     },
     "506b1e109bb14321b531895350f27699": {
      "model_module": "@jupyter-widgets/base",
      "model_module_version": "1.2.0",
      "model_name": "LayoutModel",
      "state": {
       "_model_module": "@jupyter-widgets/base",
       "_model_module_version": "1.2.0",
       "_model_name": "LayoutModel",
       "_view_count": null,
       "_view_module": "@jupyter-widgets/base",
       "_view_module_version": "1.2.0",
       "_view_name": "LayoutView",
       "align_content": null,
       "align_items": null,
       "align_self": null,
       "border": null,
       "bottom": null,
       "display": null,
       "flex": null,
       "flex_flow": null,
       "grid_area": null,
       "grid_auto_columns": null,
       "grid_auto_flow": null,
       "grid_auto_rows": null,
       "grid_column": null,
       "grid_gap": null,
       "grid_row": null,
       "grid_template_areas": null,
       "grid_template_columns": null,
       "grid_template_rows": null,
       "height": null,
       "justify_content": null,
       "justify_items": null,
       "left": null,
       "margin": null,
       "max_height": null,
       "max_width": null,
       "min_height": null,
       "min_width": null,
       "object_fit": null,
       "object_position": null,
       "order": null,
       "overflow": null,
       "overflow_x": null,
       "overflow_y": null,
       "padding": null,
       "right": null,
       "top": null,
       "visibility": null,
       "width": null
      }
     },
     "51abfe0b12724d61a1594815a778eda4": {
      "model_module": "@jupyter-widgets/base",
      "model_module_version": "1.2.0",
      "model_name": "LayoutModel",
      "state": {
       "_model_module": "@jupyter-widgets/base",
       "_model_module_version": "1.2.0",
       "_model_name": "LayoutModel",
       "_view_count": null,
       "_view_module": "@jupyter-widgets/base",
       "_view_module_version": "1.2.0",
       "_view_name": "LayoutView",
       "align_content": null,
       "align_items": null,
       "align_self": null,
       "border": null,
       "bottom": null,
       "display": null,
       "flex": null,
       "flex_flow": null,
       "grid_area": null,
       "grid_auto_columns": null,
       "grid_auto_flow": null,
       "grid_auto_rows": null,
       "grid_column": null,
       "grid_gap": null,
       "grid_row": null,
       "grid_template_areas": null,
       "grid_template_columns": null,
       "grid_template_rows": null,
       "height": null,
       "justify_content": null,
       "justify_items": null,
       "left": null,
       "margin": null,
       "max_height": null,
       "max_width": null,
       "min_height": null,
       "min_width": null,
       "object_fit": null,
       "object_position": null,
       "order": null,
       "overflow": null,
       "overflow_x": null,
       "overflow_y": null,
       "padding": null,
       "right": null,
       "top": null,
       "visibility": null,
       "width": null
      }
     },
     "5a47ab80430247caaf992e205a517dd0": {
      "model_module": "@jupyter-widgets/controls",
      "model_module_version": "1.5.0",
      "model_name": "LabelModel",
      "state": {
       "_dom_classes": [],
       "_model_module": "@jupyter-widgets/controls",
       "_model_module_version": "1.5.0",
       "_model_name": "LabelModel",
       "_view_count": null,
       "_view_module": "@jupyter-widgets/controls",
       "_view_module_version": "1.5.0",
       "_view_name": "LabelView",
       "description": "",
       "description_tooltip": null,
       "layout": "IPY_MODEL_7d9d80566cb144f1ad457aabfbe7a814",
       "placeholder": "​",
       "style": "IPY_MODEL_0e5837dd818f45248dc069ac8cb26cb4",
       "value": " 0.01MB of 0.01MB uploaded (0.00MB deduped)\r"
      }
     },
     "5be98cf438b147f198a218258bf619fa": {
      "model_module": "@jupyter-widgets/controls",
      "model_module_version": "1.5.0",
      "model_name": "DescriptionStyleModel",
      "state": {
       "_model_module": "@jupyter-widgets/controls",
       "_model_module_version": "1.5.0",
       "_model_name": "DescriptionStyleModel",
       "_view_count": null,
       "_view_module": "@jupyter-widgets/base",
       "_view_module_version": "1.2.0",
       "_view_name": "StyleView",
       "description_width": ""
      }
     },
     "6d4b95163b0e4d10bb1cf9f9151427e8": {
      "model_module": "@jupyter-widgets/controls",
      "model_module_version": "1.5.0",
      "model_name": "LabelModel",
      "state": {
       "_dom_classes": [],
       "_model_module": "@jupyter-widgets/controls",
       "_model_module_version": "1.5.0",
       "_model_name": "LabelModel",
       "_view_count": null,
       "_view_module": "@jupyter-widgets/controls",
       "_view_module_version": "1.5.0",
       "_view_name": "LabelView",
       "description": "",
       "description_tooltip": null,
       "layout": "IPY_MODEL_c47b92aaa992437588b3c899a4931bbc",
       "placeholder": "​",
       "style": "IPY_MODEL_b79775d3a74343a0a8b335099e8a649c",
       "value": " 0.01MB of 0.01MB uploaded (0.00MB deduped)\r"
      }
     },
     "6fc22e12571d42318eb64a16027db7ce": {
      "model_module": "@jupyter-widgets/controls",
      "model_module_version": "1.5.0",
      "model_name": "DescriptionStyleModel",
      "state": {
       "_model_module": "@jupyter-widgets/controls",
       "_model_module_version": "1.5.0",
       "_model_name": "DescriptionStyleModel",
       "_view_count": null,
       "_view_module": "@jupyter-widgets/base",
       "_view_module_version": "1.2.0",
       "_view_name": "StyleView",
       "description_width": ""
      }
     },
     "723da764418149089c5885b47cbfe9be": {
      "model_module": "@jupyter-widgets/controls",
      "model_module_version": "1.5.0",
      "model_name": "FloatProgressModel",
      "state": {
       "_dom_classes": [],
       "_model_module": "@jupyter-widgets/controls",
       "_model_module_version": "1.5.0",
       "_model_name": "FloatProgressModel",
       "_view_count": null,
       "_view_module": "@jupyter-widgets/controls",
       "_view_module_version": "1.5.0",
       "_view_name": "ProgressView",
       "bar_style": "",
       "description": "",
       "description_tooltip": null,
       "layout": "IPY_MODEL_5010b7913d904cab98a3ed14039ce553",
       "max": 1.0,
       "min": 0.0,
       "orientation": "horizontal",
       "style": "IPY_MODEL_f4872e52cf5049d3aa4d62e7b49f4937",
       "value": 1.0
      }
     },
     "734c70d403fb4c91a7263f9c67dbdcb6": {
      "model_module": "@jupyter-widgets/base",
      "model_module_version": "1.2.0",
      "model_name": "LayoutModel",
      "state": {
       "_model_module": "@jupyter-widgets/base",
       "_model_module_version": "1.2.0",
       "_model_name": "LayoutModel",
       "_view_count": null,
       "_view_module": "@jupyter-widgets/base",
       "_view_module_version": "1.2.0",
       "_view_name": "LayoutView",
       "align_content": null,
       "align_items": null,
       "align_self": null,
       "border": null,
       "bottom": null,
       "display": null,
       "flex": null,
       "flex_flow": null,
       "grid_area": null,
       "grid_auto_columns": null,
       "grid_auto_flow": null,
       "grid_auto_rows": null,
       "grid_column": null,
       "grid_gap": null,
       "grid_row": null,
       "grid_template_areas": null,
       "grid_template_columns": null,
       "grid_template_rows": null,
       "height": null,
       "justify_content": null,
       "justify_items": null,
       "left": null,
       "margin": null,
       "max_height": null,
       "max_width": null,
       "min_height": null,
       "min_width": null,
       "object_fit": null,
       "object_position": null,
       "order": null,
       "overflow": null,
       "overflow_x": null,
       "overflow_y": null,
       "padding": null,
       "right": null,
       "top": null,
       "visibility": null,
       "width": null
      }
     },
     "788d29071da944afa8b4f5e8c969c908": {
      "model_module": "@jupyter-widgets/controls",
      "model_module_version": "1.5.0",
      "model_name": "ProgressStyleModel",
      "state": {
       "_model_module": "@jupyter-widgets/controls",
       "_model_module_version": "1.5.0",
       "_model_name": "ProgressStyleModel",
       "_view_count": null,
       "_view_module": "@jupyter-widgets/base",
       "_view_module_version": "1.2.0",
       "_view_name": "StyleView",
       "bar_color": null,
       "description_width": ""
      }
     },
     "7d9d80566cb144f1ad457aabfbe7a814": {
      "model_module": "@jupyter-widgets/base",
      "model_module_version": "1.2.0",
      "model_name": "LayoutModel",
      "state": {
       "_model_module": "@jupyter-widgets/base",
       "_model_module_version": "1.2.0",
       "_model_name": "LayoutModel",
       "_view_count": null,
       "_view_module": "@jupyter-widgets/base",
       "_view_module_version": "1.2.0",
       "_view_name": "LayoutView",
       "align_content": null,
       "align_items": null,
       "align_self": null,
       "border": null,
       "bottom": null,
       "display": null,
       "flex": null,
       "flex_flow": null,
       "grid_area": null,
       "grid_auto_columns": null,
       "grid_auto_flow": null,
       "grid_auto_rows": null,
       "grid_column": null,
       "grid_gap": null,
       "grid_row": null,
       "grid_template_areas": null,
       "grid_template_columns": null,
       "grid_template_rows": null,
       "height": null,
       "justify_content": null,
       "justify_items": null,
       "left": null,
       "margin": null,
       "max_height": null,
       "max_width": null,
       "min_height": null,
       "min_width": null,
       "object_fit": null,
       "object_position": null,
       "order": null,
       "overflow": null,
       "overflow_x": null,
       "overflow_y": null,
       "padding": null,
       "right": null,
       "top": null,
       "visibility": null,
       "width": null
      }
     },
     "83de3c0e33ca4ced987f497aeccdf40f": {
      "model_module": "@jupyter-widgets/base",
      "model_module_version": "1.2.0",
      "model_name": "LayoutModel",
      "state": {
       "_model_module": "@jupyter-widgets/base",
       "_model_module_version": "1.2.0",
       "_model_name": "LayoutModel",
       "_view_count": null,
       "_view_module": "@jupyter-widgets/base",
       "_view_module_version": "1.2.0",
       "_view_name": "LayoutView",
       "align_content": null,
       "align_items": null,
       "align_self": null,
       "border": null,
       "bottom": null,
       "display": null,
       "flex": null,
       "flex_flow": null,
       "grid_area": null,
       "grid_auto_columns": null,
       "grid_auto_flow": null,
       "grid_auto_rows": null,
       "grid_column": null,
       "grid_gap": null,
       "grid_row": null,
       "grid_template_areas": null,
       "grid_template_columns": null,
       "grid_template_rows": null,
       "height": null,
       "justify_content": null,
       "justify_items": null,
       "left": null,
       "margin": null,
       "max_height": null,
       "max_width": null,
       "min_height": null,
       "min_width": null,
       "object_fit": null,
       "object_position": null,
       "order": null,
       "overflow": null,
       "overflow_x": null,
       "overflow_y": null,
       "padding": null,
       "right": null,
       "top": null,
       "visibility": null,
       "width": null
      }
     },
     "8b29f84aadff474a9c971089ddda5fef": {
      "model_module": "@jupyter-widgets/controls",
      "model_module_version": "1.5.0",
      "model_name": "ProgressStyleModel",
      "state": {
       "_model_module": "@jupyter-widgets/controls",
       "_model_module_version": "1.5.0",
       "_model_name": "ProgressStyleModel",
       "_view_count": null,
       "_view_module": "@jupyter-widgets/base",
       "_view_module_version": "1.2.0",
       "_view_name": "StyleView",
       "bar_color": null,
       "description_width": ""
      }
     },
     "8b44fd14673e41daae5a25dd1617c70f": {
      "model_module": "@jupyter-widgets/base",
      "model_module_version": "1.2.0",
      "model_name": "LayoutModel",
      "state": {
       "_model_module": "@jupyter-widgets/base",
       "_model_module_version": "1.2.0",
       "_model_name": "LayoutModel",
       "_view_count": null,
       "_view_module": "@jupyter-widgets/base",
       "_view_module_version": "1.2.0",
       "_view_name": "LayoutView",
       "align_content": null,
       "align_items": null,
       "align_self": null,
       "border": null,
       "bottom": null,
       "display": null,
       "flex": null,
       "flex_flow": null,
       "grid_area": null,
       "grid_auto_columns": null,
       "grid_auto_flow": null,
       "grid_auto_rows": null,
       "grid_column": null,
       "grid_gap": null,
       "grid_row": null,
       "grid_template_areas": null,
       "grid_template_columns": null,
       "grid_template_rows": null,
       "height": null,
       "justify_content": null,
       "justify_items": null,
       "left": null,
       "margin": null,
       "max_height": null,
       "max_width": null,
       "min_height": null,
       "min_width": null,
       "object_fit": null,
       "object_position": null,
       "order": null,
       "overflow": null,
       "overflow_x": null,
       "overflow_y": null,
       "padding": null,
       "right": null,
       "top": null,
       "visibility": null,
       "width": null
      }
     },
     "9972764433204bbd8091743e9b2c9576": {
      "model_module": "@jupyter-widgets/controls",
      "model_module_version": "1.5.0",
      "model_name": "LabelModel",
      "state": {
       "_dom_classes": [],
       "_model_module": "@jupyter-widgets/controls",
       "_model_module_version": "1.5.0",
       "_model_name": "LabelModel",
       "_view_count": null,
       "_view_module": "@jupyter-widgets/controls",
       "_view_module_version": "1.5.0",
       "_view_name": "LabelView",
       "description": "",
       "description_tooltip": null,
       "layout": "IPY_MODEL_f9bda52086f8434691492155c3dc7127",
       "placeholder": "​",
       "style": "IPY_MODEL_5be98cf438b147f198a218258bf619fa",
       "value": " 0.01MB of 0.01MB uploaded (0.00MB deduped)\r"
      }
     },
     "9cb21801745e41d5ac6d8a812432fdfc": {
      "model_module": "@jupyter-widgets/controls",
      "model_module_version": "1.5.0",
      "model_name": "VBoxModel",
      "state": {
       "_dom_classes": [],
       "_model_module": "@jupyter-widgets/controls",
       "_model_module_version": "1.5.0",
       "_model_name": "VBoxModel",
       "_view_count": null,
       "_view_module": "@jupyter-widgets/controls",
       "_view_module_version": "1.5.0",
       "_view_name": "VBoxView",
       "box_style": "",
       "children": [
        "IPY_MODEL_244e8ff1d90d4e0594e53adee459b7e7",
        "IPY_MODEL_2fe5532ce0f64ebab5ae005d24443f04"
       ],
       "layout": "IPY_MODEL_83de3c0e33ca4ced987f497aeccdf40f"
      }
     },
     "a36579c0c4614b3d82a58c315b82f103": {
      "model_module": "@jupyter-widgets/controls",
      "model_module_version": "1.5.0",
      "model_name": "VBoxModel",
      "state": {
       "_dom_classes": [],
       "_model_module": "@jupyter-widgets/controls",
       "_model_module_version": "1.5.0",
       "_model_name": "VBoxModel",
       "_view_count": null,
       "_view_module": "@jupyter-widgets/controls",
       "_view_module_version": "1.5.0",
       "_view_name": "VBoxView",
       "box_style": "",
       "children": [
        "IPY_MODEL_5a47ab80430247caaf992e205a517dd0",
        "IPY_MODEL_f9f3db9626074f1aa19fb40203b3a9b7"
       ],
       "layout": "IPY_MODEL_15b28f19a55c4924b3da6eaeedea0384"
      }
     },
     "b79775d3a74343a0a8b335099e8a649c": {
      "model_module": "@jupyter-widgets/controls",
      "model_module_version": "1.5.0",
      "model_name": "DescriptionStyleModel",
      "state": {
       "_model_module": "@jupyter-widgets/controls",
       "_model_module_version": "1.5.0",
       "_model_name": "DescriptionStyleModel",
       "_view_count": null,
       "_view_module": "@jupyter-widgets/base",
       "_view_module_version": "1.2.0",
       "_view_name": "StyleView",
       "description_width": ""
      }
     },
     "c47b92aaa992437588b3c899a4931bbc": {
      "model_module": "@jupyter-widgets/base",
      "model_module_version": "1.2.0",
      "model_name": "LayoutModel",
      "state": {
       "_model_module": "@jupyter-widgets/base",
       "_model_module_version": "1.2.0",
       "_model_name": "LayoutModel",
       "_view_count": null,
       "_view_module": "@jupyter-widgets/base",
       "_view_module_version": "1.2.0",
       "_view_name": "LayoutView",
       "align_content": null,
       "align_items": null,
       "align_self": null,
       "border": null,
       "bottom": null,
       "display": null,
       "flex": null,
       "flex_flow": null,
       "grid_area": null,
       "grid_auto_columns": null,
       "grid_auto_flow": null,
       "grid_auto_rows": null,
       "grid_column": null,
       "grid_gap": null,
       "grid_row": null,
       "grid_template_areas": null,
       "grid_template_columns": null,
       "grid_template_rows": null,
       "height": null,
       "justify_content": null,
       "justify_items": null,
       "left": null,
       "margin": null,
       "max_height": null,
       "max_width": null,
       "min_height": null,
       "min_width": null,
       "object_fit": null,
       "object_position": null,
       "order": null,
       "overflow": null,
       "overflow_x": null,
       "overflow_y": null,
       "padding": null,
       "right": null,
       "top": null,
       "visibility": null,
       "width": null
      }
     },
     "d0a13159e499462cb7f8c621ba35d4dc": {
      "model_module": "@jupyter-widgets/controls",
      "model_module_version": "1.5.0",
      "model_name": "ProgressStyleModel",
      "state": {
       "_model_module": "@jupyter-widgets/controls",
       "_model_module_version": "1.5.0",
       "_model_name": "ProgressStyleModel",
       "_view_count": null,
       "_view_module": "@jupyter-widgets/base",
       "_view_module_version": "1.2.0",
       "_view_name": "StyleView",
       "bar_color": null,
       "description_width": ""
      }
     },
     "d30dc3f437be4ad6b34cb624cf1f38e9": {
      "model_module": "@jupyter-widgets/controls",
      "model_module_version": "1.5.0",
      "model_name": "ProgressStyleModel",
      "state": {
       "_model_module": "@jupyter-widgets/controls",
       "_model_module_version": "1.5.0",
       "_model_name": "ProgressStyleModel",
       "_view_count": null,
       "_view_module": "@jupyter-widgets/base",
       "_view_module_version": "1.2.0",
       "_view_name": "StyleView",
       "bar_color": null,
       "description_width": ""
      }
     },
     "d7d6bccd63ec4900bceeae0c1244a692": {
      "model_module": "@jupyter-widgets/base",
      "model_module_version": "1.2.0",
      "model_name": "LayoutModel",
      "state": {
       "_model_module": "@jupyter-widgets/base",
       "_model_module_version": "1.2.0",
       "_model_name": "LayoutModel",
       "_view_count": null,
       "_view_module": "@jupyter-widgets/base",
       "_view_module_version": "1.2.0",
       "_view_name": "LayoutView",
       "align_content": null,
       "align_items": null,
       "align_self": null,
       "border": null,
       "bottom": null,
       "display": null,
       "flex": null,
       "flex_flow": null,
       "grid_area": null,
       "grid_auto_columns": null,
       "grid_auto_flow": null,
       "grid_auto_rows": null,
       "grid_column": null,
       "grid_gap": null,
       "grid_row": null,
       "grid_template_areas": null,
       "grid_template_columns": null,
       "grid_template_rows": null,
       "height": null,
       "justify_content": null,
       "justify_items": null,
       "left": null,
       "margin": null,
       "max_height": null,
       "max_width": null,
       "min_height": null,
       "min_width": null,
       "object_fit": null,
       "object_position": null,
       "order": null,
       "overflow": null,
       "overflow_x": null,
       "overflow_y": null,
       "padding": null,
       "right": null,
       "top": null,
       "visibility": null,
       "width": null
      }
     },
     "d8f5171ca6354fb18322b32c6428284f": {
      "model_module": "@jupyter-widgets/controls",
      "model_module_version": "1.5.0",
      "model_name": "LabelModel",
      "state": {
       "_dom_classes": [],
       "_model_module": "@jupyter-widgets/controls",
       "_model_module_version": "1.5.0",
       "_model_name": "LabelModel",
       "_view_count": null,
       "_view_module": "@jupyter-widgets/controls",
       "_view_module_version": "1.5.0",
       "_view_name": "LabelView",
       "description": "",
       "description_tooltip": null,
       "layout": "IPY_MODEL_f688e2d2154b4fb0b888d32cc3f130e8",
       "placeholder": "​",
       "style": "IPY_MODEL_285c4dadeaf546aa81664d1835bffc53",
       "value": " 0.01MB of 0.01MB uploaded (0.00MB deduped)\r"
      }
     },
     "d9da3d08a33049a8b38405e7eee73a45": {
      "model_module": "@jupyter-widgets/controls",
      "model_module_version": "1.5.0",
      "model_name": "VBoxModel",
      "state": {
       "_dom_classes": [],
       "_model_module": "@jupyter-widgets/controls",
       "_model_module_version": "1.5.0",
       "_model_name": "VBoxModel",
       "_view_count": null,
       "_view_module": "@jupyter-widgets/controls",
       "_view_module_version": "1.5.0",
       "_view_name": "VBoxView",
       "box_style": "",
       "children": [
        "IPY_MODEL_d8f5171ca6354fb18322b32c6428284f",
        "IPY_MODEL_2c9fc9f1162b46e39604ba454b2ac76b"
       ],
       "layout": "IPY_MODEL_8b44fd14673e41daae5a25dd1617c70f"
      }
     },
     "ed8b61d15c424349b8acbef48cb7ca6d": {
      "model_module": "@jupyter-widgets/controls",
      "model_module_version": "1.5.0",
      "model_name": "VBoxModel",
      "state": {
       "_dom_classes": [],
       "_model_module": "@jupyter-widgets/controls",
       "_model_module_version": "1.5.0",
       "_model_name": "VBoxModel",
       "_view_count": null,
       "_view_module": "@jupyter-widgets/controls",
       "_view_module_version": "1.5.0",
       "_view_name": "VBoxView",
       "box_style": "",
       "children": [
        "IPY_MODEL_6d4b95163b0e4d10bb1cf9f9151427e8",
        "IPY_MODEL_0d5b542fed0a4b4f91a932f0c643c7eb"
       ],
       "layout": "IPY_MODEL_51abfe0b12724d61a1594815a778eda4"
      }
     },
     "f4872e52cf5049d3aa4d62e7b49f4937": {
      "model_module": "@jupyter-widgets/controls",
      "model_module_version": "1.5.0",
      "model_name": "ProgressStyleModel",
      "state": {
       "_model_module": "@jupyter-widgets/controls",
       "_model_module_version": "1.5.0",
       "_model_name": "ProgressStyleModel",
       "_view_count": null,
       "_view_module": "@jupyter-widgets/base",
       "_view_module_version": "1.2.0",
       "_view_name": "StyleView",
       "bar_color": null,
       "description_width": ""
      }
     },
     "f688e2d2154b4fb0b888d32cc3f130e8": {
      "model_module": "@jupyter-widgets/base",
      "model_module_version": "1.2.0",
      "model_name": "LayoutModel",
      "state": {
       "_model_module": "@jupyter-widgets/base",
       "_model_module_version": "1.2.0",
       "_model_name": "LayoutModel",
       "_view_count": null,
       "_view_module": "@jupyter-widgets/base",
       "_view_module_version": "1.2.0",
       "_view_name": "LayoutView",
       "align_content": null,
       "align_items": null,
       "align_self": null,
       "border": null,
       "bottom": null,
       "display": null,
       "flex": null,
       "flex_flow": null,
       "grid_area": null,
       "grid_auto_columns": null,
       "grid_auto_flow": null,
       "grid_auto_rows": null,
       "grid_column": null,
       "grid_gap": null,
       "grid_row": null,
       "grid_template_areas": null,
       "grid_template_columns": null,
       "grid_template_rows": null,
       "height": null,
       "justify_content": null,
       "justify_items": null,
       "left": null,
       "margin": null,
       "max_height": null,
       "max_width": null,
       "min_height": null,
       "min_width": null,
       "object_fit": null,
       "object_position": null,
       "order": null,
       "overflow": null,
       "overflow_x": null,
       "overflow_y": null,
       "padding": null,
       "right": null,
       "top": null,
       "visibility": null,
       "width": null
      }
     },
     "f69a3e35b0da47a98a8c5e3d7cebb033": {
      "model_module": "@jupyter-widgets/controls",
      "model_module_version": "1.5.0",
      "model_name": "VBoxModel",
      "state": {
       "_dom_classes": [],
       "_model_module": "@jupyter-widgets/controls",
       "_model_module_version": "1.5.0",
       "_model_name": "VBoxModel",
       "_view_count": null,
       "_view_module": "@jupyter-widgets/controls",
       "_view_module_version": "1.5.0",
       "_view_name": "VBoxView",
       "box_style": "",
       "children": [
        "IPY_MODEL_9972764433204bbd8091743e9b2c9576",
        "IPY_MODEL_723da764418149089c5885b47cbfe9be"
       ],
       "layout": "IPY_MODEL_506b1e109bb14321b531895350f27699"
      }
     },
     "f9bda52086f8434691492155c3dc7127": {
      "model_module": "@jupyter-widgets/base",
      "model_module_version": "1.2.0",
      "model_name": "LayoutModel",
      "state": {
       "_model_module": "@jupyter-widgets/base",
       "_model_module_version": "1.2.0",
       "_model_name": "LayoutModel",
       "_view_count": null,
       "_view_module": "@jupyter-widgets/base",
       "_view_module_version": "1.2.0",
       "_view_name": "LayoutView",
       "align_content": null,
       "align_items": null,
       "align_self": null,
       "border": null,
       "bottom": null,
       "display": null,
       "flex": null,
       "flex_flow": null,
       "grid_area": null,
       "grid_auto_columns": null,
       "grid_auto_flow": null,
       "grid_auto_rows": null,
       "grid_column": null,
       "grid_gap": null,
       "grid_row": null,
       "grid_template_areas": null,
       "grid_template_columns": null,
       "grid_template_rows": null,
       "height": null,
       "justify_content": null,
       "justify_items": null,
       "left": null,
       "margin": null,
       "max_height": null,
       "max_width": null,
       "min_height": null,
       "min_width": null,
       "object_fit": null,
       "object_position": null,
       "order": null,
       "overflow": null,
       "overflow_x": null,
       "overflow_y": null,
       "padding": null,
       "right": null,
       "top": null,
       "visibility": null,
       "width": null
      }
     },
     "f9f3db9626074f1aa19fb40203b3a9b7": {
      "model_module": "@jupyter-widgets/controls",
      "model_module_version": "1.5.0",
      "model_name": "FloatProgressModel",
      "state": {
       "_dom_classes": [],
       "_model_module": "@jupyter-widgets/controls",
       "_model_module_version": "1.5.0",
       "_model_name": "FloatProgressModel",
       "_view_count": null,
       "_view_module": "@jupyter-widgets/controls",
       "_view_module_version": "1.5.0",
       "_view_name": "ProgressView",
       "bar_style": "",
       "description": "",
       "description_tooltip": null,
       "layout": "IPY_MODEL_168a0fb55e40450388d96639cb503f26",
       "max": 1.0,
       "min": 0.0,
       "orientation": "horizontal",
       "style": "IPY_MODEL_788d29071da944afa8b4f5e8c969c908",
       "value": 1.0
      }
     }
    },
    "version_major": 2,
    "version_minor": 0
   }
  }
 },
 "nbformat": 4,
 "nbformat_minor": 5
}
